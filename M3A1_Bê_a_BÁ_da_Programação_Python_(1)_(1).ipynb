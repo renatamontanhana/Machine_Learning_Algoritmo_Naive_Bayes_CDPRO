{
  "cells": [
    {
      "cell_type": "markdown",
      "metadata": {
        "id": "view-in-github",
        "colab_type": "text"
      },
      "source": [
        "<a href=\"https://colab.research.google.com/github/renatamontanhana/Machine_Learning_Algoritmo_Naive_Bayes_CDPRO/blob/main/M3A1_B%C3%AA_a_B%C3%81_da_Programa%C3%A7%C3%A3o_Python_(1)_(1).ipynb\" target=\"_parent\"><img src=\"https://colab.research.google.com/assets/colab-badge.svg\" alt=\"Open In Colab\"/></a>"
      ]
    },
    {
      "cell_type": "markdown",
      "metadata": {
        "id": "mZVCagpZvZfE"
      },
      "source": [
        "![alt text](https://encrypted-tbn0.gstatic.com/images?q=tbn%3AANd9GcTK4gQ9nhwHHaSXMHpeggWg7twwMCgb877smkRmtkmDeDoGF9Z6&usqp=CAU)"
      ]
    },
    {
      "cell_type": "markdown",
      "metadata": {
        "id": "nbPb0q01k11H"
      },
      "source": [
        "##<font color='blue'>CDP - Cientista de Dados na Prática </font>\n",
        "\n",
        "##<font color='grey'>Módulo 3</font>\n",
        "\n"
      ]
    },
    {
      "cell_type": "markdown",
      "metadata": {
        "id": "hzUPnhVCA01h"
      },
      "source": [
        "# Primeiros Comandos Python"
      ]
    },
    {
      "cell_type": "code",
      "execution_count": null,
      "metadata": {
        "id": "7BX1nzjC2eFo"
      },
      "outputs": [],
      "source": [
        "# Esse é um comentário"
      ]
    },
    {
      "cell_type": "code",
      "execution_count": null,
      "metadata": {
        "id": "HTpQmmjr2eFu",
        "outputId": "99d45bba-3b9b-4b96-992e-52913062be9d"
      },
      "outputs": [
        {
          "name": "stdout",
          "output_type": "stream",
          "text": [
            "Hello World\n"
          ]
        }
      ],
      "source": [
        "print ('Hello World')"
      ]
    },
    {
      "cell_type": "code",
      "execution_count": null,
      "metadata": {
        "colab": {
          "base_uri": "https://localhost:8080/",
          "height": 34
        },
        "id": "Ce0_ZqaG2eFz",
        "outputId": "df05b8b5-9ec7-495d-cb7c-e4504bb97d96"
      },
      "outputs": [
        {
          "data": {
            "text/plain": [
              "'Hello World'"
            ]
          },
          "execution_count": 30,
          "metadata": {},
          "output_type": "execute_result"
        }
      ],
      "source": [
        "'Hello World'"
      ]
    },
    {
      "cell_type": "code",
      "execution_count": null,
      "metadata": {
        "id": "KhkjiJAK2eF3"
      },
      "outputs": [],
      "source": [
        "# Operações Matemáticas. Pressione CTRL + ENTER para executar a célula"
      ]
    },
    {
      "cell_type": "code",
      "execution_count": null,
      "metadata": {
        "colab": {
          "base_uri": "https://localhost:8080/",
          "height": 34
        },
        "id": "t36qspTY2eF7",
        "outputId": "60859424-abf9-4066-c103-a147bb12e7cc"
      },
      "outputs": [
        {
          "data": {
            "text/plain": [
              "12"
            ]
          },
          "execution_count": 32,
          "metadata": {},
          "output_type": "execute_result"
        }
      ],
      "source": [
        "2 + 10"
      ]
    },
    {
      "cell_type": "code",
      "execution_count": null,
      "metadata": {
        "colab": {
          "base_uri": "https://localhost:8080/",
          "height": 34
        },
        "id": "eADnXTV-2eGA",
        "outputId": "952eca5b-3a28-4c31-dad8-1e504878b89b"
      },
      "outputs": [
        {
          "data": {
            "text/plain": [
              "10"
            ]
          },
          "execution_count": 33,
          "metadata": {},
          "output_type": "execute_result"
        }
      ],
      "source": [
        "# Subtração\n",
        "12 - 2"
      ]
    },
    {
      "cell_type": "code",
      "execution_count": null,
      "metadata": {
        "id": "QatSQsQU2eGE",
        "outputId": "cac91481-49ae-4814-e295-d1995727ffd9"
      },
      "outputs": [
        {
          "data": {
            "text/plain": [
              "1.0"
            ]
          },
          "execution_count": 34,
          "metadata": {},
          "output_type": "execute_result"
        }
      ],
      "source": [
        "2 / 2"
      ]
    },
    {
      "cell_type": "code",
      "execution_count": null,
      "metadata": {
        "id": "f-fYR8-X2eGK"
      },
      "outputs": [],
      "source": [
        "# Multiplicação"
      ]
    },
    {
      "cell_type": "code",
      "execution_count": null,
      "metadata": {
        "colab": {
          "base_uri": "https://localhost:8080/",
          "height": 34
        },
        "id": "mM8Atv0i2eGO",
        "outputId": "31a33b21-27a2-4b0c-fcca-afb5e23c0c76"
      },
      "outputs": [
        {
          "data": {
            "text/plain": [
              "4"
            ]
          },
          "execution_count": 36,
          "metadata": {},
          "output_type": "execute_result"
        }
      ],
      "source": [
        " 2 * 2"
      ]
    },
    {
      "cell_type": "code",
      "execution_count": null,
      "metadata": {
        "id": "jz98z77k2eGU"
      },
      "outputs": [],
      "source": [
        "# Divisão"
      ]
    },
    {
      "cell_type": "code",
      "execution_count": null,
      "metadata": {
        "colab": {
          "base_uri": "https://localhost:8080/",
          "height": 34
        },
        "id": "wBw3RViu2eGX",
        "outputId": "b1657c92-e593-4265-ea1d-c1c391eaee69"
      },
      "outputs": [
        {
          "data": {
            "text/plain": [
              "1.0"
            ]
          },
          "execution_count": 38,
          "metadata": {},
          "output_type": "execute_result"
        }
      ],
      "source": [
        "2 / 2"
      ]
    },
    {
      "cell_type": "code",
      "execution_count": null,
      "metadata": {
        "id": "G-NI9Qqb2eGd"
      },
      "outputs": [],
      "source": [
        "# Numeros Float"
      ]
    },
    {
      "cell_type": "code",
      "execution_count": null,
      "metadata": {
        "colab": {
          "base_uri": "https://localhost:8080/",
          "height": 34
        },
        "id": "vw_StqNy2eGh",
        "outputId": "9b209221-4fa8-4ca5-f25b-0a636eb87bf2"
      },
      "outputs": [
        {
          "data": {
            "text/plain": [
              "9.8"
            ]
          },
          "execution_count": 40,
          "metadata": {},
          "output_type": "execute_result"
        }
      ],
      "source": [
        "3.2 + 6.6"
      ]
    },
    {
      "cell_type": "code",
      "execution_count": null,
      "metadata": {
        "colab": {
          "base_uri": "https://localhost:8080/",
          "height": 34
        },
        "id": "OuhLjGB82eGk",
        "outputId": "836ad40f-a9fe-48fa-a456-a365ded44a76"
      },
      "outputs": [
        {
          "data": {
            "text/plain": [
              "4.4"
            ]
          },
          "execution_count": 41,
          "metadata": {},
          "output_type": "execute_result"
        }
      ],
      "source": [
        "8.8 / 2"
      ]
    },
    {
      "cell_type": "code",
      "execution_count": null,
      "metadata": {
        "colab": {
          "base_uri": "https://localhost:8080/",
          "height": 34
        },
        "id": "DMs93BgP2eGo",
        "outputId": "6b4219a5-ccd9-4e4f-9107-5ce0b7174b35"
      },
      "outputs": [
        {
          "data": {
            "text/plain": [
              "25.5"
            ]
          },
          "execution_count": 42,
          "metadata": {},
          "output_type": "execute_result"
        }
      ],
      "source": [
        "10.2 * 2.5"
      ]
    },
    {
      "cell_type": "markdown",
      "metadata": {
        "collapsed": true,
        "id": "16HQ7zE62eGr"
      },
      "source": [
        "# Funções no Python"
      ]
    },
    {
      "cell_type": "code",
      "execution_count": null,
      "metadata": {
        "id": "OM7L2-p92eGs",
        "outputId": "cd872e15-9505-42cc-e1b1-1198ba20f14b"
      },
      "outputs": [
        {
          "data": {
            "text/plain": [
              "int"
            ]
          },
          "execution_count": 43,
          "metadata": {},
          "output_type": "execute_result"
        }
      ],
      "source": [
        "type(5)"
      ]
    },
    {
      "cell_type": "code",
      "execution_count": null,
      "metadata": {
        "id": "PWDl1Iuo2eGv",
        "outputId": "51ef507c-e149-4f40-9d5d-87aeea19d7a0"
      },
      "outputs": [
        {
          "data": {
            "text/plain": [
              "float"
            ]
          },
          "execution_count": 44,
          "metadata": {},
          "output_type": "execute_result"
        }
      ],
      "source": [
        "type(6.6)"
      ]
    },
    {
      "cell_type": "code",
      "execution_count": null,
      "metadata": {
        "id": "1QRfdZwd2eGy",
        "outputId": "8f02f236-bd3c-4926-f26b-fb53a0270c37"
      },
      "outputs": [
        {
          "data": {
            "text/plain": [
              "str"
            ]
          },
          "execution_count": 45,
          "metadata": {},
          "output_type": "execute_result"
        }
      ],
      "source": [
        "type(\"Ciência dos Dados\")"
      ]
    },
    {
      "cell_type": "markdown",
      "metadata": {
        "collapsed": true,
        "id": "poBtdVbA2eG1"
      },
      "source": [
        "# Funções de Conversão"
      ]
    },
    {
      "cell_type": "code",
      "execution_count": null,
      "metadata": {
        "colab": {
          "base_uri": "https://localhost:8080/",
          "height": 34
        },
        "id": "wa1AEN_R2eG2",
        "outputId": "350a1d0a-7b26-4e3e-8c31-7f835528b1f0"
      },
      "outputs": [
        {
          "data": {
            "text/plain": [
              "6"
            ]
          },
          "execution_count": 46,
          "metadata": {},
          "output_type": "execute_result"
        }
      ],
      "source": [
        "int(6)"
      ]
    },
    {
      "cell_type": "code",
      "execution_count": null,
      "metadata": {
        "colab": {
          "base_uri": "https://localhost:8080/",
          "height": 34
        },
        "id": "sjGhYJIq2eG5",
        "outputId": "34db3e74-d891-4b78-e83f-d0fc2a45772e"
      },
      "outputs": [
        {
          "data": {
            "text/plain": [
              "6"
            ]
          },
          "execution_count": 47,
          "metadata": {},
          "output_type": "execute_result"
        }
      ],
      "source": [
        "int(6.5)"
      ]
    },
    {
      "cell_type": "code",
      "execution_count": null,
      "metadata": {
        "colab": {
          "base_uri": "https://localhost:8080/",
          "height": 34
        },
        "id": "Nlw6gP7k2eG7",
        "outputId": "bc8c9503-daec-4adf-f194-64efa78fe327"
      },
      "outputs": [
        {
          "data": {
            "text/plain": [
              "6.5"
            ]
          },
          "execution_count": 48,
          "metadata": {},
          "output_type": "execute_result"
        }
      ],
      "source": [
        "float(6.5)"
      ]
    },
    {
      "cell_type": "code",
      "execution_count": null,
      "metadata": {
        "colab": {
          "base_uri": "https://localhost:8080/",
          "height": 34
        },
        "id": "y-qxEvx02eG-",
        "outputId": "18c793b4-d09a-4f25-e15b-9654c5a0a56e"
      },
      "outputs": [
        {
          "data": {
            "text/plain": [
              "6.0"
            ]
          },
          "execution_count": 49,
          "metadata": {},
          "output_type": "execute_result"
        }
      ],
      "source": [
        "float(6)"
      ]
    },
    {
      "cell_type": "code",
      "execution_count": null,
      "metadata": {
        "colab": {
          "base_uri": "https://localhost:8080/",
          "height": 34
        },
        "id": "qdi5dMXS2eHA",
        "outputId": "ed67564e-3681-46ac-d47e-4f91d4e228ac"
      },
      "outputs": [
        {
          "data": {
            "text/plain": [
              "'5'"
            ]
          },
          "execution_count": 50,
          "metadata": {},
          "output_type": "execute_result"
        }
      ],
      "source": [
        "str(5)"
      ]
    },
    {
      "cell_type": "markdown",
      "metadata": {
        "collapsed": true,
        "id": "WtT7tJGu2eHD"
      },
      "source": [
        "# Funções de Arredodamento"
      ]
    },
    {
      "cell_type": "code",
      "execution_count": null,
      "metadata": {
        "colab": {
          "base_uri": "https://localhost:8080/",
          "height": 34
        },
        "id": "2mI22ij92eHE",
        "outputId": "b671b430-7328-47b3-8941-1b318af57761"
      },
      "outputs": [
        {
          "data": {
            "text/plain": [
              "3"
            ]
          },
          "execution_count": 51,
          "metadata": {},
          "output_type": "execute_result"
        }
      ],
      "source": [
        "round(2.898)"
      ]
    },
    {
      "cell_type": "code",
      "execution_count": null,
      "metadata": {
        "colab": {
          "base_uri": "https://localhost:8080/",
          "height": 34
        },
        "id": "k79f3jys2eHG",
        "outputId": "60dee275-0565-40ed-f1ac-cb3db0f56cfd"
      },
      "outputs": [
        {
          "data": {
            "text/plain": [
              "2.5"
            ]
          },
          "execution_count": 52,
          "metadata": {},
          "output_type": "execute_result"
        }
      ],
      "source": [
        "round(2.4545455,1)"
      ]
    },
    {
      "cell_type": "markdown",
      "metadata": {
        "collapsed": true,
        "id": "mHR-HTtm2eHH"
      },
      "source": [
        "# Trabalhando com Variáveis"
      ]
    },
    {
      "cell_type": "code",
      "execution_count": null,
      "metadata": {
        "id": "JpSh4FaM2eHI"
      },
      "outputs": [],
      "source": [
        "var1 = 1\n",
        "var2 = 2\n",
        "var3 = 3"
      ]
    },
    {
      "cell_type": "code",
      "execution_count": null,
      "metadata": {
        "id": "gP2r3m8G2eHJ",
        "outputId": "6352fa9b-2368-4ebd-97c9-7e7e4a69b400"
      },
      "outputs": [
        {
          "data": {
            "text/plain": [
              "1"
            ]
          },
          "execution_count": 54,
          "metadata": {},
          "output_type": "execute_result"
        }
      ],
      "source": [
        "var1"
      ]
    },
    {
      "cell_type": "code",
      "execution_count": null,
      "metadata": {
        "id": "VnERf65Y2eHL",
        "outputId": "7885b21c-7de3-423c-c4c1-c580eb7eed80"
      },
      "outputs": [
        {
          "data": {
            "text/plain": [
              "int"
            ]
          },
          "execution_count": 55,
          "metadata": {},
          "output_type": "execute_result"
        }
      ],
      "source": [
        "type(var1)"
      ]
    },
    {
      "cell_type": "code",
      "execution_count": null,
      "metadata": {
        "id": "ottkH4gF2eHN"
      },
      "outputs": [],
      "source": [
        "var4 = 10"
      ]
    },
    {
      "cell_type": "code",
      "execution_count": null,
      "metadata": {
        "id": "_4OHWFXo2eHP",
        "outputId": "0e810e24-aae4-4006-99b3-e2cf82eefed0"
      },
      "outputs": [
        {
          "data": {
            "text/plain": [
              "10"
            ]
          },
          "execution_count": 57,
          "metadata": {},
          "output_type": "execute_result"
        }
      ],
      "source": [
        "var4"
      ]
    },
    {
      "cell_type": "code",
      "execution_count": null,
      "metadata": {
        "id": "K-JEjHP52eHQ",
        "outputId": "896f5811-b32d-4c58-8ae2-fb02316320dc"
      },
      "outputs": [
        {
          "data": {
            "text/plain": [
              "3"
            ]
          },
          "execution_count": 58,
          "metadata": {},
          "output_type": "execute_result"
        }
      ],
      "source": [
        "var1 + var2"
      ]
    },
    {
      "cell_type": "code",
      "execution_count": null,
      "metadata": {
        "id": "c9Rxcval2eHS"
      },
      "outputs": [],
      "source": [
        "# Reatribuindo um valor a variável var1 graças a TIPAGEM DINÂMICA"
      ]
    },
    {
      "cell_type": "code",
      "execution_count": null,
      "metadata": {
        "id": "L778v1z-2eHU"
      },
      "outputs": [],
      "source": [
        "var1 = 'Ciência dos  Forever'"
      ]
    },
    {
      "cell_type": "code",
      "execution_count": null,
      "metadata": {
        "id": "VEirX7HT2eHV",
        "outputId": "6f53bd53-92cf-433a-b856-617012bccc11"
      },
      "outputs": [
        {
          "data": {
            "text/plain": [
              "str"
            ]
          },
          "execution_count": 62,
          "metadata": {},
          "output_type": "execute_result"
        }
      ],
      "source": [
        "type(var1)"
      ]
    },
    {
      "cell_type": "code",
      "execution_count": null,
      "metadata": {
        "id": "k5n5rmTT2eHX"
      },
      "outputs": [],
      "source": [
        "var2 = 6.78"
      ]
    },
    {
      "cell_type": "code",
      "execution_count": null,
      "metadata": {
        "id": "JX7a8ODd2eHY",
        "outputId": "684a5959-3191-4271-fe8a-e8bab23907c7"
      },
      "outputs": [
        {
          "data": {
            "text/plain": [
              "float"
            ]
          },
          "execution_count": 64,
          "metadata": {},
          "output_type": "execute_result"
        }
      ],
      "source": [
        "type(var2)"
      ]
    },
    {
      "cell_type": "markdown",
      "metadata": {
        "id": "eGNyhMnR2eHa"
      },
      "source": [
        "# Operacões Matemáticas e Variáveis"
      ]
    },
    {
      "cell_type": "code",
      "execution_count": null,
      "metadata": {
        "id": "Gsog6-Su2eHa"
      },
      "outputs": [],
      "source": [
        "resultado = var2 * 10"
      ]
    },
    {
      "cell_type": "code",
      "execution_count": null,
      "metadata": {
        "id": "Qxq_Kp4h2eHc",
        "outputId": "d432b1d5-fbe6-4be3-d9b6-6b9d4d8cea50"
      },
      "outputs": [
        {
          "data": {
            "text/plain": [
              "67.8"
            ]
          },
          "execution_count": 66,
          "metadata": {},
          "output_type": "execute_result"
        }
      ],
      "source": [
        "resultado"
      ]
    },
    {
      "cell_type": "code",
      "execution_count": null,
      "metadata": {
        "id": "VAFk47ey2eHl"
      },
      "outputs": [],
      "source": [
        "resultado = 200 / 3"
      ]
    },
    {
      "cell_type": "code",
      "execution_count": null,
      "metadata": {
        "id": "TbfDuzxO2eH0",
        "colab": {
          "base_uri": "https://localhost:8080/"
        },
        "outputId": "3f68137c-e048-4003-9dbd-a2496a057346"
      },
      "outputs": [
        {
          "output_type": "execute_result",
          "data": {
            "text/plain": [
              "66.66666666666667"
            ]
          },
          "metadata": {},
          "execution_count": 2
        }
      ],
      "source": [
        "resultado"
      ]
    },
    {
      "cell_type": "code",
      "execution_count": null,
      "metadata": {
        "id": "nO4we1v02eH6"
      },
      "outputs": [],
      "source": [
        "## Declarando vários valores a variaveis"
      ]
    },
    {
      "cell_type": "code",
      "execution_count": null,
      "metadata": {
        "id": "8LCzs-V_2eH9"
      },
      "outputs": [],
      "source": [
        "variavel1, variavel2 = 1, 'Teste'"
      ]
    },
    {
      "cell_type": "code",
      "execution_count": null,
      "metadata": {
        "id": "Tbo9WatT2eIB",
        "colab": {
          "base_uri": "https://localhost:8080/"
        },
        "outputId": "72dbe038-d8b5-47b7-8842-699ecb1fd358"
      },
      "outputs": [
        {
          "output_type": "execute_result",
          "data": {
            "text/plain": [
              "1"
            ]
          },
          "metadata": {},
          "execution_count": 5
        }
      ],
      "source": [
        "variavel1"
      ]
    },
    {
      "cell_type": "code",
      "execution_count": null,
      "metadata": {
        "id": "b8AK-op32eIE",
        "colab": {
          "base_uri": "https://localhost:8080/",
          "height": 36
        },
        "outputId": "74ba221c-be7f-4668-bab8-dc7abbeb5247"
      },
      "outputs": [
        {
          "output_type": "execute_result",
          "data": {
            "text/plain": [
              "'Teste'"
            ],
            "application/vnd.google.colaboratory.intrinsic+json": {
              "type": "string"
            }
          },
          "metadata": {},
          "execution_count": 6
        }
      ],
      "source": [
        "variavel2"
      ]
    },
    {
      "cell_type": "markdown",
      "metadata": {
        "id": "9UoIPQhM2eIH"
      },
      "source": [
        "# Restrições para criação de variáveis"
      ]
    },
    {
      "cell_type": "code",
      "execution_count": null,
      "metadata": {
        "id": "WQjRN83T2eIH"
      },
      "outputs": [],
      "source": [
        "variavel_teste = 2"
      ]
    },
    {
      "cell_type": "code",
      "execution_count": null,
      "metadata": {
        "id": "6xfW8TWj2eIJ",
        "colab": {
          "base_uri": "https://localhost:8080/"
        },
        "outputId": "c77c800d-a5fd-4050-dd3c-e6f0b6434153"
      },
      "outputs": [
        {
          "output_type": "execute_result",
          "data": {
            "text/plain": [
              "2"
            ]
          },
          "metadata": {},
          "execution_count": 8
        }
      ],
      "source": [
        "variavel_teste"
      ]
    },
    {
      "cell_type": "code",
      "execution_count": null,
      "metadata": {
        "id": "60g2i1fb2eIL"
      },
      "outputs": [],
      "source": [
        "var2 = 10"
      ]
    },
    {
      "cell_type": "code",
      "execution_count": null,
      "metadata": {
        "id": "HLTH4r-q2eIP"
      },
      "outputs": [],
      "source": [
        "# Palavras Reservadas não são permitidas: break, if, else, print etc..."
      ]
    },
    {
      "cell_type": "markdown",
      "metadata": {
        "id": "t3K2fvY52eIS"
      },
      "source": [
        "# Trabalhando com Strings"
      ]
    },
    {
      "cell_type": "code",
      "execution_count": null,
      "metadata": {
        "id": "vVUs2h3n2eIT"
      },
      "outputs": [],
      "source": [
        "# Criando uma variável do tipo String"
      ]
    },
    {
      "cell_type": "code",
      "execution_count": null,
      "metadata": {
        "id": "eAySjNNe2eIU"
      },
      "outputs": [],
      "source": [
        "frase = 'Python eh uma linguagem sensacional'"
      ]
    },
    {
      "cell_type": "code",
      "execution_count": null,
      "metadata": {
        "id": "omv4t80D2eIX",
        "colab": {
          "base_uri": "https://localhost:8080/",
          "height": 36
        },
        "outputId": "0cd1d8d3-3cac-4699-bf9d-7040775a966a"
      },
      "outputs": [
        {
          "output_type": "execute_result",
          "data": {
            "text/plain": [
              "'Python eh uma linguagem sensacional'"
            ],
            "application/vnd.google.colaboratory.intrinsic+json": {
              "type": "string"
            }
          },
          "metadata": {},
          "execution_count": 11
        }
      ],
      "source": [
        "frase"
      ]
    },
    {
      "cell_type": "code",
      "execution_count": null,
      "metadata": {
        "id": "O0py9zyw2eIZ"
      },
      "outputs": [],
      "source": [
        "# Indexando Strings."
      ]
    },
    {
      "cell_type": "code",
      "execution_count": null,
      "metadata": {
        "id": "2UdGN4Zs2eIb",
        "colab": {
          "base_uri": "https://localhost:8080/",
          "height": 36
        },
        "outputId": "cc4d31fe-ef3e-4e98-e4a7-280bf542655a"
      },
      "outputs": [
        {
          "output_type": "execute_result",
          "data": {
            "text/plain": [
              "'P'"
            ],
            "application/vnd.google.colaboratory.intrinsic+json": {
              "type": "string"
            }
          },
          "metadata": {},
          "execution_count": 12
        }
      ],
      "source": [
        "# Importante!! o índice começa com o numero 0.\n",
        "frase[0]"
      ]
    },
    {
      "cell_type": "code",
      "execution_count": null,
      "metadata": {
        "id": "Bp_MqY9T2eId",
        "colab": {
          "base_uri": "https://localhost:8080/",
          "height": 36
        },
        "outputId": "ffdef087-fdf1-4bdc-e8c8-efe5deb8469d"
      },
      "outputs": [
        {
          "output_type": "execute_result",
          "data": {
            "text/plain": [
              "'y'"
            ],
            "application/vnd.google.colaboratory.intrinsic+json": {
              "type": "string"
            }
          },
          "metadata": {},
          "execution_count": 13
        }
      ],
      "source": [
        "frase[1]"
      ]
    },
    {
      "cell_type": "code",
      "execution_count": null,
      "metadata": {
        "id": "M6wIc6mA2eIe",
        "colab": {
          "base_uri": "https://localhost:8080/",
          "height": 175
        },
        "outputId": "0082b837-96fe-4b2b-ff03-869a1926f0b9"
      },
      "outputs": [
        {
          "output_type": "error",
          "ename": "TypeError",
          "evalue": "ignored",
          "traceback": [
            "\u001b[0;31m---------------------------------------------------------------------------\u001b[0m",
            "\u001b[0;31mTypeError\u001b[0m                                 Traceback (most recent call last)",
            "\u001b[0;32m<ipython-input-14-325ff18d181a>\u001b[0m in \u001b[0;36m<cell line: 1>\u001b[0;34m()\u001b[0m\n\u001b[0;32m----> 1\u001b[0;31m \u001b[0mfrase\u001b[0m\u001b[0;34m[\u001b[0m\u001b[0;36m0\u001b[0m\u001b[0;34m]\u001b[0m \u001b[0;34m=\u001b[0m \u001b[0;34m'R'\u001b[0m\u001b[0;34m\u001b[0m\u001b[0;34m\u001b[0m\u001b[0m\n\u001b[0m",
            "\u001b[0;31mTypeError\u001b[0m: 'str' object does not support item assignment"
          ]
        }
      ],
      "source": [
        "frase[0] = 'R'"
      ]
    },
    {
      "cell_type": "code",
      "execution_count": null,
      "metadata": {
        "id": "Hg1YsiOf2eIi"
      },
      "outputs": [],
      "source": [
        "# Slicing: Percorrendo Strings"
      ]
    },
    {
      "cell_type": "code",
      "execution_count": null,
      "metadata": {
        "id": "IjLH0RLo2eIk",
        "colab": {
          "base_uri": "https://localhost:8080/",
          "height": 36
        },
        "outputId": "37d8355a-611d-45f7-aca1-2dfbf50c5517"
      },
      "outputs": [
        {
          "output_type": "execute_result",
          "data": {
            "text/plain": [
              "'Python'"
            ],
            "application/vnd.google.colaboratory.intrinsic+json": {
              "type": "string"
            }
          },
          "metadata": {},
          "execution_count": 15
        }
      ],
      "source": [
        "frase[0:6]"
      ]
    },
    {
      "cell_type": "code",
      "execution_count": null,
      "metadata": {
        "id": "fMYRmZwG2eIl",
        "colab": {
          "base_uri": "https://localhost:8080/",
          "height": 36
        },
        "outputId": "b37dc131-b1be-405f-bbea-995a9dba0181"
      },
      "outputs": [
        {
          "output_type": "execute_result",
          "data": {
            "text/plain": [
              "' eh uma linguagem sensacional'"
            ],
            "application/vnd.google.colaboratory.intrinsic+json": {
              "type": "string"
            }
          },
          "metadata": {},
          "execution_count": 16
        }
      ],
      "source": [
        "frase[6:]"
      ]
    },
    {
      "cell_type": "code",
      "execution_count": null,
      "metadata": {
        "id": "eMQS3JQH2eIn",
        "colab": {
          "base_uri": "https://localhost:8080/",
          "height": 36
        },
        "outputId": "a192c18a-0923-45ff-ad18-f7e3bd45f227"
      },
      "outputs": [
        {
          "output_type": "execute_result",
          "data": {
            "text/plain": [
              "'Python'"
            ],
            "application/vnd.google.colaboratory.intrinsic+json": {
              "type": "string"
            }
          },
          "metadata": {},
          "execution_count": 17
        }
      ],
      "source": [
        "frase[:6]"
      ]
    },
    {
      "cell_type": "code",
      "execution_count": null,
      "metadata": {
        "id": "Id0Rc4I82eIo"
      },
      "outputs": [],
      "source": [
        "# Concatennado Strings"
      ]
    },
    {
      "cell_type": "code",
      "execution_count": null,
      "metadata": {
        "id": "FDkS6xJP2eIp"
      },
      "outputs": [],
      "source": [
        "frase1 = 'Python eh uma linguagem fenomenal'"
      ]
    },
    {
      "cell_type": "code",
      "execution_count": null,
      "metadata": {
        "id": "Ri2R2izv2eIr"
      },
      "outputs": [],
      "source": [
        "frase2 = ' para qualquer cientista de dados'"
      ]
    },
    {
      "cell_type": "code",
      "execution_count": null,
      "metadata": {
        "id": "9wptItAB2eIs",
        "colab": {
          "base_uri": "https://localhost:8080/",
          "height": 36
        },
        "outputId": "17d44963-f180-4b3b-bc35-b51940d98e51"
      },
      "outputs": [
        {
          "output_type": "execute_result",
          "data": {
            "text/plain": [
              "'Python eh uma linguagem fenomenal para qualquer cientista de dados'"
            ],
            "application/vnd.google.colaboratory.intrinsic+json": {
              "type": "string"
            }
          },
          "metadata": {},
          "execution_count": 24
        }
      ],
      "source": [
        "frase3 = frase1 + frase2\n",
        "frase3"
      ]
    },
    {
      "cell_type": "code",
      "execution_count": null,
      "metadata": {
        "id": "9c6L4keX2eIt"
      },
      "outputs": [],
      "source": [
        "# Objeto String - Métodos"
      ]
    },
    {
      "cell_type": "code",
      "execution_count": null,
      "metadata": {
        "id": "6Hw_fx0p2eIu"
      },
      "outputs": [],
      "source": [
        "frase = 'Minerando Dados a maior comunidade de Data Science do Brasil.'"
      ]
    },
    {
      "cell_type": "code",
      "execution_count": null,
      "metadata": {
        "id": "up8lnUMM2eIx",
        "colab": {
          "base_uri": "https://localhost:8080/"
        },
        "outputId": "80d135da-e7a1-4cc0-f9c6-5982d5602261"
      },
      "outputs": [
        {
          "output_type": "execute_result",
          "data": {
            "text/plain": [
              "1"
            ]
          },
          "metadata": {},
          "execution_count": 23
        }
      ],
      "source": [
        "frase.count('Dados')"
      ]
    },
    {
      "cell_type": "code",
      "execution_count": null,
      "metadata": {
        "id": "g87wmHHa2eIy"
      },
      "outputs": [],
      "source": [
        "# A função lower()"
      ]
    },
    {
      "cell_type": "code",
      "execution_count": null,
      "metadata": {
        "id": "hfbLyM6K2eIz",
        "colab": {
          "base_uri": "https://localhost:8080/",
          "height": 36
        },
        "outputId": "3d4f50e7-c065-4e31-b0ce-7823d6811b44"
      },
      "outputs": [
        {
          "output_type": "execute_result",
          "data": {
            "text/plain": [
              "'minerando dados a maior comunidade de data science do brasil.'"
            ],
            "application/vnd.google.colaboratory.intrinsic+json": {
              "type": "string"
            }
          },
          "metadata": {},
          "execution_count": 26
        }
      ],
      "source": [
        "frase.lower()"
      ]
    },
    {
      "cell_type": "code",
      "execution_count": null,
      "metadata": {
        "id": "7VSWLEl72eI0",
        "colab": {
          "base_uri": "https://localhost:8080/",
          "height": 36
        },
        "outputId": "2af915e0-513b-49ea-d8b5-e2224e4b7f0b"
      },
      "outputs": [
        {
          "output_type": "execute_result",
          "data": {
            "text/plain": [
              "'MINERANDO DADOS A MAIOR COMUNIDADE DE DATA SCIENCE DO BRASIL.'"
            ],
            "application/vnd.google.colaboratory.intrinsic+json": {
              "type": "string"
            }
          },
          "metadata": {},
          "execution_count": 27
        }
      ],
      "source": [
        "frase.upper()"
      ]
    },
    {
      "cell_type": "code",
      "execution_count": null,
      "metadata": {
        "id": "pYdU5G6O2eI1",
        "colab": {
          "base_uri": "https://localhost:8080/",
          "height": 36
        },
        "outputId": "c6a20e5d-577e-46a6-c5d0-dcd1afc0b8a9"
      },
      "outputs": [
        {
          "output_type": "execute_result",
          "data": {
            "text/plain": [
              "'Minerando dados a maior comunidade de data science do brasil.'"
            ],
            "application/vnd.google.colaboratory.intrinsic+json": {
              "type": "string"
            }
          },
          "metadata": {},
          "execution_count": 28
        }
      ],
      "source": [
        "frase.capitalize()"
      ]
    },
    {
      "cell_type": "code",
      "execution_count": null,
      "metadata": {
        "id": "av2z-XDn2eI2",
        "colab": {
          "base_uri": "https://localhost:8080/"
        },
        "outputId": "a2b41d10-c012-41dd-ac3b-8d38cd1bbb32"
      },
      "outputs": [
        {
          "output_type": "execute_result",
          "data": {
            "text/plain": [
              "False"
            ]
          },
          "metadata": {},
          "execution_count": 29
        }
      ],
      "source": [
        "frase.islower()"
      ]
    },
    {
      "cell_type": "code",
      "execution_count": null,
      "metadata": {
        "id": "uy6aUpRt2eI3",
        "colab": {
          "base_uri": "https://localhost:8080/"
        },
        "outputId": "39856926-29ed-456a-9f13-b8018a2fd1db"
      },
      "outputs": [
        {
          "output_type": "execute_result",
          "data": {
            "text/plain": [
              "['Minerando',\n",
              " 'Dados',\n",
              " 'a',\n",
              " 'maior',\n",
              " 'comunidade',\n",
              " 'de',\n",
              " 'Data',\n",
              " 'Science',\n",
              " 'do',\n",
              " 'Brasil.']"
            ]
          },
          "metadata": {},
          "execution_count": 30
        }
      ],
      "source": [
        "# Quebrando a string em uma lista de termos\n",
        "frase.split()"
      ]
    },
    {
      "cell_type": "markdown",
      "metadata": {
        "id": "wC61Bnce2eI5"
      },
      "source": [
        "# Trabalhando com Listas"
      ]
    },
    {
      "cell_type": "code",
      "execution_count": null,
      "metadata": {
        "id": "v6Wyng5b2eI6",
        "colab": {
          "base_uri": "https://localhost:8080/"
        },
        "outputId": "004059e4-a3f8-4d5d-a5a8-9d789a6084b5"
      },
      "outputs": [
        {
          "output_type": "execute_result",
          "data": {
            "text/plain": [
              "[1, 2, 3]"
            ]
          },
          "metadata": {},
          "execution_count": 31
        }
      ],
      "source": [
        "# Sintaxe para criar listas no Python\n",
        "bixos = [1,2,3]\n",
        "bixos"
      ]
    },
    {
      "cell_type": "code",
      "execution_count": null,
      "metadata": {
        "id": "TjKV68fN2eI7"
      },
      "outputs": [],
      "source": [
        "# listas com tipos de dados diferentes\n",
        "bixos = ['dog','cat',122344545,13.9,[0,0,1]]"
      ]
    },
    {
      "cell_type": "code",
      "execution_count": null,
      "metadata": {
        "id": "fHeiW3h72eI8",
        "colab": {
          "base_uri": "https://localhost:8080/"
        },
        "outputId": "0af41771-70e2-4940-de49-9a1daf2dae49"
      },
      "outputs": [
        {
          "output_type": "execute_result",
          "data": {
            "text/plain": [
              "['dog', 'cat', 122344545, 13.9, [0, 0, 1]]"
            ]
          },
          "metadata": {},
          "execution_count": 33
        }
      ],
      "source": [
        "bixos"
      ]
    },
    {
      "cell_type": "code",
      "execution_count": null,
      "metadata": {
        "id": "KrUaHwIB2eI9"
      },
      "outputs": [],
      "source": [
        "# Indices de elementos"
      ]
    },
    {
      "cell_type": "code",
      "execution_count": null,
      "metadata": {
        "id": "CtoQT_uv2eI-",
        "colab": {
          "base_uri": "https://localhost:8080/",
          "height": 36
        },
        "outputId": "fd39c076-6509-40a9-8cee-d66478699dfd"
      },
      "outputs": [
        {
          "output_type": "execute_result",
          "data": {
            "text/plain": [
              "'dog'"
            ],
            "application/vnd.google.colaboratory.intrinsic+json": {
              "type": "string"
            }
          },
          "metadata": {},
          "execution_count": 35
        }
      ],
      "source": [
        "bixos[0]"
      ]
    },
    {
      "cell_type": "code",
      "execution_count": null,
      "metadata": {
        "id": "lNv2SYih2eJA",
        "colab": {
          "base_uri": "https://localhost:8080/"
        },
        "outputId": "f3350c89-777b-43ed-de4a-b5beb035f660"
      },
      "outputs": [
        {
          "output_type": "execute_result",
          "data": {
            "text/plain": [
              "13.9"
            ]
          },
          "metadata": {},
          "execution_count": 36
        }
      ],
      "source": [
        "bixos[3]"
      ]
    },
    {
      "cell_type": "code",
      "execution_count": null,
      "metadata": {
        "id": "KA381A7h2eJB"
      },
      "outputs": [],
      "source": [
        "# Atualizando o valor 1 da lista\n",
        "bixos[0] = 'Horse'"
      ]
    },
    {
      "cell_type": "code",
      "execution_count": null,
      "metadata": {
        "id": "VPxrVnQV2eJC",
        "colab": {
          "base_uri": "https://localhost:8080/"
        },
        "outputId": "50c6b30b-aef8-40f5-dd95-f5e3f32d3a97"
      },
      "outputs": [
        {
          "output_type": "execute_result",
          "data": {
            "text/plain": [
              "['Horse', 'cat', 122344545, 13.9, [0, 0, 1]]"
            ]
          },
          "metadata": {},
          "execution_count": 38
        }
      ],
      "source": [
        "bixos"
      ]
    },
    {
      "cell_type": "code",
      "execution_count": null,
      "metadata": {
        "id": "y825PQv52eJD"
      },
      "outputs": [],
      "source": [
        "# Slicing em Listas"
      ]
    },
    {
      "cell_type": "code",
      "execution_count": null,
      "metadata": {
        "id": "rlpgqAi12eJF",
        "colab": {
          "base_uri": "https://localhost:8080/"
        },
        "outputId": "8494c8a6-abcf-4cea-88cb-8f7a9cb7c30d"
      },
      "outputs": [
        {
          "output_type": "execute_result",
          "data": {
            "text/plain": [
              "['cat', 122344545, 13.9, [0, 0, 1]]"
            ]
          },
          "metadata": {},
          "execution_count": 39
        }
      ],
      "source": [
        "bixos[1:]"
      ]
    },
    {
      "cell_type": "code",
      "execution_count": null,
      "metadata": {
        "id": "D0xBxXNu2eJG"
      },
      "outputs": [],
      "source": [
        "# removendo elementos\n",
        "bixos.remove('cat')"
      ]
    },
    {
      "cell_type": "code",
      "execution_count": null,
      "metadata": {
        "id": "PvHU1Ajl2eJH",
        "colab": {
          "base_uri": "https://localhost:8080/"
        },
        "outputId": "24e3c415-f7f9-4696-b635-e87c8af357b6"
      },
      "outputs": [
        {
          "output_type": "execute_result",
          "data": {
            "text/plain": [
              "['Horse', 122344545, 13.9, [0, 0, 1]]"
            ]
          },
          "metadata": {},
          "execution_count": 41
        }
      ],
      "source": [
        "bixos"
      ]
    },
    {
      "cell_type": "markdown",
      "metadata": {
        "id": "1qnFxcCe2eJI"
      },
      "source": [
        "# Operações em Listas"
      ]
    },
    {
      "cell_type": "code",
      "execution_count": null,
      "metadata": {
        "id": "TV4LunzJ2eJI",
        "colab": {
          "base_uri": "https://localhost:8080/"
        },
        "outputId": "ec3d8d9d-e6e0-47e2-f79d-d42f65bb138a"
      },
      "outputs": [
        {
          "output_type": "execute_result",
          "data": {
            "text/plain": [
              "4"
            ]
          },
          "metadata": {},
          "execution_count": 42
        }
      ],
      "source": [
        "len(bixos)"
      ]
    },
    {
      "cell_type": "code",
      "execution_count": null,
      "metadata": {
        "id": "hezQja-42eJJ"
      },
      "outputs": [],
      "source": [
        "# Concatenando listas"
      ]
    },
    {
      "cell_type": "code",
      "execution_count": null,
      "metadata": {
        "id": "FsP9eaIE2eJK",
        "colab": {
          "base_uri": "https://localhost:8080/"
        },
        "outputId": "e29b186f-bb09-409c-cd76-5ae9d1deb032"
      },
      "outputs": [
        {
          "output_type": "execute_result",
          "data": {
            "text/plain": [
              "['Horse', 122344545, 13.9, [0, 0, 1], 200, 'Minerando', 'Dados']"
            ]
          },
          "metadata": {},
          "execution_count": 43
        }
      ],
      "source": [
        "bixos + [200,'Minerando','Dados']"
      ]
    },
    {
      "cell_type": "code",
      "execution_count": null,
      "metadata": {
        "id": "5S6PFLMs2eJL"
      },
      "outputs": [],
      "source": [
        "# Check elementos"
      ]
    },
    {
      "cell_type": "code",
      "execution_count": null,
      "metadata": {
        "id": "-NvQ0Lc82eJM",
        "colab": {
          "base_uri": "https://localhost:8080/"
        },
        "outputId": "56044a01-8b2c-480d-bac5-4b77f73161d8"
      },
      "outputs": [
        {
          "output_type": "execute_result",
          "data": {
            "text/plain": [
              "False"
            ]
          },
          "metadata": {},
          "execution_count": 45
        }
      ],
      "source": [
        "'cat' in bixos"
      ]
    },
    {
      "cell_type": "code",
      "execution_count": null,
      "metadata": {
        "id": "RjpaEueJ2eJM"
      },
      "outputs": [],
      "source": [
        "# Valor máximo da lista"
      ]
    },
    {
      "cell_type": "code",
      "execution_count": null,
      "metadata": {
        "id": "6igKrlZe2eJN",
        "colab": {
          "base_uri": "https://localhost:8080/",
          "height": 175
        },
        "outputId": "639d06f5-6925-4dfb-d3b3-d6d5be60a794"
      },
      "outputs": [
        {
          "output_type": "error",
          "ename": "TypeError",
          "evalue": "ignored",
          "traceback": [
            "\u001b[0;31m---------------------------------------------------------------------------\u001b[0m",
            "\u001b[0;31mTypeError\u001b[0m                                 Traceback (most recent call last)",
            "\u001b[0;32m<ipython-input-46-10a0f951af6b>\u001b[0m in \u001b[0;36m<cell line: 1>\u001b[0;34m()\u001b[0m\n\u001b[0;32m----> 1\u001b[0;31m \u001b[0mmax\u001b[0m\u001b[0;34m(\u001b[0m\u001b[0mbixos\u001b[0m\u001b[0;34m)\u001b[0m\u001b[0;34m\u001b[0m\u001b[0;34m\u001b[0m\u001b[0m\n\u001b[0m",
            "\u001b[0;31mTypeError\u001b[0m: '>' not supported between instances of 'int' and 'str'"
          ]
        }
      ],
      "source": [
        "max(bixos)"
      ]
    },
    {
      "cell_type": "code",
      "execution_count": null,
      "metadata": {
        "id": "AhylqCUJ2eJQ"
      },
      "outputs": [],
      "source": [
        "lista = [1,500,23,90,56788]"
      ]
    },
    {
      "cell_type": "code",
      "execution_count": null,
      "metadata": {
        "id": "gUWfz3gh2eJR",
        "colab": {
          "base_uri": "https://localhost:8080/"
        },
        "outputId": "be19c4c4-18b3-4ffe-ce5e-e6dd68f159f3"
      },
      "outputs": [
        {
          "output_type": "execute_result",
          "data": {
            "text/plain": [
              "56788"
            ]
          },
          "metadata": {},
          "execution_count": 48
        }
      ],
      "source": [
        "max(lista)"
      ]
    },
    {
      "cell_type": "code",
      "execution_count": null,
      "metadata": {
        "id": "iEKy28Uk2eJS"
      },
      "outputs": [],
      "source": [
        "# Valor mínimo da Lista"
      ]
    },
    {
      "cell_type": "code",
      "execution_count": null,
      "metadata": {
        "id": "UcSxySo_2eJT",
        "colab": {
          "base_uri": "https://localhost:8080/"
        },
        "outputId": "d0c82b27-ada4-4b9a-afea-325f3c703b26"
      },
      "outputs": [
        {
          "output_type": "execute_result",
          "data": {
            "text/plain": [
              "1"
            ]
          },
          "metadata": {},
          "execution_count": 49
        }
      ],
      "source": [
        "min(lista)"
      ]
    },
    {
      "cell_type": "code",
      "execution_count": null,
      "metadata": {
        "id": "dPTBHWZX2eJU"
      },
      "outputs": [],
      "source": [
        "# Multiplicação de Elementos"
      ]
    },
    {
      "cell_type": "code",
      "execution_count": null,
      "metadata": {
        "id": "sRgAoz7D2eJV",
        "colab": {
          "base_uri": "https://localhost:8080/"
        },
        "outputId": "ce3685d4-29b4-426f-f671-46cb68499571"
      },
      "outputs": [
        {
          "output_type": "execute_result",
          "data": {
            "text/plain": [
              "['Olá', 'Olá', 'Olá']"
            ]
          },
          "metadata": {},
          "execution_count": 50
        }
      ],
      "source": [
        "['Olá'] * 3"
      ]
    },
    {
      "cell_type": "markdown",
      "metadata": {
        "id": "neuVYttL2eJW"
      },
      "source": [
        "# Métodos em Listas"
      ]
    },
    {
      "cell_type": "code",
      "execution_count": null,
      "metadata": {
        "id": "8KVSMplF2eJW",
        "colab": {
          "base_uri": "https://localhost:8080/",
          "height": 140
        },
        "outputId": "077e57d3-a158-4bb1-e458-d99a568d8296"
      },
      "outputs": [
        {
          "output_type": "error",
          "ename": "SyntaxError",
          "evalue": "ignored",
          "traceback": [
            "\u001b[0;36m  File \u001b[0;32m\"<ipython-input-52-5a81711e956f>\"\u001b[0;36m, line \u001b[0;32m2\u001b[0m\n\u001b[0;31m    bixos.\u001b[0m\n\u001b[0m          ^\u001b[0m\n\u001b[0;31mSyntaxError\u001b[0m\u001b[0;31m:\u001b[0m invalid syntax\n"
          ]
        }
      ],
      "source": [
        "# È possivel visualizar os métodos existentes do objeto lista (digite o nome do objeto + . + tab)\n",
        "bixos."
      ]
    },
    {
      "cell_type": "code",
      "execution_count": null,
      "metadata": {
        "id": "_391kDyg2eJX"
      },
      "outputs": [],
      "source": [
        "# Adiciona elemento na lista\n",
        "bixos.append('snake')"
      ]
    },
    {
      "cell_type": "code",
      "execution_count": null,
      "metadata": {
        "id": "3ylne5KL2eJY",
        "colab": {
          "base_uri": "https://localhost:8080/"
        },
        "outputId": "e95ede02-4ace-4be8-8717-570286e4b8b8"
      },
      "outputs": [
        {
          "output_type": "execute_result",
          "data": {
            "text/plain": [
              "['Horse', 122344545, 13.9, [0, 0, 1], 'snake']"
            ]
          },
          "metadata": {},
          "execution_count": 54
        }
      ],
      "source": [
        "bixos"
      ]
    },
    {
      "cell_type": "code",
      "execution_count": null,
      "metadata": {
        "id": "bSy6IMG22eJZ",
        "colab": {
          "base_uri": "https://localhost:8080/"
        },
        "outputId": "6068e5cb-4c85-4a3a-9ec0-79a5b9a93303"
      },
      "outputs": [
        {
          "output_type": "execute_result",
          "data": {
            "text/plain": [
              "['Horse', 122344545, 13.9, [0, 0, 1], 'snake', 'lion', 10.5]"
            ]
          },
          "metadata": {},
          "execution_count": 55
        }
      ],
      "source": [
        "# Extende a lista com mais de um elemento.\n",
        "bixos.extend(['lion',10.5])\n",
        "bixos"
      ]
    },
    {
      "cell_type": "code",
      "execution_count": null,
      "metadata": {
        "id": "PXLQ0NyH2eJa",
        "colab": {
          "base_uri": "https://localhost:8080/"
        },
        "outputId": "cc132723-ce92-440b-8536-a3a7821a3f34"
      },
      "outputs": [
        {
          "output_type": "execute_result",
          "data": {
            "text/plain": [
              "4"
            ]
          },
          "metadata": {},
          "execution_count": 56
        }
      ],
      "source": [
        "bixos.index('snake')"
      ]
    },
    {
      "cell_type": "code",
      "execution_count": null,
      "metadata": {
        "id": "coZsLHXn2eJb",
        "colab": {
          "base_uri": "https://localhost:8080/"
        },
        "outputId": "726ea40c-5f3a-46c3-cf22-82f7753d5f15"
      },
      "outputs": [
        {
          "output_type": "execute_result",
          "data": {
            "text/plain": [
              "['Horse', 122344545, 13.9, [0, 0, 1], 'lion', 10.5]"
            ]
          },
          "metadata": {},
          "execution_count": 60
        }
      ],
      "source": [
        "\n",
        "bixos"
      ]
    },
    {
      "cell_type": "code",
      "execution_count": null,
      "metadata": {
        "id": "rRpPMGfR2eJc",
        "colab": {
          "base_uri": "https://localhost:8080/"
        },
        "outputId": "a6febfe6-92d2-4518-f36f-e65c655ed024"
      },
      "outputs": [
        {
          "output_type": "execute_result",
          "data": {
            "text/plain": [
              "0"
            ]
          },
          "metadata": {},
          "execution_count": 59
        }
      ],
      "source": [
        "bixos.count('dog')"
      ]
    },
    {
      "cell_type": "code",
      "execution_count": null,
      "metadata": {
        "id": "QfwVQSnW2eJe",
        "colab": {
          "base_uri": "https://localhost:8080/",
          "height": 175
        },
        "outputId": "bc12a883-e42a-400b-959a-d18791c9cc60"
      },
      "outputs": [
        {
          "output_type": "error",
          "ename": "TypeError",
          "evalue": "ignored",
          "traceback": [
            "\u001b[0;31m---------------------------------------------------------------------------\u001b[0m",
            "\u001b[0;31mTypeError\u001b[0m                                 Traceback (most recent call last)",
            "\u001b[0;32m<ipython-input-61-8d1e6071d8a7>\u001b[0m in \u001b[0;36m<cell line: 1>\u001b[0;34m()\u001b[0m\n\u001b[0;32m----> 1\u001b[0;31m \u001b[0mbixos\u001b[0m\u001b[0;34m.\u001b[0m\u001b[0msort\u001b[0m\u001b[0;34m(\u001b[0m\u001b[0;34m)\u001b[0m\u001b[0;34m\u001b[0m\u001b[0;34m\u001b[0m\u001b[0m\n\u001b[0m",
            "\u001b[0;31mTypeError\u001b[0m: '<' not supported between instances of 'int' and 'str'"
          ]
        }
      ],
      "source": [
        "bixos.sort()"
      ]
    },
    {
      "cell_type": "code",
      "execution_count": null,
      "metadata": {
        "id": "71SUkORK2eJe"
      },
      "outputs": [],
      "source": [
        "# Ordenação de lista de inteiros\n",
        "lista = [1,500,23,90,56788]\n",
        "lista2 = ['casa','rio','lua','agua']"
      ]
    },
    {
      "cell_type": "code",
      "execution_count": null,
      "metadata": {
        "id": "H3nbtvEf2eJf",
        "colab": {
          "base_uri": "https://localhost:8080/"
        },
        "outputId": "d2620004-a5b7-4bd9-ff97-3395e2174cf8"
      },
      "outputs": [
        {
          "output_type": "execute_result",
          "data": {
            "text/plain": [
              "['agua', 'casa', 'lua', 'rio']"
            ]
          },
          "metadata": {},
          "execution_count": 4
        }
      ],
      "source": [
        "lista2.sort()\n",
        "lista2"
      ]
    },
    {
      "cell_type": "markdown",
      "metadata": {
        "id": "gCy-a5fl2eJh"
      },
      "source": [
        "# Lista Aninhadas"
      ]
    },
    {
      "cell_type": "code",
      "execution_count": null,
      "metadata": {
        "id": "9NZIuhJA2eJh"
      },
      "outputs": [],
      "source": [
        "# lista que contém 3 listas\n",
        "listas = [ ['cat','dog','snake'], ['Audi','Ferrari','Porsche'], [10,100,200] ]"
      ]
    },
    {
      "cell_type": "code",
      "execution_count": null,
      "metadata": {
        "id": "QcaqtoNQ2eJj",
        "outputId": "d3f28033-9009-40ac-ac2f-67377f19c3ec",
        "colab": {
          "base_uri": "https://localhost:8080/"
        }
      },
      "outputs": [
        {
          "output_type": "execute_result",
          "data": {
            "text/plain": [
              "[['cat', 'dog', 'snake'], ['Audi', 'Ferrari', 'Porsche'], [10, 100, 200]]"
            ]
          },
          "metadata": {},
          "execution_count": 6
        }
      ],
      "source": [
        "listas"
      ]
    },
    {
      "cell_type": "code",
      "execution_count": null,
      "metadata": {
        "id": "XtcB1l2q2eJl",
        "outputId": "55b91d20-c45c-4a10-c4fe-e2f8082f28ed",
        "colab": {
          "base_uri": "https://localhost:8080/"
        }
      },
      "outputs": [
        {
          "output_type": "execute_result",
          "data": {
            "text/plain": [
              "['cat', 'dog', 'snake']"
            ]
          },
          "metadata": {},
          "execution_count": 7
        }
      ],
      "source": [
        "# Imprimindo o primeiro elemento (lista de animais)\n",
        "listas[0]"
      ]
    },
    {
      "cell_type": "code",
      "execution_count": null,
      "metadata": {
        "id": "zRh6OnzN2eJm",
        "outputId": "287e2816-f5eb-4997-dcb5-4abc15bcfff0",
        "colab": {
          "base_uri": "https://localhost:8080/"
        }
      },
      "outputs": [
        {
          "output_type": "execute_result",
          "data": {
            "text/plain": [
              "['Audi', 'Ferrari', 'Porsche']"
            ]
          },
          "metadata": {},
          "execution_count": 8
        }
      ],
      "source": [
        "# Imprimindo o segundo elemento (lista de carros)\n",
        "listas[1]"
      ]
    },
    {
      "cell_type": "code",
      "execution_count": null,
      "metadata": {
        "id": "weVOgNf-2eJn",
        "outputId": "b9e1767e-a29c-413e-8248-7c78883bb9cd",
        "colab": {
          "base_uri": "https://localhost:8080/"
        }
      },
      "outputs": [
        {
          "output_type": "execute_result",
          "data": {
            "text/plain": [
              "[10, 100, 200]"
            ]
          },
          "metadata": {},
          "execution_count": 9
        }
      ],
      "source": [
        "# Imprimindo o terceiro elemento (lista de inteiros)\n",
        "listas[2]"
      ]
    },
    {
      "cell_type": "code",
      "execution_count": null,
      "metadata": {
        "id": "3fE4oVP62eJo",
        "outputId": "07cbd743-0790-4de4-f7b1-28d949de70d3",
        "colab": {
          "base_uri": "https://localhost:8080/",
          "height": 36
        }
      },
      "outputs": [
        {
          "output_type": "execute_result",
          "data": {
            "text/plain": [
              "'Audi'"
            ],
            "application/vnd.google.colaboratory.intrinsic+json": {
              "type": "string"
            }
          },
          "metadata": {},
          "execution_count": 10
        }
      ],
      "source": [
        "# Imprimindo o 1 carro da lista de carros\n",
        "listas[1][0]"
      ]
    },
    {
      "cell_type": "code",
      "execution_count": null,
      "metadata": {
        "id": "VivczWna2eJo",
        "outputId": "f53a9ce6-5fad-4365-be8a-a150b10988bd",
        "colab": {
          "base_uri": "https://localhost:8080/",
          "height": 36
        }
      },
      "outputs": [
        {
          "output_type": "execute_result",
          "data": {
            "text/plain": [
              "'Ferrari'"
            ],
            "application/vnd.google.colaboratory.intrinsic+json": {
              "type": "string"
            }
          },
          "metadata": {},
          "execution_count": 11
        }
      ],
      "source": [
        "# Imprimindo o 2 carro da lista de carros\n",
        "listas[1][1]"
      ]
    },
    {
      "cell_type": "code",
      "execution_count": null,
      "metadata": {
        "id": "Mltv5Wcu2eJp",
        "outputId": "4c9ce6a0-d71f-4905-c98c-a4be2d54eceb",
        "colab": {
          "base_uri": "https://localhost:8080/"
        }
      },
      "outputs": [
        {
          "output_type": "execute_result",
          "data": {
            "text/plain": [
              "200"
            ]
          },
          "metadata": {},
          "execution_count": 12
        }
      ],
      "source": [
        "# Imprimindo o ultimo valor da lista de numeros\n",
        "listas[2][2]"
      ]
    },
    {
      "cell_type": "code",
      "execution_count": null,
      "metadata": {
        "id": "kXDsZLWs2eJq"
      },
      "outputs": [],
      "source": [
        "# Operacão de repetição de elementos de linhas alinhadas. listas[0] * 3"
      ]
    },
    {
      "cell_type": "code",
      "execution_count": null,
      "metadata": {
        "id": "MJs8RtDQ2eJr",
        "outputId": "e56bc4e6-b719-4b2b-d2b5-ae8f5cd21fe6",
        "colab": {
          "base_uri": "https://localhost:8080/"
        }
      },
      "outputs": [
        {
          "output_type": "execute_result",
          "data": {
            "text/plain": [
              "[['cat', 'dog', 'snake'], ['Audi', 'Ferrari', 'Porsche'], [10, 100, 200]]"
            ]
          },
          "metadata": {},
          "execution_count": 14
        }
      ],
      "source": [
        "listas"
      ]
    },
    {
      "cell_type": "markdown",
      "metadata": {
        "id": "MkJWGjyAk12N"
      },
      "source": [
        "# Obrigado!"
      ]
    }
  ],
  "metadata": {
    "colab": {
      "collapsed_sections": [
        "hzUPnhVCA01h",
        "16HQ7zE62eGr",
        "poBtdVbA2eG1",
        "WtT7tJGu2eHD",
        "mHR-HTtm2eHH",
        "eGNyhMnR2eHa",
        "9UoIPQhM2eIH",
        "t3K2fvY52eIS",
        "wC61Bnce2eI5",
        "1qnFxcCe2eJI",
        "neuVYttL2eJW",
        "gCy-a5fl2eJh"
      ],
      "provenance": [],
      "include_colab_link": true
    },
    "kernelspec": {
      "display_name": "Python 3 (ipykernel)",
      "language": "python",
      "name": "python3"
    },
    "language_info": {
      "codemirror_mode": {
        "name": "ipython",
        "version": 3
      },
      "file_extension": ".py",
      "mimetype": "text/x-python",
      "name": "python",
      "nbconvert_exporter": "python",
      "pygments_lexer": "ipython3",
      "version": "3.11.4"
    }
  },
  "nbformat": 4,
  "nbformat_minor": 0
}