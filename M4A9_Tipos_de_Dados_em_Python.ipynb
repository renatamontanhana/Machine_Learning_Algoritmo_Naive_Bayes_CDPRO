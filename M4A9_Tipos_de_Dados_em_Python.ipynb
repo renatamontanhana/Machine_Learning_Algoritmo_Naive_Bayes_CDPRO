{
  "nbformat": 4,
  "nbformat_minor": 0,
  "metadata": {
    "colab": {
      "provenance": [],
      "collapsed_sections": [
        "ggjymgHng2Fg",
        "DQbbLeh3g2iB",
        "eqak3bbBR3OU",
        "lV43VVz8R3Ot",
        "rl9NE5dcR3O0",
        "w78BNM62R3O4",
        "yH0ZuzWuginX",
        "mbsVux8Cg2nN",
        "xALSqwcZLQ3L"
      ],
      "include_colab_link": true
    },
    "kernelspec": {
      "name": "python3",
      "display_name": "Python 3"
    }
  },
  "cells": [
    {
      "cell_type": "markdown",
      "metadata": {
        "id": "view-in-github",
        "colab_type": "text"
      },
      "source": [
        "<a href=\"https://colab.research.google.com/github/renatamontanhana/Machine_Learning_Algoritmo_Naive_Bayes_CDPRO/blob/main/M4A9_Tipos_de_Dados_em_Python.ipynb\" target=\"_parent\"><img src=\"https://colab.research.google.com/assets/colab-badge.svg\" alt=\"Open In Colab\"/></a>"
      ]
    },
    {
      "cell_type": "markdown",
      "metadata": {
        "id": "mZVCagpZvZfE"
      },
      "source": [
        "![alt text](https://encrypted-tbn0.gstatic.com/images?q=tbn%3AANd9GcTK4gQ9nhwHHaSXMHpeggWg7twwMCgb877smkRmtkmDeDoGF9Z6&usqp=CAU)"
      ]
    },
    {
      "cell_type": "markdown",
      "metadata": {
        "id": "7oiQVQi0AJ6D"
      },
      "source": [
        "# <font color='BLUE'>Cientista de Dados na Prática </font>\n",
        "\n",
        "# <font color='GREEN'>Módulo 4 - Análise Exploratória dos Dados</font>\n",
        "\n",
        "# <font color='GREY'> Tipos de Dados do Python </font>\n",
        "\n"
      ]
    },
    {
      "cell_type": "markdown",
      "metadata": {
        "id": "ggjymgHng2Fg"
      },
      "source": [
        "# 1° Strings"
      ]
    },
    {
      "cell_type": "markdown",
      "metadata": {
        "id": "KpECQ2NZJHUm"
      },
      "source": [
        "1. As seqüências de caracteres podem ser simplesmente definidas usando aspas simples (‘), duplas (\") ou triplas (''').\n",
        "2. As seqüências de caracteres entre aspas ('') podem se estender por várias linhas e são usadas com freqüência em documentos (a maneira de documentar as funções do Python).\n",
        "3. \\ é usado como um caractere de escape. Observe que as strings do Python são imutáveis, portanto você não pode alterar parte das strings.\n"
      ]
    },
    {
      "cell_type": "code",
      "metadata": {
        "id": "uh1xqISRIA7Z"
      },
      "source": [
        "# definindo uma string\n",
        "my_string = 'Hello'\n",
        "my_string"
      ],
      "execution_count": null,
      "outputs": []
    },
    {
      "cell_type": "code",
      "metadata": {
        "id": "5cRWweadIHTa"
      },
      "source": [
        "# caracter de index igual a 1\n",
        "print('caracter de index 1 = ', my_string[1])"
      ],
      "execution_count": null,
      "outputs": []
    },
    {
      "cell_type": "code",
      "metadata": {
        "id": "f7TTHF7IIJmf"
      },
      "source": [
        "# Comprimento da string\n",
        "print('O Comprimento da string é ==>', len(my_string))"
      ],
      "execution_count": null,
      "outputs": []
    },
    {
      "cell_type": "code",
      "metadata": {
        "id": "Q6XzZvQgdwDB"
      },
      "source": [
        "len(my_string)"
      ],
      "execution_count": null,
      "outputs": []
    },
    {
      "cell_type": "code",
      "metadata": {
        "id": "AExl9I1JIMNA"
      },
      "source": [
        "# string concatenation\n",
        "new_string = my_string+' World'\n",
        "print('A nova String é ==> ',new_string)"
      ],
      "execution_count": null,
      "outputs": []
    },
    {
      "cell_type": "markdown",
      "metadata": {
        "id": "DQbbLeh3g2iB"
      },
      "source": [
        "# 2° Tuplas"
      ]
    },
    {
      "cell_type": "markdown",
      "metadata": {
        "id": "quVIZMg_KC9i"
      },
      "source": [
        "Uma tupla é representada por um número de valores separados por vírgulas. **As tuplas são imutáveis** e a saída é cercada por parênteses, para que as tuplas aninhadas sejam processadas corretamente. Além disso, embora as tuplas sejam imutáveis, elas podem armazenar dados mutáveis, se necessário.\n",
        "Como as Tuplas são imutáveis e não podem ser alteradas, **seu processamento é mais rápido em comparação às listas**. Portanto, se é improvável que sua lista seja alterada, você deve usar tuplas, em vez de listas."
      ]
    },
    {
      "cell_type": "markdown",
      "metadata": {
        "id": "eqak3bbBR3OU"
      },
      "source": [
        "# Trabalhando com Tuplas"
      ]
    },
    {
      "cell_type": "code",
      "metadata": {
        "id": "zcPPoeMCR3OV"
      },
      "source": [
        "# Tuplas usam parênteses como sintaxe\n",
        "tupla1 = ()"
      ],
      "execution_count": 1,
      "outputs": []
    },
    {
      "cell_type": "code",
      "metadata": {
        "id": "Go1ArBnkR3OY",
        "outputId": "c35239e0-7850-4f14-c135-fd25c60c7427",
        "colab": {
          "base_uri": "https://localhost:8080/"
        }
      },
      "source": [
        "tupla1"
      ],
      "execution_count": 2,
      "outputs": [
        {
          "output_type": "execute_result",
          "data": {
            "text/plain": [
              "()"
            ]
          },
          "metadata": {},
          "execution_count": 2
        }
      ]
    },
    {
      "cell_type": "code",
      "metadata": {
        "id": "bmjiycuzR3Oa"
      },
      "source": [
        "tupla1 = ('BMW','Beija-Flor',218.900,100000)"
      ],
      "execution_count": 3,
      "outputs": []
    },
    {
      "cell_type": "code",
      "metadata": {
        "id": "_Y73Pq17R3Oc",
        "colab": {
          "base_uri": "https://localhost:8080/"
        },
        "outputId": "8fc897e6-8cd5-44c9-816c-7adf432550ca"
      },
      "source": [
        "tupla1"
      ],
      "execution_count": 4,
      "outputs": [
        {
          "output_type": "execute_result",
          "data": {
            "text/plain": [
              "('BMW', 'Beija-Flor', 218.9, 100000)"
            ]
          },
          "metadata": {},
          "execution_count": 4
        }
      ]
    },
    {
      "cell_type": "code",
      "metadata": {
        "id": "UKo8Lv05R3Oe",
        "outputId": "c1b93517-6c4b-464a-eb75-a3b03684e291",
        "colab": {
          "base_uri": "https://localhost:8080/"
        }
      },
      "source": [
        "# Python 3 aceita criação de uma tupla sem usar a virgula\n",
        "tupla = (10)\n",
        "tupla"
      ],
      "execution_count": 5,
      "outputs": [
        {
          "output_type": "execute_result",
          "data": {
            "text/plain": [
              "10"
            ]
          },
          "metadata": {},
          "execution_count": 5
        }
      ]
    },
    {
      "cell_type": "code",
      "metadata": {
        "id": "pxgP1ffyR3Og",
        "outputId": "e34fbd5c-fd7d-4fff-d7d8-50f0cd52edfc",
        "colab": {
          "base_uri": "https://localhost:8080/"
        }
      },
      "source": [
        "# Imprimindo elementos da tupla a partir das posições\n",
        "tupla1[0], tupla1[2], tupla1[3]"
      ],
      "execution_count": 6,
      "outputs": [
        {
          "output_type": "execute_result",
          "data": {
            "text/plain": [
              "('BMW', 218.9, 100000)"
            ]
          },
          "metadata": {},
          "execution_count": 6
        }
      ]
    },
    {
      "cell_type": "code",
      "metadata": {
        "id": "OpX8e6-kR3Oi"
      },
      "source": [
        "#Tuplas são imutáveis !! (importante)\n",
        "tupla1[0] = 'AUDI'"
      ],
      "execution_count": null,
      "outputs": []
    },
    {
      "cell_type": "code",
      "metadata": {
        "id": "MBFR4-AdR3Ol"
      },
      "source": [
        "# Criaçao de tuplas aninhadas\n",
        "tupla_aninhada = (1,2,3, (23,43,78))"
      ],
      "execution_count": 8,
      "outputs": []
    },
    {
      "cell_type": "code",
      "metadata": {
        "id": "DpA5IJGfR3On",
        "outputId": "c52f651d-4c99-4b32-96e8-5d080b956377",
        "colab": {
          "base_uri": "https://localhost:8080/"
        }
      },
      "source": [
        "tupla_aninhada[2]"
      ],
      "execution_count": 9,
      "outputs": [
        {
          "output_type": "execute_result",
          "data": {
            "text/plain": [
              "3"
            ]
          },
          "metadata": {},
          "execution_count": 9
        }
      ]
    },
    {
      "cell_type": "code",
      "metadata": {
        "id": "qWaUB1zGR3Or",
        "outputId": "7f6435d7-e8a9-434f-e4e0-3df65c60c03c",
        "colab": {
          "base_uri": "https://localhost:8080/"
        }
      },
      "source": [
        "# Acessando o primeiro valor da lista aninhada\n",
        "tupla_aninhada[3][1]"
      ],
      "execution_count": 10,
      "outputs": [
        {
          "output_type": "execute_result",
          "data": {
            "text/plain": [
              "43"
            ]
          },
          "metadata": {},
          "execution_count": 10
        }
      ]
    },
    {
      "cell_type": "markdown",
      "metadata": {
        "id": "lV43VVz8R3Ot"
      },
      "source": [
        "# Operações Básicas"
      ]
    },
    {
      "cell_type": "code",
      "metadata": {
        "id": "P1ypkrYNR3Ot"
      },
      "source": [
        "# Operação de Repetição e criação de nova tupla\n",
        "tupla2 = tupla1 * 3"
      ],
      "execution_count": 11,
      "outputs": []
    },
    {
      "cell_type": "code",
      "metadata": {
        "scrolled": true,
        "id": "VhRd1aEGR3Ov",
        "colab": {
          "base_uri": "https://localhost:8080/"
        },
        "outputId": "251222d8-9621-42cf-fd45-45ee5c2cb28f"
      },
      "source": [
        "tupla2"
      ],
      "execution_count": 12,
      "outputs": [
        {
          "output_type": "execute_result",
          "data": {
            "text/plain": [
              "('BMW',\n",
              " 'Beija-Flor',\n",
              " 218.9,\n",
              " 100000,\n",
              " 'BMW',\n",
              " 'Beija-Flor',\n",
              " 218.9,\n",
              " 100000,\n",
              " 'BMW',\n",
              " 'Beija-Flor',\n",
              " 218.9,\n",
              " 100000)"
            ]
          },
          "metadata": {},
          "execution_count": 12
        }
      ]
    },
    {
      "cell_type": "code",
      "metadata": {
        "id": "EPnKj8D51Jxl",
        "colab": {
          "base_uri": "https://localhost:8080/"
        },
        "outputId": "ef7c3f62-33cb-4d5c-ac76-1db3472705e4"
      },
      "source": [
        "tupla1"
      ],
      "execution_count": 13,
      "outputs": [
        {
          "output_type": "execute_result",
          "data": {
            "text/plain": [
              "('BMW', 'Beija-Flor', 218.9, 100000)"
            ]
          },
          "metadata": {},
          "execution_count": 13
        }
      ]
    },
    {
      "cell_type": "code",
      "metadata": {
        "id": "nm4RdJRdR3Ox",
        "outputId": "9a6339d1-2b62-4cc2-932e-16bc7eec98c7",
        "colab": {
          "base_uri": "https://localhost:8080/"
        }
      },
      "source": [
        "# Concatena Tuplas\n",
        "tupla_concatenada = (1, 2, 3) + (4, 5, 6)\n",
        "tupla_concatenada"
      ],
      "execution_count": 14,
      "outputs": [
        {
          "output_type": "execute_result",
          "data": {
            "text/plain": [
              "(1, 2, 3, 4, 5, 6)"
            ]
          },
          "metadata": {},
          "execution_count": 14
        }
      ]
    },
    {
      "cell_type": "code",
      "metadata": {
        "id": "JekNhCZ6R3Oz",
        "outputId": "b382130f-7bfc-4acb-c004-c637cebf05f2",
        "colab": {
          "base_uri": "https://localhost:8080/"
        }
      },
      "source": [
        "# Checa se o elemento pertence a tupla\n",
        "'Beija-Flor' in tupla1"
      ],
      "execution_count": 15,
      "outputs": [
        {
          "output_type": "execute_result",
          "data": {
            "text/plain": [
              "True"
            ]
          },
          "metadata": {},
          "execution_count": 15
        }
      ]
    },
    {
      "cell_type": "code",
      "metadata": {
        "id": "K5tiYVVY1kF-",
        "outputId": "250a9a36-289f-4c97-d1e1-af431f28c78f",
        "colab": {
          "base_uri": "https://localhost:8080/"
        }
      },
      "source": [
        "tupla1"
      ],
      "execution_count": 16,
      "outputs": [
        {
          "output_type": "execute_result",
          "data": {
            "text/plain": [
              "('BMW', 'Beija-Flor', 218.9, 100000)"
            ]
          },
          "metadata": {},
          "execution_count": 16
        }
      ]
    },
    {
      "cell_type": "markdown",
      "metadata": {
        "id": "rl9NE5dcR3O0"
      },
      "source": [
        "# Slicing ou Fatiamento"
      ]
    },
    {
      "cell_type": "code",
      "metadata": {
        "id": "ao_vEOoCR3O1",
        "colab": {
          "base_uri": "https://localhost:8080/"
        },
        "outputId": "c586dd93-8b90-4159-bfa7-1389832e45b3"
      },
      "source": [
        "# Percorre a tupla do elemento na posição 2 em diante.\n",
        "tupla1[2:]"
      ],
      "execution_count": 19,
      "outputs": [
        {
          "output_type": "execute_result",
          "data": {
            "text/plain": [
              "(218.9, 100000)"
            ]
          },
          "metadata": {},
          "execution_count": 19
        }
      ]
    },
    {
      "cell_type": "code",
      "metadata": {
        "id": "e9Io3G8nR3O2",
        "outputId": "b08ffe88-6488-4f16-ddf9-fc909821b675",
        "colab": {
          "base_uri": "https://localhost:8080/"
        }
      },
      "source": [
        "# Percorre a tupla do elemento na posição 1 até o elemento na posição 3\n",
        "tupla1[1:4]"
      ],
      "execution_count": 20,
      "outputs": [
        {
          "output_type": "execute_result",
          "data": {
            "text/plain": [
              "('Beija-Flor', 218.9, 100000)"
            ]
          },
          "metadata": {},
          "execution_count": 20
        }
      ]
    },
    {
      "cell_type": "markdown",
      "metadata": {
        "id": "w78BNM62R3O4"
      },
      "source": [
        "# Métodos Disponíveis (funções)"
      ]
    },
    {
      "cell_type": "code",
      "metadata": {
        "id": "KGIvJWIeR3O4",
        "colab": {
          "base_uri": "https://localhost:8080/"
        },
        "outputId": "151e3026-7f6e-4266-e5e5-9e13922e78cf"
      },
      "source": [
        "# Conta a frequência de um elemento\n",
        "tupla1.count('Beija-Flor')"
      ],
      "execution_count": 36,
      "outputs": [
        {
          "output_type": "execute_result",
          "data": {
            "text/plain": [
              "1"
            ]
          },
          "metadata": {},
          "execution_count": 36
        }
      ]
    },
    {
      "cell_type": "code",
      "metadata": {
        "id": "lSPFT_ZbR3O6",
        "outputId": "37633265-97bf-41ca-e6dd-2b435c6862bd",
        "colab": {
          "base_uri": "https://localhost:8080/"
        }
      },
      "source": [
        "# Retorna a posição do elemento.\n",
        "tupla1.index(218.9)"
      ],
      "execution_count": 37,
      "outputs": [
        {
          "output_type": "execute_result",
          "data": {
            "text/plain": [
              "2"
            ]
          },
          "metadata": {},
          "execution_count": 37
        }
      ]
    },
    {
      "cell_type": "code",
      "metadata": {
        "id": "C_Q3eyG62Xtg",
        "outputId": "88906c78-dda2-4342-bb7f-0705980891e3",
        "colab": {
          "base_uri": "https://localhost:8080/"
        }
      },
      "source": [
        "tupla1"
      ],
      "execution_count": 38,
      "outputs": [
        {
          "output_type": "execute_result",
          "data": {
            "text/plain": [
              "('BMW', 'Beija-Flor', 218.9, 100000)"
            ]
          },
          "metadata": {},
          "execution_count": 38
        }
      ]
    },
    {
      "cell_type": "code",
      "metadata": {
        "id": "7W9KW8l_R3O8",
        "outputId": "7a5d217c-96ae-44e7-c28e-15994a0df6fa",
        "colab": {
          "base_uri": "https://localhost:8080/"
        }
      },
      "source": [
        "# Retorna o tamanho da tupla\n",
        "len(tupla1)"
      ],
      "execution_count": 39,
      "outputs": [
        {
          "output_type": "execute_result",
          "data": {
            "text/plain": [
              "4"
            ]
          },
          "metadata": {},
          "execution_count": 39
        }
      ]
    },
    {
      "cell_type": "code",
      "metadata": {
        "id": "y2aEl9L2R3O9",
        "outputId": "8c519e33-1d4d-479f-8da7-3bd1001e0de2",
        "colab": {
          "base_uri": "https://localhost:8080/"
        }
      },
      "source": [
        "# Retorna o maior valor da tupla\n",
        "tupla2 = (1,2,8,218000,99.0)\n",
        "max(tupla2)"
      ],
      "execution_count": 40,
      "outputs": [
        {
          "output_type": "execute_result",
          "data": {
            "text/plain": [
              "218000"
            ]
          },
          "metadata": {},
          "execution_count": 40
        }
      ]
    },
    {
      "cell_type": "code",
      "metadata": {
        "id": "BvioPja0R3O_",
        "outputId": "fc5c5890-f33d-415c-fe02-8e649e5dbe8d",
        "colab": {
          "base_uri": "https://localhost:8080/"
        }
      },
      "source": [
        "# Retorna o menor valor da tupla\n",
        "min(tupla2)"
      ],
      "execution_count": 41,
      "outputs": [
        {
          "output_type": "execute_result",
          "data": {
            "text/plain": [
              "1"
            ]
          },
          "metadata": {},
          "execution_count": 41
        }
      ]
    },
    {
      "cell_type": "code",
      "metadata": {
        "id": "4NcqAuCbR3PA",
        "colab": {
          "base_uri": "https://localhost:8080/"
        },
        "outputId": "549c4a03-c2ed-4fc5-9947-395c23cd8add"
      },
      "source": [
        "# Criando uma lista\n",
        "lista = [1,3,4,3,89.9,765,'Ciência dos Dados','Machine Learning']\n",
        "lista"
      ],
      "execution_count": 42,
      "outputs": [
        {
          "output_type": "execute_result",
          "data": {
            "text/plain": [
              "[1, 3, 4, 3, 89.9, 765, 'Ciência dos Dados', 'Machine Learning']"
            ]
          },
          "metadata": {},
          "execution_count": 42
        }
      ]
    },
    {
      "cell_type": "code",
      "metadata": {
        "id": "CKdmB-0E2tEo",
        "outputId": "005b19a3-2332-40a7-8a65-862a078a483c",
        "colab": {
          "base_uri": "https://localhost:8080/"
        }
      },
      "source": [
        "type(lista)"
      ],
      "execution_count": 43,
      "outputs": [
        {
          "output_type": "execute_result",
          "data": {
            "text/plain": [
              "list"
            ]
          },
          "metadata": {},
          "execution_count": 43
        }
      ]
    },
    {
      "cell_type": "code",
      "metadata": {
        "id": "A9JehGPyR3PC"
      },
      "source": [
        "# Converte uma lista em tupla\n",
        "tupla3 = tuple(lista)"
      ],
      "execution_count": 44,
      "outputs": []
    },
    {
      "cell_type": "code",
      "metadata": {
        "id": "Dl0RZUevR3PD",
        "outputId": "c91d8537-21e9-462d-ee03-f923eadf1a37",
        "colab": {
          "base_uri": "https://localhost:8080/"
        }
      },
      "source": [
        "type(tupla3)"
      ],
      "execution_count": 45,
      "outputs": [
        {
          "output_type": "execute_result",
          "data": {
            "text/plain": [
              "tuple"
            ]
          },
          "metadata": {},
          "execution_count": 45
        }
      ]
    },
    {
      "cell_type": "code",
      "metadata": {
        "id": "bTTKW0z4R3PF",
        "outputId": "299fee23-8675-4654-da87-e7165ca053ea",
        "colab": {
          "base_uri": "https://localhost:8080/"
        }
      },
      "source": [
        "tupla3"
      ],
      "execution_count": 46,
      "outputs": [
        {
          "output_type": "execute_result",
          "data": {
            "text/plain": [
              "(1, 3, 4, 3, 89.9, 765, 'Ciência dos Dados', 'Machine Learning')"
            ]
          },
          "metadata": {},
          "execution_count": 46
        }
      ]
    },
    {
      "cell_type": "markdown",
      "metadata": {
        "id": "yH0ZuzWuginX"
      },
      "source": [
        "# 3° Listas"
      ]
    },
    {
      "cell_type": "markdown",
      "metadata": {
        "id": "nl9v2zZJBC1D"
      },
      "source": [
        "As listas são uma das estruturas de dados mais versáteis do Python. Uma lista pode simplesmente ser definida escrevendo uma lista de valores separados por vírgula entre colchetes. As listas podem conter itens de tipos diferentes, mas geralmente todos os itens têm o mesmo tipo. As listas Python são mutáveis e os elementos individuais de uma lista podem ser alterados.Aqui está um exemplo rápido para definir uma lista e acessá-la:"
      ]
    },
    {
      "cell_type": "code",
      "metadata": {
        "id": "05THS6rXBS8n"
      },
      "source": [
        "# Criando uma lista qualquer de valores\n",
        "List = [9999, 1, 4, 9, 16, 25, 'vc é fera']\n"
      ],
      "execution_count": 47,
      "outputs": []
    },
    {
      "cell_type": "code",
      "metadata": {
        "id": "VHgP38UXBVLB",
        "colab": {
          "base_uri": "https://localhost:8080/"
        },
        "outputId": "d8157a32-06f2-4ef0-e916-41ca4b2669b6"
      },
      "source": [
        "'''Itens indivuduais podem ser acessados pelo Índice'''\n",
        "#Indexando e retornando os itens\n",
        "List[0]\n"
      ],
      "execution_count": 48,
      "outputs": [
        {
          "output_type": "execute_result",
          "data": {
            "text/plain": [
              "9999"
            ]
          },
          "metadata": {},
          "execution_count": 48
        }
      ]
    },
    {
      "cell_type": "code",
      "metadata": {
        "id": "yOS5QdIGBXwG",
        "colab": {
          "base_uri": "https://localhost:8080/"
        },
        "outputId": "3889e03a-b407-48e1-ceb1-c4f2d1724872"
      },
      "source": [
        "'''slicing ou Fatiamento ou Filtro da lista'''\n",
        "# Uma range de itens podem ser acessada informando uma faixa de valores de índices\n",
        "\n",
        "print('Itens entre os índices de valores 2 a 4 ==> ', List[2:4])\n"
      ],
      "execution_count": 49,
      "outputs": [
        {
          "output_type": "stream",
          "name": "stdout",
          "text": [
            "Itens entre os índices de valores 2 a 4 ==>  [4, 9]\n"
          ]
        }
      ]
    },
    {
      "cell_type": "code",
      "metadata": {
        "id": "xsQevkrtBZpO",
        "outputId": "46d7a56c-0067-4d30-d8ae-038b84b80cf4",
        "colab": {
          "base_uri": "https://localhost:8080/"
        }
      },
      "source": [
        "'''Acessando elementos do final com índice negativo'''\n",
        "# Fatiando do Final para frente\n",
        "\n",
        "print('O último elemento da lista é ==>', List[-1])"
      ],
      "execution_count": 50,
      "outputs": [
        {
          "output_type": "stream",
          "name": "stdout",
          "text": [
            "O último elemento da lista é ==> vc é fera\n"
          ]
        }
      ]
    },
    {
      "cell_type": "markdown",
      "metadata": {
        "id": "mbsVux8Cg2nN"
      },
      "source": [
        "# Diferença entre Lista e Tupla"
      ]
    },
    {
      "cell_type": "markdown",
      "metadata": {
        "id": "OSwJA0KwLXXW"
      },
      "source": [
        "Ambas são tipos de sequências de dados, mas uma é mutável (lista) e a outra imutável (tupla). Tanto lista como tupla são sequências de dados e possuem muitas propriedades comuns, mas a diferença básica é que a lista é mutável e a tupla é imutável.\n",
        "\n",
        "**O que é imutável?**\n",
        "Conforme o glossário da documentação da linguagem Python, imutável refere-se a um objeto com valor fixo. Objetos imutáveis incluem strings, números e tuplas. Caso seja necessário alterar o valor de um objeto imutável, outro objeto deve ser criado a fim de armazená-lo. Eles desempenham um papel importante em locais onde um valor de hash constante é necessário, por exemplo como uma chave em um dicionário.\n",
        "\n",
        "Na prática, isso implica em que não é possível fazer atribuições à um objeto imutável. Para uma lista, como o exemplo abaixo, é possível alterá-la através de uma operação de atribuição:"
      ]
    },
    {
      "cell_type": "code",
      "metadata": {
        "id": "-wv2aZpLLkPE",
        "outputId": "4af33165-aa21-40c0-b07a-d073b35c2981",
        "colab": {
          "base_uri": "https://localhost:8080/"
        }
      },
      "source": [
        "# Lista é Mutável\n",
        ">>> lista = [0, 1, 2, 3]\n",
        ">>> print(lista)\n"
      ],
      "execution_count": 51,
      "outputs": [
        {
          "output_type": "stream",
          "name": "stdout",
          "text": [
            "[0, 1, 2, 3]\n"
          ]
        }
      ]
    },
    {
      "cell_type": "code",
      "metadata": {
        "id": "ztrhddYKfAei",
        "colab": {
          "base_uri": "https://localhost:8080/"
        },
        "outputId": "a3f2b7af-7c40-48e3-e0de-0a4e1c24d1de"
      },
      "source": [
        ">>> lista[0] = 9\n",
        ">>> print(lista)\n"
      ],
      "execution_count": 52,
      "outputs": [
        {
          "output_type": "stream",
          "name": "stdout",
          "text": [
            "[9, 1, 2, 3]\n"
          ]
        }
      ]
    },
    {
      "cell_type": "code",
      "metadata": {
        "id": "r1fSHdO4LsEQ",
        "colab": {
          "base_uri": "https://localhost:8080/"
        },
        "outputId": "c9a03882-9c5c-4d9f-a95b-81c59ae1efbd"
      },
      "source": [
        "# Tupla é Imutável\n",
        ">>> tupla = (0, 1, 2, 3)\n",
        ">>> print(tupla)\n"
      ],
      "execution_count": 53,
      "outputs": [
        {
          "output_type": "stream",
          "name": "stdout",
          "text": [
            "(0, 1, 2, 3)\n"
          ]
        }
      ]
    },
    {
      "cell_type": "code",
      "metadata": {
        "id": "YzLC2gRWfG-C"
      },
      "source": [
        ">>> tupla[0] = 9\n",
        "TypeError: 'tuple' object does not support item assignment"
      ],
      "execution_count": null,
      "outputs": []
    },
    {
      "cell_type": "markdown",
      "metadata": {
        "id": "xALSqwcZLQ3L"
      },
      "source": [
        "# 4° Dicionários"
      ]
    },
    {
      "cell_type": "markdown",
      "metadata": {
        "id": "1MA9258SMBmw"
      },
      "source": [
        "Dicionário é um conjunto não ordenado de pares chave e valor, com o requisito de que as chaves sejam únicas (dentro de um dicionário).\n",
        "Um par de chaves cria um dicionário vazio: {}.\n",
        "\n",
        "Dicionários são um coleção desordenada de objetos representados na forma de chave, valor onde a chave é usada para referenciar um determinado valor. As chaves de um dicionário só podem ser de um tipo imutável como inteiros, floats e strings e Tuplas.\n",
        "\n",
        "Dicionários não possuem uma noção de índice e não podem ser fatiados.\n",
        "\n",
        "Dicionários são mutáveis de forma que a qualquer momento você pode inserir ou remover itens."
      ]
    },
    {
      "cell_type": "code",
      "metadata": {
        "id": "vF8f21_WMwmW"
      },
      "source": [
        "# Dicionários são criados colocando os pares \"chave e valor\" entre chaves { } das seguinte forma:\n",
        "\n",
        "dicionario = {'Bruno': 23, 'Nadim': 45, 'Marlos': 'Fortran', 'Hott': 'Java', 'Eduardo': 'SAS'}"
      ],
      "execution_count": 55,
      "outputs": []
    },
    {
      "cell_type": "code",
      "metadata": {
        "id": "8-_EBX1_guWf",
        "colab": {
          "base_uri": "https://localhost:8080/"
        },
        "outputId": "ee583767-d419-42ef-d647-80f8fd85dd5b"
      },
      "source": [
        "dicionario"
      ],
      "execution_count": 56,
      "outputs": [
        {
          "output_type": "execute_result",
          "data": {
            "text/plain": [
              "{'Bruno': 23,\n",
              " 'Nadim': 45,\n",
              " 'Marlos': 'Fortran',\n",
              " 'Hott': 'Java',\n",
              " 'Eduardo': 'SAS'}"
            ]
          },
          "metadata": {},
          "execution_count": 56
        }
      ]
    },
    {
      "cell_type": "code",
      "metadata": {
        "id": "LPQPPCDXNfDR",
        "colab": {
          "base_uri": "https://localhost:8080/",
          "height": 36
        },
        "outputId": "7dd160e1-c7fa-48f0-ac6f-a9c7b9e36198"
      },
      "source": [
        "dicionario['Hott']"
      ],
      "execution_count": 57,
      "outputs": [
        {
          "output_type": "execute_result",
          "data": {
            "text/plain": [
              "'Java'"
            ],
            "application/vnd.google.colaboratory.intrinsic+json": {
              "type": "string"
            }
          },
          "metadata": {},
          "execution_count": 57
        }
      ]
    },
    {
      "cell_type": "code",
      "metadata": {
        "id": "qNnZnu__3XeR",
        "colab": {
          "base_uri": "https://localhost:8080/"
        },
        "outputId": "18ab003d-b735-4f21-a7af-a42c6b56537e"
      },
      "source": [
        "dicionario['Nadim']"
      ],
      "execution_count": 58,
      "outputs": [
        {
          "output_type": "execute_result",
          "data": {
            "text/plain": [
              "45"
            ]
          },
          "metadata": {},
          "execution_count": 58
        }
      ]
    },
    {
      "cell_type": "code",
      "metadata": {
        "id": "CZjg4UMeAvJD",
        "colab": {
          "base_uri": "https://localhost:8080/"
        },
        "outputId": "00c6e4d7-a03a-4a24-a8c6-a234c01007c2"
      },
      "source": [
        "# Mais Exemplos: definindo um dictionary\n",
        "dicionario = {\n",
        "  'chave_1' : 4,\n",
        "  'chave_2' : 5,\n",
        "  'chave_3' : 6,\n",
        "  'chave_4' : 7\n",
        "}\n",
        "dicionario"
      ],
      "execution_count": 59,
      "outputs": [
        {
          "output_type": "execute_result",
          "data": {
            "text/plain": [
              "{'chave_1': 4, 'chave_2': 5, 'chave_3': 6, 'chave_4': 7}"
            ]
          },
          "metadata": {},
          "execution_count": 59
        }
      ]
    },
    {
      "cell_type": "code",
      "metadata": {
        "id": "2YMdP-3rAvbz",
        "colab": {
          "base_uri": "https://localhost:8080/"
        },
        "outputId": "b9b2f24c-52ce-41f0-d1c7-52b3f4ad7018"
      },
      "source": [
        "# Acessando um \"valor\" pela sua chave\n",
        "print('\\n\\nO valor da \"chave_1\" no dicionario é ==> ',dicionario['chave_1'])"
      ],
      "execution_count": 66,
      "outputs": [
        {
          "output_type": "stream",
          "name": "stdout",
          "text": [
            "\n",
            "\n",
            "O valor da \"chave_1\" no dicionario é ==>  1000\n"
          ]
        }
      ]
    },
    {
      "cell_type": "code",
      "metadata": {
        "id": "uRp_a2qoAvfa",
        "colab": {
          "base_uri": "https://localhost:8080/"
        },
        "outputId": "aeb92ca9-d047-44f4-dce7-2a880aba2f47"
      },
      "source": [
        "# dictionaries are mutable\n",
        "dicionario['chave_1'] = 1000\n",
        "print('\\n\\nO valor da \"chave_1\" no dicionario é ==> ',dicionario['chave_1'])"
      ],
      "execution_count": 61,
      "outputs": [
        {
          "output_type": "stream",
          "name": "stdout",
          "text": [
            "\n",
            "\n",
            "O valor da \"chave_1\" no dicionario é ==>  1000\n"
          ]
        }
      ]
    },
    {
      "cell_type": "code",
      "metadata": {
        "id": "YEKv6hwhAvjp",
        "colab": {
          "base_uri": "https://localhost:8080/"
        },
        "outputId": "2fc2e084-f315-42c8-8493-f5b0815d18a8"
      },
      "source": [
        "#keys of dictionary\n",
        "print('\\nAs \"chaves\" do dicionário são ==>  ',dicionario.keys())\n"
      ],
      "execution_count": 62,
      "outputs": [
        {
          "output_type": "stream",
          "name": "stdout",
          "text": [
            "\n",
            "As \"chaves\" do dicionário são ==>   dict_keys(['chave_1', 'chave_2', 'chave_3', 'chave_4'])\n"
          ]
        }
      ]
    },
    {
      "cell_type": "code",
      "metadata": {
        "id": "EcTNfMVzj_P5",
        "colab": {
          "base_uri": "https://localhost:8080/"
        },
        "outputId": "5f19cd33-a1bd-46ac-c3b0-e6ab771cb7e9"
      },
      "source": [
        "dicionario.keys()"
      ],
      "execution_count": 63,
      "outputs": [
        {
          "output_type": "execute_result",
          "data": {
            "text/plain": [
              "dict_keys(['chave_1', 'chave_2', 'chave_3', 'chave_4'])"
            ]
          },
          "metadata": {},
          "execution_count": 63
        }
      ]
    },
    {
      "cell_type": "code",
      "metadata": {
        "id": "EB0Vt2RrkQWL",
        "colab": {
          "base_uri": "https://localhost:8080/"
        },
        "outputId": "fa2e1193-924f-4c50-8f4e-eb4661da5433"
      },
      "source": [
        "dicionario.values()"
      ],
      "execution_count": 64,
      "outputs": [
        {
          "output_type": "execute_result",
          "data": {
            "text/plain": [
              "dict_values([1000, 5, 6, 7])"
            ]
          },
          "metadata": {},
          "execution_count": 64
        }
      ]
    },
    {
      "cell_type": "code",
      "metadata": {
        "id": "cSXS9cwM54se",
        "colab": {
          "base_uri": "https://localhost:8080/"
        },
        "outputId": "f3ed5418-cff6-44b6-822d-587f41fa5453"
      },
      "source": [
        "dicionario"
      ],
      "execution_count": 65,
      "outputs": [
        {
          "output_type": "execute_result",
          "data": {
            "text/plain": [
              "{'chave_1': 1000, 'chave_2': 5, 'chave_3': 6, 'chave_4': 7}"
            ]
          },
          "metadata": {},
          "execution_count": 65
        }
      ]
    },
    {
      "cell_type": "markdown",
      "metadata": {
        "id": "XTRc7NjBKG65"
      },
      "source": [
        "# Fim"
      ]
    },
    {
      "cell_type": "markdown",
      "metadata": {
        "id": "_fHqFSvWe94c"
      },
      "source": [
        "## Valeu!"
      ]
    },
    {
      "cell_type": "markdown",
      "metadata": {
        "id": "JCGIEsSrKG66"
      },
      "source": [
        "### #Instagram - Ciencia dos Dados <a href=\"http://instagram.com/cienciadosdados\">instagram.com/cienciadosdados</a>\n"
      ]
    }
  ]
}