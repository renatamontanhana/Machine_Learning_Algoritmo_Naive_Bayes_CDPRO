{
  "nbformat": 4,
  "nbformat_minor": 0,
  "metadata": {
    "colab": {
      "provenance": [],
      "collapsed_sections": [
        "ggjymgHng2Fg",
        "DQbbLeh3g2iB",
        "eqak3bbBR3OU",
        "lV43VVz8R3Ot",
        "rl9NE5dcR3O0",
        "w78BNM62R3O4",
        "yH0ZuzWuginX",
        "mbsVux8Cg2nN",
        "xALSqwcZLQ3L"
      ],
      "include_colab_link": true
    },
    "kernelspec": {
      "name": "python3",
      "display_name": "Python 3"
    }
  },
  "cells": [
    {
      "cell_type": "markdown",
      "metadata": {
        "id": "view-in-github",
        "colab_type": "text"
      },
      "source": [
        "<a href=\"https://colab.research.google.com/github/renatamontanhana/Machine_Learning_Algoritmo_Naive_Bayes_CDPRO/blob/main/M4A9_Tipos_de_Dados_em_Python.ipynb\" target=\"_parent\"><img src=\"https://colab.research.google.com/assets/colab-badge.svg\" alt=\"Open In Colab\"/></a>"
      ]
    },
    {
      "cell_type": "markdown",
      "metadata": {
        "id": "mZVCagpZvZfE"
      },
      "source": [
        "![alt text](https://encrypted-tbn0.gstatic.com/images?q=tbn%3AANd9GcTK4gQ9nhwHHaSXMHpeggWg7twwMCgb877smkRmtkmDeDoGF9Z6&usqp=CAU)"
      ]
    },
    {
      "cell_type": "markdown",
      "metadata": {
        "id": "7oiQVQi0AJ6D"
      },
      "source": [
        "# <font color='BLUE'>Cientista de Dados na Prática </font>\n",
        "\n",
        "# <font color='GREEN'>Módulo 4 - Análise Exploratória dos Dados</font>\n",
        "\n",
        "# <font color='GREY'> Tipos de Dados do Python </font>\n",
        "\n"
      ]
    },
    {
      "cell_type": "markdown",
      "metadata": {
        "id": "ggjymgHng2Fg"
      },
      "source": [
        "# 1° Strings"
      ]
    },
    {
      "cell_type": "markdown",
      "metadata": {
        "id": "KpECQ2NZJHUm"
      },
      "source": [
        "1. As seqüências de caracteres podem ser simplesmente definidas usando aspas simples (‘), duplas (\") ou triplas (''').\n",
        "2. As seqüências de caracteres entre aspas ('') podem se estender por várias linhas e são usadas com freqüência em documentos (a maneira de documentar as funções do Python).\n",
        "3. \\ é usado como um caractere de escape. Observe que as strings do Python são imutáveis, portanto você não pode alterar parte das strings.\n"
      ]
    },
    {
      "cell_type": "code",
      "metadata": {
        "id": "uh1xqISRIA7Z",
        "outputId": "6933146c-8cb2-4413-a019-78d0a9174e57",
        "colab": {
          "base_uri": "https://localhost:8080/",
          "height": 36
        }
      },
      "source": [
        "# definindo uma string\n",
        "my_string = 'Hello'\n",
        "my_string"
      ],
      "execution_count": 3,
      "outputs": [
        {
          "output_type": "execute_result",
          "data": {
            "text/plain": [
              "'Hello'"
            ],
            "application/vnd.google.colaboratory.intrinsic+json": {
              "type": "string"
            }
          },
          "metadata": {},
          "execution_count": 3
        }
      ]
    },
    {
      "cell_type": "code",
      "metadata": {
        "id": "5cRWweadIHTa",
        "outputId": "3fea2044-bc66-4ae3-87a2-ad33dd3baa96",
        "colab": {
          "base_uri": "https://localhost:8080/"
        }
      },
      "source": [
        "# caracter de index igual a 1\n",
        "print('caracter de index 1 = ', my_string[1])"
      ],
      "execution_count": 4,
      "outputs": [
        {
          "output_type": "stream",
          "name": "stdout",
          "text": [
            "caracter de index 1 =  e\n"
          ]
        }
      ]
    },
    {
      "cell_type": "code",
      "metadata": {
        "id": "f7TTHF7IIJmf",
        "outputId": "686de8b7-0b08-497a-9075-da01dac9f64f",
        "colab": {
          "base_uri": "https://localhost:8080/"
        }
      },
      "source": [
        "# Comprimento da string\n",
        "print('O Comprimento da string é ==>', len(my_string))"
      ],
      "execution_count": 5,
      "outputs": [
        {
          "output_type": "stream",
          "name": "stdout",
          "text": [
            "O Comprimento da string é ==> 5\n"
          ]
        }
      ]
    },
    {
      "cell_type": "code",
      "metadata": {
        "id": "Q6XzZvQgdwDB",
        "outputId": "97651cf6-7d4d-4d68-bc64-103757ce1f89",
        "colab": {
          "base_uri": "https://localhost:8080/"
        }
      },
      "source": [
        "len(my_string)"
      ],
      "execution_count": 6,
      "outputs": [
        {
          "output_type": "execute_result",
          "data": {
            "text/plain": [
              "5"
            ]
          },
          "metadata": {},
          "execution_count": 6
        }
      ]
    },
    {
      "cell_type": "code",
      "metadata": {
        "id": "AExl9I1JIMNA",
        "outputId": "1de1a328-3262-418c-edd4-a31afc04d486",
        "colab": {
          "base_uri": "https://localhost:8080/"
        }
      },
      "source": [
        "# string concatenation\n",
        "new_string = my_string+' World'\n",
        "print('A nova String é ==> ',new_string)"
      ],
      "execution_count": 7,
      "outputs": [
        {
          "output_type": "stream",
          "name": "stdout",
          "text": [
            "A nova String é ==>  Hello World\n"
          ]
        }
      ]
    },
    {
      "cell_type": "markdown",
      "metadata": {
        "id": "DQbbLeh3g2iB"
      },
      "source": [
        "# 2° Tuplas"
      ]
    },
    {
      "cell_type": "markdown",
      "metadata": {
        "id": "quVIZMg_KC9i"
      },
      "source": [
        "Uma tupla é representada por um número de valores separados por vírgulas. **As tuplas são imutáveis** e a saída é cercada por parênteses, para que as tuplas aninhadas sejam processadas corretamente. Além disso, embora as tuplas sejam imutáveis, elas podem armazenar dados mutáveis, se necessário.\n",
        "Como as Tuplas são imutáveis e não podem ser alteradas, **seu processamento é mais rápido em comparação às listas**. Portanto, se é improvável que sua lista seja alterada, você deve usar tuplas, em vez de listas."
      ]
    },
    {
      "cell_type": "markdown",
      "metadata": {
        "id": "eqak3bbBR3OU"
      },
      "source": [
        "# Trabalhando com Tuplas"
      ]
    },
    {
      "cell_type": "code",
      "metadata": {
        "id": "zcPPoeMCR3OV"
      },
      "source": [
        "# Tuplas usam parênteses como sintaxe\n",
        "tupla1 = ()"
      ],
      "execution_count": 8,
      "outputs": []
    },
    {
      "cell_type": "code",
      "metadata": {
        "id": "Go1ArBnkR3OY",
        "outputId": "c54e623b-73c8-462a-815b-fd75cf2f15a3",
        "colab": {
          "base_uri": "https://localhost:8080/"
        }
      },
      "source": [
        "tupla1"
      ],
      "execution_count": 9,
      "outputs": [
        {
          "output_type": "execute_result",
          "data": {
            "text/plain": [
              "()"
            ]
          },
          "metadata": {},
          "execution_count": 9
        }
      ]
    },
    {
      "cell_type": "code",
      "metadata": {
        "id": "bmjiycuzR3Oa"
      },
      "source": [
        "tupla1 = ('BMW','Beija-Flor',218.900,100000)"
      ],
      "execution_count": 10,
      "outputs": []
    },
    {
      "cell_type": "code",
      "metadata": {
        "id": "_Y73Pq17R3Oc",
        "colab": {
          "base_uri": "https://localhost:8080/"
        },
        "outputId": "63210fee-6ad1-49b9-bd8f-276e0bf449bb"
      },
      "source": [
        "tupla1"
      ],
      "execution_count": 11,
      "outputs": [
        {
          "output_type": "execute_result",
          "data": {
            "text/plain": [
              "('BMW', 'Beija-Flor', 218.9, 100000)"
            ]
          },
          "metadata": {},
          "execution_count": 11
        }
      ]
    },
    {
      "cell_type": "code",
      "metadata": {
        "id": "UKo8Lv05R3Oe",
        "outputId": "cdc1e858-ffab-4a79-9ce6-0fc21ab9b561",
        "colab": {
          "base_uri": "https://localhost:8080/"
        }
      },
      "source": [
        "# Python 3 aceita criação de uma tupla sem usar a virgula\n",
        "tupla = (10)\n",
        "tupla"
      ],
      "execution_count": 12,
      "outputs": [
        {
          "output_type": "execute_result",
          "data": {
            "text/plain": [
              "10"
            ]
          },
          "metadata": {},
          "execution_count": 12
        }
      ]
    },
    {
      "cell_type": "code",
      "metadata": {
        "id": "pxgP1ffyR3Og",
        "outputId": "28fd5bf7-afbe-4398-e20d-7ccc4f3ed859",
        "colab": {
          "base_uri": "https://localhost:8080/"
        }
      },
      "source": [
        "# Imprimindo elementos da tupla a partir das posições\n",
        "tupla1[0], tupla1[2], tupla1[3]"
      ],
      "execution_count": 13,
      "outputs": [
        {
          "output_type": "execute_result",
          "data": {
            "text/plain": [
              "('BMW', 218.9, 100000)"
            ]
          },
          "metadata": {},
          "execution_count": 13
        }
      ]
    },
    {
      "cell_type": "code",
      "metadata": {
        "id": "OpX8e6-kR3Oi"
      },
      "source": [
        "#Tuplas são imutáveis !! (importante)\n",
        "tupla1[0] = 'AUDI'"
      ],
      "execution_count": null,
      "outputs": []
    },
    {
      "cell_type": "code",
      "metadata": {
        "id": "MBFR4-AdR3Ol"
      },
      "source": [
        "# Criaçao de tuplas aninhadas\n",
        "tupla_aninhada = (1,2,3, (23,43,78))"
      ],
      "execution_count": 15,
      "outputs": []
    },
    {
      "cell_type": "code",
      "metadata": {
        "id": "DpA5IJGfR3On",
        "outputId": "a5d641c5-2f8b-40d5-a7d8-173cee5a8ac2",
        "colab": {
          "base_uri": "https://localhost:8080/"
        }
      },
      "source": [
        "tupla_aninhada[2]"
      ],
      "execution_count": 16,
      "outputs": [
        {
          "output_type": "execute_result",
          "data": {
            "text/plain": [
              "3"
            ]
          },
          "metadata": {},
          "execution_count": 16
        }
      ]
    },
    {
      "cell_type": "code",
      "metadata": {
        "id": "qWaUB1zGR3Or",
        "outputId": "00542f38-7a4b-4ff5-8a7c-0991751c6266",
        "colab": {
          "base_uri": "https://localhost:8080/"
        }
      },
      "source": [
        "# Acessando o primeiro valor da lista aninhada\n",
        "tupla_aninhada[3][1]"
      ],
      "execution_count": 17,
      "outputs": [
        {
          "output_type": "execute_result",
          "data": {
            "text/plain": [
              "43"
            ]
          },
          "metadata": {},
          "execution_count": 17
        }
      ]
    },
    {
      "cell_type": "markdown",
      "metadata": {
        "id": "lV43VVz8R3Ot"
      },
      "source": [
        "# Operações Básicas"
      ]
    },
    {
      "cell_type": "code",
      "metadata": {
        "id": "P1ypkrYNR3Ot"
      },
      "source": [
        "# Operação de Repetição e criação de nova tupla\n",
        "tupla2 = tupla1 * 3"
      ],
      "execution_count": 19,
      "outputs": []
    },
    {
      "cell_type": "code",
      "metadata": {
        "scrolled": true,
        "id": "VhRd1aEGR3Ov",
        "colab": {
          "base_uri": "https://localhost:8080/"
        },
        "outputId": "faf351cb-0c3c-4518-cd0e-b6095169ba40"
      },
      "source": [
        "tupla2"
      ],
      "execution_count": 20,
      "outputs": [
        {
          "output_type": "execute_result",
          "data": {
            "text/plain": [
              "('BMW',\n",
              " 'Beija-Flor',\n",
              " 218.9,\n",
              " 100000,\n",
              " 'BMW',\n",
              " 'Beija-Flor',\n",
              " 218.9,\n",
              " 100000,\n",
              " 'BMW',\n",
              " 'Beija-Flor',\n",
              " 218.9,\n",
              " 100000)"
            ]
          },
          "metadata": {},
          "execution_count": 20
        }
      ]
    },
    {
      "cell_type": "code",
      "metadata": {
        "id": "EPnKj8D51Jxl",
        "colab": {
          "base_uri": "https://localhost:8080/"
        },
        "outputId": "47471a7c-e818-4635-cb8b-e0c608bf935c"
      },
      "source": [
        "tupla1"
      ],
      "execution_count": 21,
      "outputs": [
        {
          "output_type": "execute_result",
          "data": {
            "text/plain": [
              "('BMW', 'Beija-Flor', 218.9, 100000)"
            ]
          },
          "metadata": {},
          "execution_count": 21
        }
      ]
    },
    {
      "cell_type": "code",
      "metadata": {
        "id": "nm4RdJRdR3Ox",
        "outputId": "7d8e6175-df91-4b40-f17f-53a57d852ce4",
        "colab": {
          "base_uri": "https://localhost:8080/"
        }
      },
      "source": [
        "# Concatena Tuplas\n",
        "tupla_concatenada = (1, 2, 3) + (4, 5, 6)\n",
        "tupla_concatenada"
      ],
      "execution_count": 22,
      "outputs": [
        {
          "output_type": "execute_result",
          "data": {
            "text/plain": [
              "(1, 2, 3, 4, 5, 6)"
            ]
          },
          "metadata": {},
          "execution_count": 22
        }
      ]
    },
    {
      "cell_type": "code",
      "metadata": {
        "id": "JekNhCZ6R3Oz",
        "outputId": "d3c5a3fd-4d22-4bd4-8f5c-737984847dea",
        "colab": {
          "base_uri": "https://localhost:8080/"
        }
      },
      "source": [
        "# Checa se o elemento pertence a tupla\n",
        "'Beija-Flor' in tupla1"
      ],
      "execution_count": 23,
      "outputs": [
        {
          "output_type": "execute_result",
          "data": {
            "text/plain": [
              "True"
            ]
          },
          "metadata": {},
          "execution_count": 23
        }
      ]
    },
    {
      "cell_type": "code",
      "metadata": {
        "id": "K5tiYVVY1kF-",
        "outputId": "2566d9ff-4fd2-4006-ce26-b7e6079cbe48",
        "colab": {
          "base_uri": "https://localhost:8080/"
        }
      },
      "source": [
        "tupla1"
      ],
      "execution_count": 24,
      "outputs": [
        {
          "output_type": "execute_result",
          "data": {
            "text/plain": [
              "('BMW', 'Beija-Flor', 218.9, 100000)"
            ]
          },
          "metadata": {},
          "execution_count": 24
        }
      ]
    },
    {
      "cell_type": "markdown",
      "metadata": {
        "id": "rl9NE5dcR3O0"
      },
      "source": [
        "# Slicing ou Fatiamento"
      ]
    },
    {
      "cell_type": "code",
      "metadata": {
        "id": "ao_vEOoCR3O1",
        "colab": {
          "base_uri": "https://localhost:8080/"
        },
        "outputId": "0ba37b33-be66-4ea4-fbd5-c6eed7f7524a"
      },
      "source": [
        "# Percorre a tupla do elemento na posição 2 em diante.\n",
        "tupla1[2:]"
      ],
      "execution_count": 25,
      "outputs": [
        {
          "output_type": "execute_result",
          "data": {
            "text/plain": [
              "(218.9, 100000)"
            ]
          },
          "metadata": {},
          "execution_count": 25
        }
      ]
    },
    {
      "cell_type": "code",
      "metadata": {
        "id": "e9Io3G8nR3O2",
        "outputId": "9cb66b77-e6a1-4193-bdf0-d8b3f8923501",
        "colab": {
          "base_uri": "https://localhost:8080/"
        }
      },
      "source": [
        "# Percorre a tupla do elemento na posição 1 até o elemento na posição 3\n",
        "tupla1[1:4]"
      ],
      "execution_count": 26,
      "outputs": [
        {
          "output_type": "execute_result",
          "data": {
            "text/plain": [
              "('Beija-Flor', 218.9, 100000)"
            ]
          },
          "metadata": {},
          "execution_count": 26
        }
      ]
    },
    {
      "cell_type": "markdown",
      "metadata": {
        "id": "w78BNM62R3O4"
      },
      "source": [
        "# Métodos Disponíveis (funções)"
      ]
    },
    {
      "cell_type": "code",
      "metadata": {
        "id": "KGIvJWIeR3O4",
        "colab": {
          "base_uri": "https://localhost:8080/"
        },
        "outputId": "52fd4e7d-d96e-49c1-ce52-411f5ae9fd90"
      },
      "source": [
        "# Conta a frequência de um elemento\n",
        "tupla1.count('Beija-Flor')"
      ],
      "execution_count": 27,
      "outputs": [
        {
          "output_type": "execute_result",
          "data": {
            "text/plain": [
              "1"
            ]
          },
          "metadata": {},
          "execution_count": 27
        }
      ]
    },
    {
      "cell_type": "code",
      "metadata": {
        "id": "lSPFT_ZbR3O6",
        "outputId": "22e9f8e9-2ac5-4d38-c3f1-b80189f1685e",
        "colab": {
          "base_uri": "https://localhost:8080/"
        }
      },
      "source": [
        "# Retorna a posição do elemento.\n",
        "tupla1.index(218.9)"
      ],
      "execution_count": 28,
      "outputs": [
        {
          "output_type": "execute_result",
          "data": {
            "text/plain": [
              "2"
            ]
          },
          "metadata": {},
          "execution_count": 28
        }
      ]
    },
    {
      "cell_type": "code",
      "metadata": {
        "id": "C_Q3eyG62Xtg",
        "outputId": "0bbb87e5-6b1a-4751-d87f-fc6b39fd23ef",
        "colab": {
          "base_uri": "https://localhost:8080/"
        }
      },
      "source": [
        "tupla1"
      ],
      "execution_count": 29,
      "outputs": [
        {
          "output_type": "execute_result",
          "data": {
            "text/plain": [
              "('BMW', 'Beija-Flor', 218.9, 100000)"
            ]
          },
          "metadata": {},
          "execution_count": 29
        }
      ]
    },
    {
      "cell_type": "code",
      "metadata": {
        "id": "7W9KW8l_R3O8",
        "outputId": "5e6f348d-fc2d-4184-c1d6-1f9610612ce2",
        "colab": {
          "base_uri": "https://localhost:8080/"
        }
      },
      "source": [
        "# Retorna o tamanho da tupla\n",
        "len(tupla1)"
      ],
      "execution_count": 30,
      "outputs": [
        {
          "output_type": "execute_result",
          "data": {
            "text/plain": [
              "4"
            ]
          },
          "metadata": {},
          "execution_count": 30
        }
      ]
    },
    {
      "cell_type": "code",
      "metadata": {
        "id": "y2aEl9L2R3O9",
        "outputId": "08dc44fc-d22b-4c5b-aa8a-b3255a0308d8",
        "colab": {
          "base_uri": "https://localhost:8080/"
        }
      },
      "source": [
        "# Retorna o maior valor da tupla\n",
        "tupla2 = (1,2,8,218000,99.0)\n",
        "max(tupla2)"
      ],
      "execution_count": 31,
      "outputs": [
        {
          "output_type": "execute_result",
          "data": {
            "text/plain": [
              "218000"
            ]
          },
          "metadata": {},
          "execution_count": 31
        }
      ]
    },
    {
      "cell_type": "code",
      "metadata": {
        "id": "BvioPja0R3O_",
        "outputId": "fefb5a1c-c791-4dfd-b2fa-5bfa0ce030b2",
        "colab": {
          "base_uri": "https://localhost:8080/"
        }
      },
      "source": [
        "# Retorna o menor valor da tupla\n",
        "min(tupla2)"
      ],
      "execution_count": 32,
      "outputs": [
        {
          "output_type": "execute_result",
          "data": {
            "text/plain": [
              "1"
            ]
          },
          "metadata": {},
          "execution_count": 32
        }
      ]
    },
    {
      "cell_type": "code",
      "metadata": {
        "id": "4NcqAuCbR3PA",
        "colab": {
          "base_uri": "https://localhost:8080/"
        },
        "outputId": "a7754edc-5ce1-4cc8-de2d-62265b715ee5"
      },
      "source": [
        "# Criando uma lista\n",
        "lista = [1,3,4,3,89.9,765,'Ciência dos Dados','Machine Learning']\n",
        "lista"
      ],
      "execution_count": 33,
      "outputs": [
        {
          "output_type": "execute_result",
          "data": {
            "text/plain": [
              "[1, 3, 4, 3, 89.9, 765, 'Ciência dos Dados', 'Machine Learning']"
            ]
          },
          "metadata": {},
          "execution_count": 33
        }
      ]
    },
    {
      "cell_type": "code",
      "metadata": {
        "id": "CKdmB-0E2tEo",
        "outputId": "0f9c296a-7003-4b18-ab43-7232a0d616f6",
        "colab": {
          "base_uri": "https://localhost:8080/"
        }
      },
      "source": [
        "type(lista)"
      ],
      "execution_count": 34,
      "outputs": [
        {
          "output_type": "execute_result",
          "data": {
            "text/plain": [
              "list"
            ]
          },
          "metadata": {},
          "execution_count": 34
        }
      ]
    },
    {
      "cell_type": "code",
      "metadata": {
        "id": "A9JehGPyR3PC"
      },
      "source": [
        "# Converte uma lista em tupla\n",
        "tupla3 = tuple(lista)"
      ],
      "execution_count": 35,
      "outputs": []
    },
    {
      "cell_type": "code",
      "metadata": {
        "id": "Dl0RZUevR3PD",
        "outputId": "677af3e4-1d0c-4ab1-922e-2bb567b1aba0",
        "colab": {
          "base_uri": "https://localhost:8080/"
        }
      },
      "source": [
        "type(tupla3)"
      ],
      "execution_count": 36,
      "outputs": [
        {
          "output_type": "execute_result",
          "data": {
            "text/plain": [
              "tuple"
            ]
          },
          "metadata": {},
          "execution_count": 36
        }
      ]
    },
    {
      "cell_type": "code",
      "metadata": {
        "id": "bTTKW0z4R3PF",
        "outputId": "f83fd06a-4195-47ae-9095-cecc1aaf13a4",
        "colab": {
          "base_uri": "https://localhost:8080/"
        }
      },
      "source": [
        "tupla3"
      ],
      "execution_count": 37,
      "outputs": [
        {
          "output_type": "execute_result",
          "data": {
            "text/plain": [
              "(1, 3, 4, 3, 89.9, 765, 'Ciência dos Dados', 'Machine Learning')"
            ]
          },
          "metadata": {},
          "execution_count": 37
        }
      ]
    },
    {
      "cell_type": "markdown",
      "metadata": {
        "id": "yH0ZuzWuginX"
      },
      "source": [
        "# 3° Listas"
      ]
    },
    {
      "cell_type": "markdown",
      "metadata": {
        "id": "nl9v2zZJBC1D"
      },
      "source": [
        "As listas são uma das estruturas de dados mais versáteis do Python. Uma lista pode simplesmente ser definida escrevendo uma lista de valores separados por vírgula entre colchetes. As listas podem conter itens de tipos diferentes, mas geralmente todos os itens têm o mesmo tipo. As listas Python são mutáveis e os elementos individuais de uma lista podem ser alterados.Aqui está um exemplo rápido para definir uma lista e acessá-la:"
      ]
    },
    {
      "cell_type": "code",
      "metadata": {
        "id": "05THS6rXBS8n"
      },
      "source": [
        "# Criando uma lista qualquer de valores\n",
        "List = [9999, 1, 4, 9, 16, 25, 'vc é fera']\n"
      ],
      "execution_count": 38,
      "outputs": []
    },
    {
      "cell_type": "code",
      "metadata": {
        "id": "VHgP38UXBVLB",
        "colab": {
          "base_uri": "https://localhost:8080/"
        },
        "outputId": "c35acd11-e212-420d-f212-6149e5af7269"
      },
      "source": [
        "'''Itens indivuduais podem ser acessados pelo Índice'''\n",
        "#Indexando e retornando os itens\n",
        "List[0]\n"
      ],
      "execution_count": 39,
      "outputs": [
        {
          "output_type": "execute_result",
          "data": {
            "text/plain": [
              "9999"
            ]
          },
          "metadata": {},
          "execution_count": 39
        }
      ]
    },
    {
      "cell_type": "code",
      "metadata": {
        "id": "yOS5QdIGBXwG",
        "colab": {
          "base_uri": "https://localhost:8080/"
        },
        "outputId": "6c5e6898-7b49-4d0a-c025-cbed6b9db015"
      },
      "source": [
        "'''slicing ou Fatiamento ou Filtro da lista'''\n",
        "# Uma range de itens podem ser acessada informando uma faixa de valores de índices\n",
        "\n",
        "print('Itens entre os índices de valores 2 a 4 ==> ', List[2:4])\n"
      ],
      "execution_count": 40,
      "outputs": [
        {
          "output_type": "stream",
          "name": "stdout",
          "text": [
            "Itens entre os índices de valores 2 a 4 ==>  [4, 9]\n"
          ]
        }
      ]
    },
    {
      "cell_type": "code",
      "metadata": {
        "id": "xsQevkrtBZpO",
        "outputId": "1c4bcf48-c320-4827-9709-fff3b1e62080",
        "colab": {
          "base_uri": "https://localhost:8080/"
        }
      },
      "source": [
        "'''Acessando elementos do final com índice negativo'''\n",
        "# Fatiando do Final para frente\n",
        "\n",
        "print('O último elemento da lista é ==>', List[-1])"
      ],
      "execution_count": 41,
      "outputs": [
        {
          "output_type": "stream",
          "name": "stdout",
          "text": [
            "O último elemento da lista é ==> vc é fera\n"
          ]
        }
      ]
    },
    {
      "cell_type": "markdown",
      "metadata": {
        "id": "mbsVux8Cg2nN"
      },
      "source": [
        "# Diferença entre Lista e Tupla"
      ]
    },
    {
      "cell_type": "markdown",
      "metadata": {
        "id": "OSwJA0KwLXXW"
      },
      "source": [
        "Ambas são tipos de sequências de dados, mas uma é mutável (lista) e a outra imutável (tupla). Tanto lista como tupla são sequências de dados e possuem muitas propriedades comuns, mas a diferença básica é que a lista é mutável e a tupla é imutável.\n",
        "\n",
        "**O que é imutável?**\n",
        "Conforme o glossário da documentação da linguagem Python, imutável refere-se a um objeto com valor fixo. Objetos imutáveis incluem strings, números e tuplas. Caso seja necessário alterar o valor de um objeto imutável, outro objeto deve ser criado a fim de armazená-lo. Eles desempenham um papel importante em locais onde um valor de hash constante é necessário, por exemplo como uma chave em um dicionário.\n",
        "\n",
        "Na prática, isso implica em que não é possível fazer atribuições à um objeto imutável. Para uma lista, como o exemplo abaixo, é possível alterá-la através de uma operação de atribuição:"
      ]
    },
    {
      "cell_type": "code",
      "metadata": {
        "id": "-wv2aZpLLkPE",
        "outputId": "b3ef6bb2-2609-4c08-89a0-4d2fd9feee9d",
        "colab": {
          "base_uri": "https://localhost:8080/"
        }
      },
      "source": [
        "# Lista é Mutável\n",
        ">>> lista = [0, 1, 2, 3]\n",
        ">>> print(lista)\n"
      ],
      "execution_count": 42,
      "outputs": [
        {
          "output_type": "stream",
          "name": "stdout",
          "text": [
            "[0, 1, 2, 3]\n"
          ]
        }
      ]
    },
    {
      "cell_type": "code",
      "metadata": {
        "id": "ztrhddYKfAei",
        "colab": {
          "base_uri": "https://localhost:8080/"
        },
        "outputId": "03ac1a01-0635-4fa8-c2c7-9761f5e66fea"
      },
      "source": [
        ">>> lista[0] = 9\n",
        ">>> print(lista)\n"
      ],
      "execution_count": 43,
      "outputs": [
        {
          "output_type": "stream",
          "name": "stdout",
          "text": [
            "[9, 1, 2, 3]\n"
          ]
        }
      ]
    },
    {
      "cell_type": "code",
      "metadata": {
        "id": "r1fSHdO4LsEQ",
        "colab": {
          "base_uri": "https://localhost:8080/"
        },
        "outputId": "8840e77e-1a4c-4fc4-a46f-c372fca806ca"
      },
      "source": [
        "# Tupla é Imutável\n",
        ">>> tupla = (0, 1, 2, 3)\n",
        ">>> print(tupla)\n"
      ],
      "execution_count": 44,
      "outputs": [
        {
          "output_type": "stream",
          "name": "stdout",
          "text": [
            "(0, 1, 2, 3)\n"
          ]
        }
      ]
    },
    {
      "cell_type": "code",
      "metadata": {
        "id": "YzLC2gRWfG-C",
        "colab": {
          "base_uri": "https://localhost:8080/",
          "height": 145
        },
        "outputId": "fba6b2ed-beed-4fe6-9f65-3bf713444eb5"
      },
      "source": [
        ">>> tupla[0] = 9\n",
        "TypeError: 'tuple' object does not support item assignment"
      ],
      "execution_count": 45,
      "outputs": [
        {
          "output_type": "error",
          "ename": "SyntaxError",
          "evalue": "ignored",
          "traceback": [
            "\u001b[0;36m  File \u001b[0;32m\"<ipython-input-45-59c909c370f2>\"\u001b[0;36m, line \u001b[0;32m2\u001b[0m\n\u001b[0;31m    TypeError: 'tuple' object does not support item assignment\u001b[0m\n\u001b[0m                       ^\u001b[0m\n\u001b[0;31mSyntaxError\u001b[0m\u001b[0;31m:\u001b[0m invalid syntax\n"
          ]
        }
      ]
    },
    {
      "cell_type": "markdown",
      "metadata": {
        "id": "xALSqwcZLQ3L"
      },
      "source": [
        "# 4° Dicionários"
      ]
    },
    {
      "cell_type": "markdown",
      "metadata": {
        "id": "1MA9258SMBmw"
      },
      "source": [
        "Dicionário é um conjunto não ordenado de pares chave e valor, com o requisito de que as chaves sejam únicas (dentro de um dicionário).\n",
        "Um par de chaves cria um dicionário vazio: {}.\n",
        "\n",
        "Dicionários são um coleção desordenada de objetos representados na forma de chave, valor onde a chave é usada para referenciar um determinado valor. As chaves de um dicionário só podem ser de um tipo imutável como inteiros, floats e strings e Tuplas.\n",
        "\n",
        "Dicionários não possuem uma noção de índice e não podem ser fatiados.\n",
        "\n",
        "Dicionários são mutáveis de forma que a qualquer momento você pode inserir ou remover itens."
      ]
    },
    {
      "cell_type": "code",
      "metadata": {
        "id": "vF8f21_WMwmW"
      },
      "source": [
        "# Dicionários são criados colocando os pares \"chave e valor\" entre chaves { } das seguinte forma:\n",
        "\n",
        "dicionario = {'Bruno': 23, 'Nadim': 45, 'Marlos': 'Fortran', 'Hott': 'Java', 'Eduardo': 'SAS'}"
      ],
      "execution_count": null,
      "outputs": []
    },
    {
      "cell_type": "code",
      "metadata": {
        "id": "8-_EBX1_guWf"
      },
      "source": [
        "dicionario"
      ],
      "execution_count": null,
      "outputs": []
    },
    {
      "cell_type": "code",
      "metadata": {
        "id": "LPQPPCDXNfDR"
      },
      "source": [
        "dicionario['Hott']"
      ],
      "execution_count": null,
      "outputs": []
    },
    {
      "cell_type": "code",
      "metadata": {
        "id": "qNnZnu__3XeR"
      },
      "source": [
        "dicionario['Nadim']"
      ],
      "execution_count": null,
      "outputs": []
    },
    {
      "cell_type": "code",
      "metadata": {
        "id": "CZjg4UMeAvJD"
      },
      "source": [
        "# Mais Exemplos: definindo um dictionary\n",
        "dicionario = {\n",
        "  'chave_1' : 4,\n",
        "  'chave_2' : 5,\n",
        "  'chave_3' : 6,\n",
        "  'chave_4' : 7\n",
        "}\n",
        "dicionario"
      ],
      "execution_count": null,
      "outputs": []
    },
    {
      "cell_type": "code",
      "metadata": {
        "id": "2YMdP-3rAvbz"
      },
      "source": [
        "# Acessando um \"valor\" pela sua chave\n",
        "print('\\nO valor da \"chave_1\" no dicionario é ==> ',dicionario['chave_1'])"
      ],
      "execution_count": null,
      "outputs": []
    },
    {
      "cell_type": "code",
      "metadata": {
        "id": "uRp_a2qoAvfa"
      },
      "source": [
        "# dictionaries are mutable\n",
        "dicionario['chave_1'] = 1000\n",
        "print('\\n\\nO valor da \"chave_1\" no dicionario é ==> ',dicionario['chave_1'])"
      ],
      "execution_count": null,
      "outputs": []
    },
    {
      "cell_type": "code",
      "metadata": {
        "id": "YEKv6hwhAvjp"
      },
      "source": [
        "#keys of dictionary\n",
        "print('\\nAs \"chaves\" do dicionário são ==>  ',dicionario.keys())\n"
      ],
      "execution_count": null,
      "outputs": []
    },
    {
      "cell_type": "code",
      "metadata": {
        "id": "EcTNfMVzj_P5"
      },
      "source": [
        "dicionario.keys()"
      ],
      "execution_count": null,
      "outputs": []
    },
    {
      "cell_type": "code",
      "metadata": {
        "id": "EB0Vt2RrkQWL"
      },
      "source": [
        "dicionario.values()"
      ],
      "execution_count": null,
      "outputs": []
    },
    {
      "cell_type": "code",
      "metadata": {
        "id": "cSXS9cwM54se"
      },
      "source": [
        "dicionario"
      ],
      "execution_count": null,
      "outputs": []
    },
    {
      "cell_type": "markdown",
      "metadata": {
        "id": "XTRc7NjBKG65"
      },
      "source": [
        "# Fim"
      ]
    },
    {
      "cell_type": "markdown",
      "metadata": {
        "id": "_fHqFSvWe94c"
      },
      "source": [
        "## Valeu!"
      ]
    },
    {
      "cell_type": "markdown",
      "metadata": {
        "id": "JCGIEsSrKG66"
      },
      "source": [
        "### #Instagram - Ciencia dos Dados <a href=\"http://instagram.com/cienciadosdados\">instagram.com/cienciadosdados</a>\n"
      ]
    }
  ]
}