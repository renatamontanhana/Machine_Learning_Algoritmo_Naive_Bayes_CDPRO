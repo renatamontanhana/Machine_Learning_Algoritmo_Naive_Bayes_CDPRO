{
  "cells": [
    {
      "cell_type": "markdown",
      "metadata": {
        "id": "view-in-github",
        "colab_type": "text"
      },
      "source": [
        "<a href=\"https://colab.research.google.com/github/renatamontanhana/Machine_Learning_Algoritmo_Naive_Bayes_CDPRO/blob/main/M4A18_NumPy_(1).ipynb\" target=\"_parent\"><img src=\"https://colab.research.google.com/assets/colab-badge.svg\" alt=\"Open In Colab\"/></a>"
      ]
    },
    {
      "cell_type": "markdown",
      "metadata": {
        "id": "WHSU8NShZedN"
      },
      "source": [
        "![alt text](https://encrypted-tbn0.gstatic.com/images?q=tbn%3AANd9GcTK4gQ9nhwHHaSXMHpeggWg7twwMCgb877smkRmtkmDeDoGF9Z6&usqp=CAU)"
      ]
    },
    {
      "cell_type": "markdown",
      "metadata": {
        "id": "7oiQVQi0AJ6D"
      },
      "source": [
        "# <font color='BLUE'>Cientista de Dados na Prática </font>\n",
        "\n",
        "# <font color='GREEN'>Módulo 4 - Análise Exploratória dos Dados</font>\n",
        "\n",
        "### <font color='GREY'> Numpy - Manipulando arquivos Multidimensionais </font>\n",
        "\n"
      ]
    },
    {
      "cell_type": "markdown",
      "metadata": {
        "id": "lk7bNn2JU616"
      },
      "source": [
        "# Numpy - Análise de Dados  \n"
      ]
    },
    {
      "cell_type": "markdown",
      "metadata": {
        "id": "-W4Hu8WVU618"
      },
      "source": [
        "<p> Simbóra aprender a trabalhar coma biblioteca Numpy.\n"
      ]
    },
    {
      "cell_type": "code",
      "execution_count": null,
      "metadata": {
        "id": "DYivKMPIU619"
      },
      "outputs": [],
      "source": [
        "# Importando a biblioteca numpy\n",
        "import numpy as np"
      ]
    },
    {
      "cell_type": "code",
      "execution_count": null,
      "metadata": {
        "id": "l2bSx6K_U62C"
      },
      "outputs": [],
      "source": [
        "# Criando um array de 1 dimensão\n",
        "one_dim = np.array([1,2,3,4])"
      ]
    },
    {
      "cell_type": "code",
      "execution_count": null,
      "metadata": {
        "colab": {
          "base_uri": "https://localhost:8080/"
        },
        "id": "pqV3FwruU62H",
        "outputId": "05ec679d-5488-45db-ba89-44715e399037"
      },
      "outputs": [
        {
          "output_type": "execute_result",
          "data": {
            "text/plain": [
              "numpy.ndarray"
            ]
          },
          "metadata": {},
          "execution_count": 3
        }
      ],
      "source": [
        "type(one_dim)"
      ]
    },
    {
      "cell_type": "code",
      "execution_count": null,
      "metadata": {
        "colab": {
          "base_uri": "https://localhost:8080/"
        },
        "id": "VeHSNr5nU62K",
        "outputId": "9fe6969f-1bbf-44d6-d1f0-6dc023d2105c"
      },
      "outputs": [
        {
          "output_type": "execute_result",
          "data": {
            "text/plain": [
              "1"
            ]
          },
          "metadata": {},
          "execution_count": 4
        }
      ],
      "source": [
        "# Imprimindo um array.\n",
        "one_dim.ndim"
      ]
    },
    {
      "cell_type": "code",
      "execution_count": null,
      "metadata": {
        "id": "AHxbGyZXU62N"
      },
      "outputs": [],
      "source": [
        "# Criando um array de 2 dimensões.\n",
        "two_dim = np.array([(1,2,3), (4,5,6)])"
      ]
    },
    {
      "cell_type": "code",
      "execution_count": null,
      "metadata": {
        "colab": {
          "base_uri": "https://localhost:8080/"
        },
        "id": "t-uNScA2U62P",
        "outputId": "89d13673-dc54-4658-dc61-ebb72cb77295"
      },
      "outputs": [
        {
          "output_type": "execute_result",
          "data": {
            "text/plain": [
              "2"
            ]
          },
          "metadata": {},
          "execution_count": 6
        }
      ],
      "source": [
        "# Imprimindo o array\n",
        "two_dim.ndim"
      ]
    },
    {
      "cell_type": "code",
      "execution_count": null,
      "metadata": {
        "id": "rgQOd6CVU62S",
        "colab": {
          "base_uri": "https://localhost:8080/"
        },
        "outputId": "a5ee48a5-de8f-4339-ed19-e9c754b3a562"
      },
      "outputs": [
        {
          "output_type": "execute_result",
          "data": {
            "text/plain": [
              "array([[0.92990152, 0.38584198],\n",
              "       [0.9405896 , 0.73402847],\n",
              "       [0.72284162, 0.53289995],\n",
              "       [0.17819585, 0.08291267],\n",
              "       [0.01128985, 0.49163325]])"
            ]
          },
          "metadata": {},
          "execution_count": 7
        }
      ],
      "source": [
        "# Cria um array de números aleatórios.\n",
        "# Um array de 5 linhas e duas dimensões.\n",
        "np.random.random((5,2))"
      ]
    },
    {
      "cell_type": "code",
      "execution_count": null,
      "metadata": {
        "colab": {
          "base_uri": "https://localhost:8080/"
        },
        "id": "wvDkUtr9U62U",
        "outputId": "180fb299-5b22-4c09-d233-6574d23ca89c"
      },
      "outputs": [
        {
          "output_type": "execute_result",
          "data": {
            "text/plain": [
              "array([10, 15, 20, 25, 30, 35, 40, 45])"
            ]
          },
          "metadata": {},
          "execution_count": 12
        }
      ],
      "source": [
        "# Cria um array com valores esparsos iniciando com o valor 10, menor que 50 e incrementando de 5 em 5.\n",
        "np.arange(10,50,5)"
      ]
    },
    {
      "cell_type": "code",
      "execution_count": null,
      "metadata": {
        "colab": {
          "base_uri": "https://localhost:8080/"
        },
        "id": "1zVCoL_wU62X",
        "outputId": "0ba601bf-ea95-4d09-b359-4b0ede729291"
      },
      "outputs": [
        {
          "output_type": "execute_result",
          "data": {
            "text/plain": [
              "array([0.  , 0.25, 0.5 , 0.75, 1.  , 1.25, 1.5 , 1.75, 2.  ])"
            ]
          },
          "metadata": {},
          "execution_count": 13
        }
      ],
      "source": [
        "# cria um array linear de 0 a 2 de no máximo 9 elementos.\n",
        "np.linspace(0,2,9)"
      ]
    },
    {
      "cell_type": "code",
      "execution_count": null,
      "metadata": {
        "colab": {
          "base_uri": "https://localhost:8080/"
        },
        "id": "1IEXxzFMU62Y",
        "outputId": "5b5d0268-b69c-4a0a-dca8-ffcbb15ec807"
      },
      "outputs": [
        {
          "output_type": "execute_result",
          "data": {
            "text/plain": [
              "array([[0., 0., 0., 0., 0.],\n",
              "       [0., 0., 0., 0., 0.],\n",
              "       [0., 0., 0., 0., 0.],\n",
              "       [0., 0., 0., 0., 0.],\n",
              "       [0., 0., 0., 0., 0.],\n",
              "       [0., 0., 0., 0., 0.]])"
            ]
          },
          "metadata": {},
          "execution_count": 9
        }
      ],
      "source": [
        "# Cria um array de valores zero.\n",
        "# Cria um array com 3 linhas e 4 dimensões.\n",
        "np.zeros((6,5))"
      ]
    },
    {
      "cell_type": "markdown",
      "metadata": {
        "id": "F0HBGrYjU62a"
      },
      "source": [
        "# Arrays x Listas"
      ]
    },
    {
      "cell_type": "markdown",
      "metadata": {
        "id": "pBL0Q0BlU62b"
      },
      "source": [
        "- Arrays Numpy permitem fazermos operações em **arrays inteiros** de forma rápida.\n",
        "- Listas não permitem operações em todos os elementos da lista.\n",
        "- Para operações em todos os elementos é preciso interar sobre toda a lista.\n",
        "- Listas em Python armazenam diferentes tipos de objetos\n",
        "- Arrays Numpy considera todos os elementos de tipos distintos como strings\n"
      ]
    },
    {
      "cell_type": "code",
      "execution_count": null,
      "metadata": {
        "id": "OSgVo6WFU62b"
      },
      "outputs": [],
      "source": [
        "# Criando uma lista em Python.\n",
        "lista = [1,2,3]"
      ]
    },
    {
      "cell_type": "code",
      "execution_count": null,
      "metadata": {
        "colab": {
          "base_uri": "https://localhost:8080/"
        },
        "id": "OBVEg2sFU62d",
        "outputId": "5dbf4178-e6ba-4eb9-b1ea-df3b91280545"
      },
      "outputs": [
        {
          "output_type": "execute_result",
          "data": {
            "text/plain": [
              "[1, 2, 3]"
            ]
          },
          "metadata": {},
          "execution_count": 11
        }
      ],
      "source": [
        "lista"
      ]
    },
    {
      "cell_type": "code",
      "execution_count": null,
      "metadata": {
        "colab": {
          "base_uri": "https://localhost:8080/"
        },
        "id": "O-nnTWcarebL",
        "outputId": "6797519e-10d2-4857-f53d-b0eb4c6009d8"
      },
      "outputs": [
        {
          "output_type": "execute_result",
          "data": {
            "text/plain": [
              "list"
            ]
          },
          "metadata": {},
          "execution_count": 12
        }
      ],
      "source": [
        "type(lista)"
      ]
    },
    {
      "cell_type": "code",
      "execution_count": null,
      "metadata": {
        "colab": {
          "base_uri": "https://localhost:8080/"
        },
        "id": "iKaS8MYoU62f",
        "outputId": "aa734f10-9dc6-4bbd-9300-c5faf72f31cb"
      },
      "outputs": [
        {
          "output_type": "execute_result",
          "data": {
            "text/plain": [
              "[1, 2, 3, 1, 2, 3]"
            ]
          },
          "metadata": {},
          "execution_count": 13
        }
      ],
      "source": [
        "# Multiplicar valores da lista por 2.\n",
        "lista * 2"
      ]
    },
    {
      "cell_type": "code",
      "source": [
        "type(lista)"
      ],
      "metadata": {
        "colab": {
          "base_uri": "https://localhost:8080/"
        },
        "id": "0oitUW3IET5n",
        "outputId": "4196f26d-2bcc-40c5-f603-40cd5b9404de"
      },
      "execution_count": null,
      "outputs": [
        {
          "output_type": "execute_result",
          "data": {
            "text/plain": [
              "numpy.ndarray"
            ]
          },
          "metadata": {},
          "execution_count": 24
        }
      ]
    },
    {
      "cell_type": "code",
      "execution_count": null,
      "metadata": {
        "id": "Mh_mDpK7U62g"
      },
      "outputs": [],
      "source": [
        "# Transforme a variável lista em um array Numpy\n",
        "lista = np.array(lista)"
      ]
    },
    {
      "cell_type": "code",
      "execution_count": null,
      "metadata": {
        "colab": {
          "base_uri": "https://localhost:8080/"
        },
        "id": "e43F2Y1_U62i",
        "outputId": "b2805ca9-03fa-484b-af71-1dff38c35f25"
      },
      "outputs": [
        {
          "output_type": "execute_result",
          "data": {
            "text/plain": [
              "numpy.ndarray"
            ]
          },
          "metadata": {},
          "execution_count": 15
        }
      ],
      "source": [
        "# Imprimindo o tipo do objeto.\n",
        "type(lista)"
      ]
    },
    {
      "cell_type": "code",
      "execution_count": null,
      "metadata": {
        "colab": {
          "base_uri": "https://localhost:8080/"
        },
        "id": "w545OkpRU62k",
        "outputId": "de9e15b1-1e1c-4cd9-8495-51304fa4924b"
      },
      "outputs": [
        {
          "output_type": "execute_result",
          "data": {
            "text/plain": [
              "array([2, 4, 6])"
            ]
          },
          "metadata": {},
          "execution_count": 16
        }
      ],
      "source": [
        "# Multiplicando cada elemento por 2.\n",
        "lista * 2"
      ]
    },
    {
      "cell_type": "code",
      "execution_count": null,
      "metadata": {
        "id": "7do4GKVSU62l"
      },
      "outputs": [],
      "source": [
        "# Calcular IMC de pessoas.\n",
        "pesos = [67,81,120,90]\n",
        "altura = [1.68,1.70,1.75,1.85]"
      ]
    },
    {
      "cell_type": "code",
      "execution_count": null,
      "metadata": {
        "id": "QTT_48KCU62o"
      },
      "outputs": [],
      "source": [
        "# Faz o calculo usando as listas\n",
        "pesos / altura ** 2"
      ]
    },
    {
      "cell_type": "code",
      "execution_count": null,
      "metadata": {
        "id": "KGZhZKflU62p"
      },
      "outputs": [],
      "source": [
        "# Transforme isso em arrays numpy\n",
        "pesos = np.array(pesos)\n",
        "altura = np.array(altura)"
      ]
    },
    {
      "cell_type": "code",
      "execution_count": null,
      "metadata": {
        "colab": {
          "base_uri": "https://localhost:8080/"
        },
        "id": "XTBlIBsSU62r",
        "outputId": "0ae59124-2b8d-421b-ecb7-bec6fc4f018b"
      },
      "outputs": [
        {
          "output_type": "execute_result",
          "data": {
            "text/plain": [
              "array([23.73866213, 28.02768166, 39.18367347, 26.29656684])"
            ]
          },
          "metadata": {},
          "execution_count": 19
        }
      ],
      "source": [
        "# Imprime o calculo de cada valor\n",
        "pesos / altura **2"
      ]
    },
    {
      "cell_type": "code",
      "execution_count": null,
      "metadata": {
        "id": "zDOz2pv1U62s"
      },
      "outputs": [],
      "source": [
        "# Arrays Numpy armazena elementos como strins quando estes não são inteiros ou float\n",
        "a = np.array([1,3,'Casa',True])"
      ]
    },
    {
      "cell_type": "code",
      "execution_count": null,
      "metadata": {
        "colab": {
          "base_uri": "https://localhost:8080/"
        },
        "id": "nnLTkKx8U62u",
        "outputId": "c0cbea25-a776-4b2d-e5a2-4ff880a6b1d7"
      },
      "outputs": [
        {
          "output_type": "execute_result",
          "data": {
            "text/plain": [
              "array(['1', '3', 'Casa', 'True'], dtype='<U21')"
            ]
          },
          "metadata": {},
          "execution_count": 21
        }
      ],
      "source": [
        "a"
      ]
    },
    {
      "cell_type": "code",
      "execution_count": null,
      "metadata": {
        "id": "wEgGdzpbU62w"
      },
      "outputs": [],
      "source": [
        "a * 2"
      ]
    },
    {
      "cell_type": "markdown",
      "metadata": {
        "id": "x2dDkTAwU62y"
      },
      "source": [
        "# Métodos e Atributos Úteis"
      ]
    },
    {
      "cell_type": "code",
      "execution_count": null,
      "metadata": {
        "id": "w7t8u94EU62y",
        "colab": {
          "base_uri": "https://localhost:8080/"
        },
        "outputId": "c6115e20-d0a6-470d-c59c-456fcbee1e5d"
      },
      "outputs": [
        {
          "output_type": "execute_result",
          "data": {
            "text/plain": [
              "array([[1, 2, 3],\n",
              "       [4, 5, 6]])"
            ]
          },
          "metadata": {},
          "execution_count": 22
        }
      ],
      "source": [
        "# Métodos disponíveis (digite o . pressione tab).\n",
        "two_dim"
      ]
    },
    {
      "cell_type": "code",
      "execution_count": null,
      "metadata": {
        "id": "KVy5LTa8sfx3"
      },
      "outputs": [],
      "source": [
        "# Criando um array de 2 dimensões.\n",
        "two_dim = np.array([(1,2,3), (4,5,6)])"
      ]
    },
    {
      "cell_type": "code",
      "execution_count": null,
      "metadata": {
        "colab": {
          "base_uri": "https://localhost:8080/"
        },
        "id": "M-QF2MbJU620",
        "outputId": "4745558b-daed-4d7a-f5fd-06fbe60ef26f"
      },
      "outputs": [
        {
          "output_type": "execute_result",
          "data": {
            "text/plain": [
              "array([[1, 2, 3],\n",
              "       [4, 5, 6]])"
            ]
          },
          "metadata": {},
          "execution_count": 33
        }
      ],
      "source": [
        "two_dim"
      ]
    },
    {
      "cell_type": "code",
      "execution_count": null,
      "metadata": {
        "colab": {
          "base_uri": "https://localhost:8080/"
        },
        "id": "oAEykFHcU623",
        "outputId": "91be5485-93ed-4527-e9e4-5f5f3ee6644c"
      },
      "outputs": [
        {
          "output_type": "execute_result",
          "data": {
            "text/plain": [
              "(2, 3)"
            ]
          },
          "metadata": {},
          "execution_count": 24
        }
      ],
      "source": [
        "# Retorna a forma do array no formato linhas e colunas.\n",
        "two_dim.shape"
      ]
    },
    {
      "cell_type": "code",
      "execution_count": null,
      "metadata": {
        "colab": {
          "base_uri": "https://localhost:8080/"
        },
        "id": "qFOeJ3nwU625",
        "outputId": "ac287fe7-8a65-409b-e89f-e101264a06d2"
      },
      "outputs": [
        {
          "output_type": "execute_result",
          "data": {
            "text/plain": [
              "2"
            ]
          },
          "metadata": {},
          "execution_count": 25
        }
      ],
      "source": [
        "# Retorna a quantidade de dimensões.\n",
        "two_dim.ndim"
      ]
    },
    {
      "cell_type": "code",
      "execution_count": null,
      "metadata": {
        "colab": {
          "base_uri": "https://localhost:8080/"
        },
        "id": "CR5GbNRsU626",
        "outputId": "ad71679b-613e-4998-8594-fe0e0a7828a9"
      },
      "outputs": [
        {
          "output_type": "execute_result",
          "data": {
            "text/plain": [
              "6"
            ]
          },
          "metadata": {},
          "execution_count": 26
        }
      ],
      "source": [
        "# Imprimindo o valor máximo do array.\n",
        "two_dim.max()"
      ]
    },
    {
      "cell_type": "code",
      "execution_count": null,
      "metadata": {
        "colab": {
          "base_uri": "https://localhost:8080/"
        },
        "id": "Sr-VGZasU628",
        "outputId": "57aac17a-89e0-45e8-a90f-394c90e2437c"
      },
      "outputs": [
        {
          "output_type": "execute_result",
          "data": {
            "text/plain": [
              "1"
            ]
          },
          "metadata": {},
          "execution_count": 37
        }
      ],
      "source": [
        "# Imprimindo o valor mínimo.\n",
        "two_dim.min()"
      ]
    },
    {
      "cell_type": "code",
      "execution_count": null,
      "metadata": {
        "colab": {
          "base_uri": "https://localhost:8080/"
        },
        "id": "9uX_D_RCU629",
        "outputId": "aad375ce-4352-4f5d-e421-da08b0778b5c"
      },
      "outputs": [
        {
          "output_type": "execute_result",
          "data": {
            "text/plain": [
              "3.5"
            ]
          },
          "metadata": {},
          "execution_count": 27
        }
      ],
      "source": [
        "# Imprimindo o valor médio.\n",
        "two_dim.mean()"
      ]
    },
    {
      "cell_type": "code",
      "execution_count": null,
      "metadata": {
        "id": "h-w6XdChU62_",
        "colab": {
          "base_uri": "https://localhost:8080/"
        },
        "outputId": "1f52d65a-9086-4074-9096-b25499c1066f"
      },
      "outputs": [
        {
          "output_type": "execute_result",
          "data": {
            "text/plain": [
              "1.707825127659933"
            ]
          },
          "metadata": {},
          "execution_count": 39
        }
      ],
      "source": [
        "# Imprimindo o desvio padrão.\n",
        "two_dim.std()"
      ]
    },
    {
      "cell_type": "code",
      "execution_count": null,
      "metadata": {
        "colab": {
          "base_uri": "https://localhost:8080/"
        },
        "id": "tERh5m9yU63A",
        "outputId": "3e5f867a-f389-4acc-c9c1-5459358781b0"
      },
      "outputs": [
        {
          "output_type": "execute_result",
          "data": {
            "text/plain": [
              "array([[1, 2, 3],\n",
              "       [4, 5, 6]])"
            ]
          },
          "metadata": {},
          "execution_count": 40
        }
      ],
      "source": [
        "two_dim"
      ]
    },
    {
      "cell_type": "code",
      "execution_count": null,
      "metadata": {
        "colab": {
          "base_uri": "https://localhost:8080/"
        },
        "id": "Wk27Mz7iU63C",
        "outputId": "8aa4d854-8a4d-438e-9248-c735761a8e24"
      },
      "outputs": [
        {
          "output_type": "execute_result",
          "data": {
            "text/plain": [
              "dtype('int64')"
            ]
          },
          "metadata": {},
          "execution_count": 28
        }
      ],
      "source": [
        "two_dim.dtype"
      ]
    },
    {
      "cell_type": "code",
      "execution_count": null,
      "metadata": {
        "colab": {
          "base_uri": "https://localhost:8080/"
        },
        "id": "8eAPPibOU63D",
        "outputId": "069e3d23-298e-414e-bb81-4233a1eead5a"
      },
      "outputs": [
        {
          "output_type": "execute_result",
          "data": {
            "text/plain": [
              "6"
            ]
          },
          "metadata": {},
          "execution_count": 29
        }
      ],
      "source": [
        "two_dim.size"
      ]
    },
    {
      "cell_type": "code",
      "execution_count": null,
      "metadata": {
        "colab": {
          "base_uri": "https://localhost:8080/"
        },
        "id": "2imdTa4PU63F",
        "outputId": "3571874b-6dd2-40f6-ffa9-c05a328e88da"
      },
      "outputs": [
        {
          "output_type": "execute_result",
          "data": {
            "text/plain": [
              "8"
            ]
          },
          "metadata": {},
          "execution_count": 30
        }
      ],
      "source": [
        "# mostra o compromento em bytes\n",
        "two_dim.itemsize"
      ]
    },
    {
      "cell_type": "code",
      "execution_count": null,
      "metadata": {
        "colab": {
          "base_uri": "https://localhost:8080/"
        },
        "id": "EulqakZLU63G",
        "outputId": "bc025877-f2bb-4105-e79b-5b814d468c4d"
      },
      "outputs": [
        {
          "output_type": "execute_result",
          "data": {
            "text/plain": [
              "21"
            ]
          },
          "metadata": {},
          "execution_count": 31
        }
      ],
      "source": [
        "# Somando todos os elementos do array.\n",
        "two_dim.sum()"
      ]
    },
    {
      "cell_type": "markdown",
      "metadata": {
        "id": "9sYbC4wYU63I"
      },
      "source": [
        "#  Transformando Arrays"
      ]
    },
    {
      "cell_type": "code",
      "execution_count": null,
      "metadata": {
        "id": "mriOMcomuJ0z"
      },
      "outputs": [],
      "source": [
        "# Criando um array de 2 dimensões.\n",
        "two_dim = np.array([(1,2,3), (4,5,6)])"
      ]
    },
    {
      "cell_type": "code",
      "execution_count": null,
      "metadata": {
        "colab": {
          "base_uri": "https://localhost:8080/"
        },
        "id": "OGd7glZZU63I",
        "outputId": "5f064a2f-fdd8-4104-849d-b5ef4bdbd547"
      },
      "outputs": [
        {
          "output_type": "execute_result",
          "data": {
            "text/plain": [
              "array([[1, 2, 3],\n",
              "       [4, 5, 6]])"
            ]
          },
          "metadata": {},
          "execution_count": 33
        }
      ],
      "source": [
        "two_dim"
      ]
    },
    {
      "cell_type": "code",
      "execution_count": null,
      "metadata": {
        "colab": {
          "base_uri": "https://localhost:8080/"
        },
        "id": "0H9RR8zkU63K",
        "outputId": "1b7653ae-a38a-4003-8799-c8275d80a8ac"
      },
      "outputs": [
        {
          "output_type": "execute_result",
          "data": {
            "text/plain": [
              "array([[1, 4],\n",
              "       [2, 5],\n",
              "       [3, 6]])"
            ]
          },
          "metadata": {},
          "execution_count": 34
        }
      ],
      "source": [
        "# Gera a Transposta da Matriz (Linha -> coluna)\n",
        "two_dim.T"
      ]
    },
    {
      "cell_type": "code",
      "execution_count": null,
      "metadata": {
        "colab": {
          "base_uri": "https://localhost:8080/"
        },
        "id": "TQkDJXH_U63N",
        "outputId": "05c2d02c-b6ce-4bc0-be93-6305a636068c"
      },
      "outputs": [
        {
          "output_type": "execute_result",
          "data": {
            "text/plain": [
              "array([[1, 2, 3],\n",
              "       [4, 5, 6]])"
            ]
          },
          "metadata": {},
          "execution_count": 35
        }
      ],
      "source": [
        "two_dim"
      ]
    },
    {
      "cell_type": "code",
      "execution_count": null,
      "metadata": {
        "colab": {
          "base_uri": "https://localhost:8080/"
        },
        "id": "FYTDyoX9U63P",
        "outputId": "c1b2e177-2e76-41b8-eea7-51395996dcb6"
      },
      "outputs": [
        {
          "output_type": "execute_result",
          "data": {
            "text/plain": [
              "array([1, 2, 3, 4, 5, 6])"
            ]
          },
          "metadata": {},
          "execution_count": 36
        }
      ],
      "source": [
        "# Transforma em uma matriz de uma linha.\n",
        "# È muito comum em bibliotecas como scikit-learn e Keras\n",
        "two_dim.reshape(-1)"
      ]
    },
    {
      "cell_type": "code",
      "execution_count": null,
      "metadata": {
        "id": "guhx-YFgU63R"
      },
      "outputs": [],
      "source": [
        "tree = np.random.random((5,3))"
      ]
    },
    {
      "cell_type": "code",
      "execution_count": null,
      "metadata": {
        "colab": {
          "base_uri": "https://localhost:8080/"
        },
        "id": "N0UcZaYsU63S",
        "outputId": "eb0e9d07-c0f6-4182-84a6-8377fcfe4a24"
      },
      "outputs": [
        {
          "output_type": "execute_result",
          "data": {
            "text/plain": [
              "(5, 3)"
            ]
          },
          "metadata": {},
          "execution_count": 38
        }
      ],
      "source": [
        "tree.shape"
      ]
    },
    {
      "cell_type": "code",
      "execution_count": null,
      "metadata": {
        "colab": {
          "base_uri": "https://localhost:8080/"
        },
        "id": "9axdkLH3U63U",
        "outputId": "6e18581b-d226-4830-bde3-0e67ed20e7b5"
      },
      "outputs": [
        {
          "output_type": "execute_result",
          "data": {
            "text/plain": [
              "array([[0.45945935, 0.67230064, 0.99821147],\n",
              "       [0.45936574, 0.45180989, 0.51396428],\n",
              "       [0.68794228, 0.1241184 , 0.648467  ],\n",
              "       [0.26473976, 0.86970892, 0.18814052],\n",
              "       [0.59250261, 0.92620115, 0.30718967]])"
            ]
          },
          "metadata": {},
          "execution_count": 39
        }
      ],
      "source": [
        "tree"
      ]
    },
    {
      "cell_type": "code",
      "execution_count": null,
      "metadata": {
        "colab": {
          "base_uri": "https://localhost:8080/"
        },
        "id": "kCMCohflU63W",
        "outputId": "f2dc94c1-f266-4daf-98fa-122991ca8be5"
      },
      "outputs": [
        {
          "output_type": "execute_result",
          "data": {
            "text/plain": [
              "array([[0.45945935, 0.67230064, 0.99821147, 0.45936574, 0.45180989],\n",
              "       [0.51396428, 0.68794228, 0.1241184 , 0.648467  , 0.26473976],\n",
              "       [0.86970892, 0.18814052, 0.59250261, 0.92620115, 0.30718967]])"
            ]
          },
          "metadata": {},
          "execution_count": 40
        }
      ],
      "source": [
        "# Transforma em uma matriz com 3 linhas e 5 colunas\n",
        "tree.reshape(3,5)"
      ]
    },
    {
      "cell_type": "code",
      "execution_count": null,
      "metadata": {
        "colab": {
          "base_uri": "https://localhost:8080/"
        },
        "id": "suIpAVnDU63Z",
        "outputId": "8a96fb58-0270-4dc6-a5bc-05110bd11580"
      },
      "outputs": [
        {
          "output_type": "execute_result",
          "data": {
            "text/plain": [
              "array([0.45945935, 0.67230064, 0.99821147, 0.45936574, 0.45180989,\n",
              "       0.51396428, 0.68794228, 0.1241184 , 0.648467  , 0.26473976,\n",
              "       0.86970892, 0.18814052, 0.59250261, 0.92620115, 0.30718967])"
            ]
          },
          "metadata": {},
          "execution_count": 41
        }
      ],
      "source": [
        "tree.reshape(-1)"
      ]
    },
    {
      "cell_type": "code",
      "execution_count": null,
      "metadata": {
        "colab": {
          "base_uri": "https://localhost:8080/"
        },
        "id": "GT4jIVQBU63a",
        "outputId": "ea2fb793-0a00-4a42-dc31-e08ec19ed333"
      },
      "outputs": [
        {
          "output_type": "execute_result",
          "data": {
            "text/plain": [
              "array([[0.45945935, 0.67230064, 0.99821147, 0.45936574, 0.45180989,\n",
              "        0.51396428, 0.68794228, 0.1241184 , 0.648467  , 0.26473976,\n",
              "        0.86970892, 0.18814052, 0.59250261, 0.92620115, 0.30718967]])"
            ]
          },
          "metadata": {},
          "execution_count": 42
        }
      ],
      "source": [
        "t=tree.reshape(1,15)\n",
        "t"
      ]
    },
    {
      "cell_type": "code",
      "execution_count": null,
      "metadata": {
        "colab": {
          "base_uri": "https://localhost:8080/"
        },
        "id": "RI9NKWURvi41",
        "outputId": "9b237722-0589-4cab-9236-91f1d761db6d"
      },
      "outputs": [
        {
          "output_type": "execute_result",
          "data": {
            "text/plain": [
              "array([[0.45945935, 0.67230064, 0.99821147, 0.45936574, 0.45180989,\n",
              "        0.51396428, 0.68794228, 0.1241184 , 0.648467  , 0.26473976,\n",
              "        0.86970892, 0.18814052, 0.59250261, 0.92620115, 0.30718967]])"
            ]
          },
          "metadata": {},
          "execution_count": 43
        }
      ],
      "source": [
        "t"
      ]
    },
    {
      "cell_type": "code",
      "execution_count": null,
      "metadata": {
        "colab": {
          "base_uri": "https://localhost:8080/"
        },
        "id": "24-83M0dvkle",
        "outputId": "91416fb3-d155-4ebb-eb18-f4462576be8d"
      },
      "outputs": [
        {
          "output_type": "execute_result",
          "data": {
            "text/plain": [
              "(1, 15)"
            ]
          },
          "metadata": {},
          "execution_count": 44
        }
      ],
      "source": [
        "t.shape"
      ]
    },
    {
      "cell_type": "code",
      "execution_count": null,
      "metadata": {
        "colab": {
          "base_uri": "https://localhost:8080/"
        },
        "id": "ML5B8VmjU63c",
        "outputId": "b4eaff31-3aa8-454f-b89a-b69ae95d54cf"
      },
      "outputs": [
        {
          "output_type": "execute_result",
          "data": {
            "text/plain": [
              "array([[1, 2, 3],\n",
              "       [4, 5, 6]])"
            ]
          },
          "metadata": {},
          "execution_count": 58
        }
      ],
      "source": [
        "two_dim"
      ]
    },
    {
      "cell_type": "code",
      "execution_count": null,
      "metadata": {
        "id": "imJhT4QfU63d"
      },
      "outputs": [],
      "source": [
        "# Adicionando elementos a um array.\n",
        "two_dim = np.insert(two_dim,0,10)"
      ]
    },
    {
      "cell_type": "code",
      "execution_count": null,
      "metadata": {
        "colab": {
          "base_uri": "https://localhost:8080/"
        },
        "id": "I5aW_t_DU63f",
        "outputId": "60855b29-8e2b-416b-db32-8e874df04398"
      },
      "outputs": [
        {
          "output_type": "execute_result",
          "data": {
            "text/plain": [
              "array([10, 10,  1,  2,  3,  4,  5,  6])"
            ]
          },
          "metadata": {},
          "execution_count": 72
        }
      ],
      "source": [
        "# Transforma em um array de uma linha.\n",
        "two_dim"
      ]
    },
    {
      "cell_type": "code",
      "execution_count": null,
      "metadata": {
        "id": "PAupeqAhU63g"
      },
      "outputs": [],
      "source": [
        "# Apagando o elemento da primeira posição do array.\n",
        "two_dim = np.delete(two_dim,[0])"
      ]
    },
    {
      "cell_type": "code",
      "execution_count": null,
      "metadata": {
        "colab": {
          "base_uri": "https://localhost:8080/"
        },
        "id": "BwvUVZxjU63i",
        "outputId": "51483eb1-8d70-4dab-8842-a67e1219df98"
      },
      "outputs": [
        {
          "output_type": "execute_result",
          "data": {
            "text/plain": [
              "array([1, 2, 3, 4, 5, 6])"
            ]
          },
          "metadata": {},
          "execution_count": 76
        }
      ],
      "source": [
        "two_dim"
      ]
    },
    {
      "cell_type": "code",
      "execution_count": null,
      "metadata": {
        "id": "0qJ4HIcdU63k"
      },
      "outputs": [],
      "source": [
        "# Gerando um arquivo .txt a partir de um array\n",
        "np.savetxt(\"dataset_array.txt\",two_dim, delimiter=',')"
      ]
    },
    {
      "cell_type": "markdown",
      "metadata": {
        "id": "8ECTGirZVNAv"
      },
      "source": [
        "# Acessando Dimensões no Array"
      ]
    },
    {
      "cell_type": "code",
      "execution_count": null,
      "metadata": {
        "id": "KHErmmw6VNAv"
      },
      "outputs": [],
      "source": [
        "# Importando o Numpy\n",
        "import numpy as np"
      ]
    },
    {
      "cell_type": "code",
      "execution_count": null,
      "metadata": {
        "id": "8Af4mtbfVNAz"
      },
      "outputs": [],
      "source": [
        "# Gera um array aleatório de 10 linhas e 2 colunas\n",
        "# formato linha,coluna\n",
        "my_array = np.random.random([10,2])"
      ]
    },
    {
      "cell_type": "code",
      "execution_count": null,
      "metadata": {
        "id": "_RlsahL8VNA2"
      },
      "outputs": [],
      "source": [
        "my_array"
      ]
    },
    {
      "cell_type": "code",
      "execution_count": null,
      "metadata": {
        "id": "CuEStUsoVNA5"
      },
      "outputs": [],
      "source": [
        "# Imprimindo o primeiro elemento (1 linha)\n",
        "my_array[0]"
      ]
    },
    {
      "cell_type": "code",
      "execution_count": null,
      "metadata": {
        "id": "C49BTWSuVNA8"
      },
      "outputs": [],
      "source": [
        "# Imprimindo o primeiro elemento da coluna 0 (1 coluna)\n",
        "my_array[0][0]"
      ]
    },
    {
      "cell_type": "code",
      "execution_count": null,
      "metadata": {
        "id": "GYYq_GCnVNA-"
      },
      "outputs": [],
      "source": [
        "# Primeiro elemento da coluna 1\n",
        "my_array[0][1]"
      ]
    },
    {
      "cell_type": "code",
      "execution_count": null,
      "metadata": {
        "id": "38L6hVwFVNBB"
      },
      "outputs": [],
      "source": [
        "# Segundo elemento da coluna 1\n",
        "my_array[1][1]"
      ]
    },
    {
      "cell_type": "code",
      "execution_count": null,
      "metadata": {
        "id": "lVU5N-ncxbDk"
      },
      "outputs": [],
      "source": [
        "my_array"
      ]
    },
    {
      "cell_type": "code",
      "execution_count": null,
      "metadata": {
        "id": "VmeyBz5FVNBF"
      },
      "outputs": [],
      "source": [
        "# Imprimindo até 3 valores da coluna 1\n",
        "my_array[:3,1]"
      ]
    },
    {
      "cell_type": "code",
      "execution_count": null,
      "metadata": {
        "id": "pvTLH1P0VNBG"
      },
      "outputs": [],
      "source": [
        "# Imprime todas as linhas da coluna 2 * 10\n",
        "my_array[:,1] * 10"
      ]
    },
    {
      "cell_type": "code",
      "execution_count": null,
      "metadata": {
        "id": "crqaVTB2VNBI"
      },
      "outputs": [],
      "source": [
        "# Comparação retorna indices\n",
        "my_array > 0.50"
      ]
    },
    {
      "cell_type": "code",
      "execution_count": null,
      "metadata": {
        "id": "i-6rEQPgVNBK"
      },
      "outputs": [],
      "source": [
        "# Acessando valores por índices\n",
        "my_array[my_array > 0.50]"
      ]
    },
    {
      "cell_type": "markdown",
      "metadata": {
        "id": "ngERkIw2Vf3a"
      },
      "source": [
        "# Trabalhando com Valores Missing"
      ]
    },
    {
      "cell_type": "markdown",
      "metadata": {
        "id": "w4rHSKZhVf3b"
      },
      "source": [
        "* **Missing Values** são valores faltantes em colunas, esses podem ser oriundos de falhas em cargas de dados, falhas em crawlers ou até mesmo corrupção de dados.\n",
        "\n",
        "* Missing Values podem ser um problema em várias situações, como por exemplo, algoritmos de machine learning que não trabalham bem com dados faltantes.\n",
        "\n",
        "* Estes também podem atrapalhar resultados de análises.\n",
        "\n",
        "* Vamos aprender como encontrar missing values na base de dados e como manipular esses valores."
      ]
    },
    {
      "cell_type": "code",
      "execution_count": null,
      "metadata": {
        "id": "uNJR8idKVf3b"
      },
      "outputs": [],
      "source": [
        "import matplotlib\n",
        "\n",
        "\n",
        "import pandas as pd\n",
        "arquivo = 'house.csv'\n",
        "dataset = pd.read_csv(arquivo, sep=',', header=0)"
      ]
    },
    {
      "cell_type": "code",
      "execution_count": null,
      "metadata": {
        "id": "BFOBY9Xi1kl5"
      },
      "outputs": [],
      "source": [
        "dataset.head()"
      ]
    },
    {
      "cell_type": "code",
      "execution_count": null,
      "metadata": {
        "id": "hBGDmQ6yVf3c"
      },
      "outputs": [],
      "source": [
        "# Consultando linhas com valores faltantes.\n",
        "dataset.isnull().sum()"
      ]
    },
    {
      "cell_type": "code",
      "execution_count": null,
      "metadata": {
        "id": "-KJ5QxyIVf3d"
      },
      "outputs": [],
      "source": [
        "#Com este comando removemos todas as linhas onde tenha pela menos um registro faltante em algum atributo.\n",
        "dataset.dropna(inplace=True)"
      ]
    },
    {
      "cell_type": "code",
      "execution_count": null,
      "metadata": {
        "id": "oHjLSugXVf3e"
      },
      "outputs": [],
      "source": [
        "# É possível ainda, remover somente linhas que estejam com valores faltantes em todas as colunas, veja:\n",
        "dataset.dropna(how='all', inplace=True)"
      ]
    },
    {
      "cell_type": "code",
      "execution_count": null,
      "metadata": {
        "id": "tLRudpTZVf3f"
      },
      "outputs": [],
      "source": [
        "#preenche com a media dos valores da coluns floors os values null\n",
        "dataset['floors'].fillna(dataset['floors'].mean(), inplace=True)"
      ]
    },
    {
      "cell_type": "code",
      "execution_count": null,
      "metadata": {
        "id": "soYc9iXFVf3h"
      },
      "outputs": [],
      "source": [
        "#preenche com 1 os values null da coluna bedrooms\n",
        "dataset['bedrooms'].fillna(1, inplace=True)"
      ]
    },
    {
      "cell_type": "markdown",
      "metadata": {
        "id": "Av9soURmVc1R"
      },
      "source": [
        "# Visualização Gráfica - Extraindo Insights"
      ]
    },
    {
      "cell_type": "markdown",
      "metadata": {
        "id": "NR4IaCBLVc1R"
      },
      "source": [
        "* Vamos agora trabalhar com um tipo de gráfico muito interessante.\n",
        "\n",
        "* Os gráficos do tipo Boxplot são excelentes ferramentas de análise de dados, principalmente para identificar _**outliers**_."
      ]
    },
    {
      "cell_type": "code",
      "execution_count": null,
      "metadata": {
        "id": "YJrFCFxyVc1R"
      },
      "outputs": [],
      "source": [
        "import matplotlib"
      ]
    },
    {
      "cell_type": "code",
      "execution_count": null,
      "metadata": {
        "id": "TizLA1ry1JKD"
      },
      "outputs": [],
      "source": [
        "import pandas as pd\n",
        "arquivo = 'house.csv'\n",
        "dataset = pd.read_csv(arquivo, sep=',', header=0)"
      ]
    },
    {
      "cell_type": "code",
      "execution_count": null,
      "metadata": {
        "id": "vZDLrfQtVc1T"
      },
      "outputs": [],
      "source": [
        "# Plota gráfico do tipo Boxplot da coluna bedrooms\n",
        "# Esse gráfico é muito rico e é possível visualizar Outliers\n",
        "%matplotlib notebook\n",
        "matplotlib.style.use('ggplot')\n",
        "\n",
        "dataset.boxplot(column='bedrooms')"
      ]
    },
    {
      "cell_type": "code",
      "execution_count": null,
      "metadata": {
        "id": "u-0BYwxuVc1V"
      },
      "outputs": [],
      "source": [
        "# Visualizando os estilos de layout disponível\n",
        "matplotlib.style.available"
      ]
    },
    {
      "cell_type": "code",
      "execution_count": null,
      "metadata": {
        "id": "3wHGo-rxVc1X",
        "scrolled": true
      },
      "outputs": [],
      "source": [
        "# Plota boxplot da coluna 'price' por número de quartos\n",
        "%matplotlib notebook\n",
        "dataset.boxplot(column='price', by='bedrooms')"
      ]
    },
    {
      "cell_type": "markdown",
      "metadata": {
        "id": "9OYwqmYeVc1Z"
      },
      "source": [
        "**Correlação **"
      ]
    },
    {
      "cell_type": "code",
      "execution_count": null,
      "metadata": {
        "id": "Urj53B_FVc1Z"
      },
      "outputs": [],
      "source": [
        "# Imprime a correlação de todas as colunas do dataframe (person)\n",
        "dataset.corr()"
      ]
    },
    {
      "cell_type": "code",
      "execution_count": null,
      "metadata": {
        "id": "T6zVeaz8Vc1b"
      },
      "outputs": [],
      "source": [
        "dataset.corr('spearman')"
      ]
    },
    {
      "cell_type": "code",
      "execution_count": null,
      "metadata": {
        "id": "WX30KNpVVc1d"
      },
      "outputs": [],
      "source": [
        "# Imprime a correlação de spearman (esta leva em consideração a correção positiva e negativa)\n",
        "dataset.corr('spearman')"
      ]
    },
    {
      "cell_type": "code",
      "execution_count": null,
      "metadata": {
        "id": "F3ILVFNlVc1f"
      },
      "outputs": [],
      "source": [
        "# Imprime a correção de algumas colunas\n",
        "dataset[['bedrooms','bathrooms','floors','grade','price']].corr()"
      ]
    },
    {
      "cell_type": "markdown",
      "metadata": {
        "id": "XTRc7NjBKG65"
      },
      "source": [
        "# Fim"
      ]
    },
    {
      "cell_type": "markdown",
      "metadata": {
        "id": "_fHqFSvWe94c"
      },
      "source": [
        "## Valeu!"
      ]
    },
    {
      "cell_type": "markdown",
      "metadata": {
        "id": "JCGIEsSrKG66"
      },
      "source": [
        "### #Instagram - Ciencia dos Dados <a href=\"http://instagram.com/cienciadosdados\">instagram.com/cienciadosdados</a>"
      ]
    },
    {
      "cell_type": "code",
      "execution_count": null,
      "metadata": {
        "id": "EEkwr6HMZ4Qa"
      },
      "outputs": [],
      "source": []
    }
  ],
  "metadata": {
    "colab": {
      "provenance": [],
      "include_colab_link": true
    },
    "kernelspec": {
      "display_name": "Python 3",
      "language": "python",
      "name": "python3"
    },
    "language_info": {
      "codemirror_mode": {
        "name": "ipython",
        "version": 3
      },
      "file_extension": ".py",
      "mimetype": "text/x-python",
      "name": "python",
      "nbconvert_exporter": "python",
      "pygments_lexer": "ipython3",
      "version": "3.8.3"
    }
  },
  "nbformat": 4,
  "nbformat_minor": 0
}