{
  "cells": [
    {
      "cell_type": "markdown",
      "metadata": {
        "id": "view-in-github",
        "colab_type": "text"
      },
      "source": [
        "<a href=\"https://colab.research.google.com/github/renatamontanhana/Machine_Learning_Algoritmo_Naive_Bayes_CDPRO/blob/main/M4A18_NumPy_(1).ipynb\" target=\"_parent\"><img src=\"https://colab.research.google.com/assets/colab-badge.svg\" alt=\"Open In Colab\"/></a>"
      ]
    },
    {
      "cell_type": "markdown",
      "metadata": {
        "id": "WHSU8NShZedN"
      },
      "source": [
        "![alt text](https://encrypted-tbn0.gstatic.com/images?q=tbn%3AANd9GcTK4gQ9nhwHHaSXMHpeggWg7twwMCgb877smkRmtkmDeDoGF9Z6&usqp=CAU)"
      ]
    },
    {
      "cell_type": "markdown",
      "metadata": {
        "id": "7oiQVQi0AJ6D"
      },
      "source": [
        "# <font color='BLUE'>Cientista de Dados na Prática </font>\n",
        "\n",
        "# <font color='GREEN'>Módulo 4 - Análise Exploratória dos Dados</font>\n",
        "\n",
        "### <font color='GREY'> Numpy - Manipulando arquivos Multidimensionais </font>\n",
        "\n"
      ]
    },
    {
      "cell_type": "markdown",
      "metadata": {
        "id": "lk7bNn2JU616"
      },
      "source": [
        "# Numpy - Análise de Dados  \n"
      ]
    },
    {
      "cell_type": "markdown",
      "metadata": {
        "id": "-W4Hu8WVU618"
      },
      "source": [
        "<p> Simbóra aprender a trabalhar coma biblioteca Numpy.\n"
      ]
    },
    {
      "cell_type": "code",
      "execution_count": 23,
      "metadata": {
        "id": "DYivKMPIU619"
      },
      "outputs": [],
      "source": [
        "# Importando a biblioteca numpy\n",
        "import numpy as np"
      ]
    },
    {
      "cell_type": "code",
      "execution_count": 24,
      "metadata": {
        "id": "l2bSx6K_U62C"
      },
      "outputs": [],
      "source": [
        "# Criando um array de 1 dimensão\n",
        "one_dim = np.array([1,2,3,4])"
      ]
    },
    {
      "cell_type": "code",
      "execution_count": 25,
      "metadata": {
        "colab": {
          "base_uri": "https://localhost:8080/"
        },
        "id": "pqV3FwruU62H",
        "outputId": "1b12c45b-18e2-4844-c2a5-09f11174d17b"
      },
      "outputs": [
        {
          "output_type": "execute_result",
          "data": {
            "text/plain": [
              "numpy.ndarray"
            ]
          },
          "metadata": {},
          "execution_count": 25
        }
      ],
      "source": [
        "type(one_dim)"
      ]
    },
    {
      "cell_type": "code",
      "execution_count": 26,
      "metadata": {
        "colab": {
          "base_uri": "https://localhost:8080/"
        },
        "id": "VeHSNr5nU62K",
        "outputId": "65d18c06-d3b7-4448-ed37-a237b36003e4"
      },
      "outputs": [
        {
          "output_type": "execute_result",
          "data": {
            "text/plain": [
              "1"
            ]
          },
          "metadata": {},
          "execution_count": 26
        }
      ],
      "source": [
        "# Imprimindo um array.\n",
        "one_dim.ndim"
      ]
    },
    {
      "cell_type": "code",
      "execution_count": 27,
      "metadata": {
        "id": "AHxbGyZXU62N"
      },
      "outputs": [],
      "source": [
        "# Criando um array de 2 dimensões.\n",
        "two_dim = np.array([(1,2,3), (4,5,6)])"
      ]
    },
    {
      "cell_type": "code",
      "execution_count": 28,
      "metadata": {
        "colab": {
          "base_uri": "https://localhost:8080/"
        },
        "id": "t-uNScA2U62P",
        "outputId": "1aebd485-8877-470e-f3d5-67efc7a21651"
      },
      "outputs": [
        {
          "output_type": "execute_result",
          "data": {
            "text/plain": [
              "2"
            ]
          },
          "metadata": {},
          "execution_count": 28
        }
      ],
      "source": [
        "# Imprimindo o array\n",
        "two_dim.ndim"
      ]
    },
    {
      "cell_type": "code",
      "execution_count": 29,
      "metadata": {
        "id": "rgQOd6CVU62S",
        "colab": {
          "base_uri": "https://localhost:8080/"
        },
        "outputId": "46c84685-f5e6-42df-cc79-e5fdc4582cb8"
      },
      "outputs": [
        {
          "output_type": "execute_result",
          "data": {
            "text/plain": [
              "array([[0.24056874, 0.79099656],\n",
              "       [0.46841406, 0.90218743],\n",
              "       [0.18326479, 0.49881023],\n",
              "       [0.21231   , 0.85947247],\n",
              "       [0.06440407, 0.17400919]])"
            ]
          },
          "metadata": {},
          "execution_count": 29
        }
      ],
      "source": [
        "# Cria um array de números aleatórios.\n",
        "# Um array de 5 linhas e duas dimensões.\n",
        "np.random.random((5,2))"
      ]
    },
    {
      "cell_type": "code",
      "execution_count": 30,
      "metadata": {
        "colab": {
          "base_uri": "https://localhost:8080/"
        },
        "id": "wvDkUtr9U62U",
        "outputId": "b67ce377-9568-43e8-955c-6c8104b03862"
      },
      "outputs": [
        {
          "output_type": "execute_result",
          "data": {
            "text/plain": [
              "array([10, 15, 20, 25, 30, 35, 40, 45])"
            ]
          },
          "metadata": {},
          "execution_count": 30
        }
      ],
      "source": [
        "# Cria um array com valores esparsos iniciando com o valor 10, menor que 50 e incrementando de 5 em 5.\n",
        "np.arange(10,50,5)"
      ]
    },
    {
      "cell_type": "code",
      "execution_count": 31,
      "metadata": {
        "colab": {
          "base_uri": "https://localhost:8080/"
        },
        "id": "1zVCoL_wU62X",
        "outputId": "2c724f04-6f5f-4186-b662-3e817750a304"
      },
      "outputs": [
        {
          "output_type": "execute_result",
          "data": {
            "text/plain": [
              "array([0.  , 0.25, 0.5 , 0.75, 1.  , 1.25, 1.5 , 1.75, 2.  ])"
            ]
          },
          "metadata": {},
          "execution_count": 31
        }
      ],
      "source": [
        "# cria um array linear de 0 a 2 de no máximo 9 elementos.\n",
        "np.linspace(0,2,9)"
      ]
    },
    {
      "cell_type": "code",
      "execution_count": 32,
      "metadata": {
        "colab": {
          "base_uri": "https://localhost:8080/"
        },
        "id": "1IEXxzFMU62Y",
        "outputId": "b7cd72dd-07d1-440a-8400-6a2db16713f9"
      },
      "outputs": [
        {
          "output_type": "execute_result",
          "data": {
            "text/plain": [
              "array([[0., 0., 0., 0., 0.],\n",
              "       [0., 0., 0., 0., 0.],\n",
              "       [0., 0., 0., 0., 0.],\n",
              "       [0., 0., 0., 0., 0.],\n",
              "       [0., 0., 0., 0., 0.],\n",
              "       [0., 0., 0., 0., 0.]])"
            ]
          },
          "metadata": {},
          "execution_count": 32
        }
      ],
      "source": [
        "# Cria um array de valores zero.\n",
        "# Cria um array com 3 linhas e 4 dimensões.\n",
        "np.zeros((6,5))"
      ]
    },
    {
      "cell_type": "markdown",
      "metadata": {
        "id": "F0HBGrYjU62a"
      },
      "source": [
        "# Arrays x Listas"
      ]
    },
    {
      "cell_type": "markdown",
      "metadata": {
        "id": "pBL0Q0BlU62b"
      },
      "source": [
        "- Arrays Numpy permitem fazermos operações em **arrays inteiros** de forma rápida.\n",
        "- Listas não permitem operações em todos os elementos da lista.\n",
        "- Para operações em todos os elementos é preciso interar sobre toda a lista.\n",
        "- Listas em Python armazenam diferentes tipos de objetos\n",
        "- Arrays Numpy considera todos os elementos de tipos distintos como strings\n"
      ]
    },
    {
      "cell_type": "code",
      "execution_count": 33,
      "metadata": {
        "id": "OSgVo6WFU62b"
      },
      "outputs": [],
      "source": [
        "# Criando uma lista em Python.\n",
        "lista = [1,2,3]"
      ]
    },
    {
      "cell_type": "code",
      "execution_count": 34,
      "metadata": {
        "colab": {
          "base_uri": "https://localhost:8080/"
        },
        "id": "OBVEg2sFU62d",
        "outputId": "9a1d7114-ed82-41a5-854d-dd757cde88b2"
      },
      "outputs": [
        {
          "output_type": "execute_result",
          "data": {
            "text/plain": [
              "[1, 2, 3]"
            ]
          },
          "metadata": {},
          "execution_count": 34
        }
      ],
      "source": [
        "lista"
      ]
    },
    {
      "cell_type": "code",
      "execution_count": 35,
      "metadata": {
        "colab": {
          "base_uri": "https://localhost:8080/"
        },
        "id": "O-nnTWcarebL",
        "outputId": "6d55bda8-d83d-4eb2-edd9-f767c6e716f6"
      },
      "outputs": [
        {
          "output_type": "execute_result",
          "data": {
            "text/plain": [
              "list"
            ]
          },
          "metadata": {},
          "execution_count": 35
        }
      ],
      "source": [
        "type(lista)"
      ]
    },
    {
      "cell_type": "code",
      "execution_count": 36,
      "metadata": {
        "colab": {
          "base_uri": "https://localhost:8080/"
        },
        "id": "iKaS8MYoU62f",
        "outputId": "75e6e1c3-cd98-4216-8724-a3a2ca2d03b9"
      },
      "outputs": [
        {
          "output_type": "execute_result",
          "data": {
            "text/plain": [
              "[1, 2, 3, 1, 2, 3]"
            ]
          },
          "metadata": {},
          "execution_count": 36
        }
      ],
      "source": [
        "# Multiplicar valores da lista por 2.\n",
        "lista * 2"
      ]
    },
    {
      "cell_type": "code",
      "source": [
        "type(lista)"
      ],
      "metadata": {
        "colab": {
          "base_uri": "https://localhost:8080/"
        },
        "id": "0oitUW3IET5n",
        "outputId": "8430fafb-8d9d-431d-8895-03d54fd9b93a"
      },
      "execution_count": 37,
      "outputs": [
        {
          "output_type": "execute_result",
          "data": {
            "text/plain": [
              "list"
            ]
          },
          "metadata": {},
          "execution_count": 37
        }
      ]
    },
    {
      "cell_type": "code",
      "execution_count": 38,
      "metadata": {
        "id": "Mh_mDpK7U62g"
      },
      "outputs": [],
      "source": [
        "# Transforme a variável lista em um array Numpy\n",
        "lista = np.array(lista)"
      ]
    },
    {
      "cell_type": "code",
      "execution_count": 39,
      "metadata": {
        "colab": {
          "base_uri": "https://localhost:8080/"
        },
        "id": "e43F2Y1_U62i",
        "outputId": "9f21e02b-aad2-431b-cf61-4f9e74f8e1f3"
      },
      "outputs": [
        {
          "output_type": "execute_result",
          "data": {
            "text/plain": [
              "numpy.ndarray"
            ]
          },
          "metadata": {},
          "execution_count": 39
        }
      ],
      "source": [
        "# Imprimindo o tipo do objeto.\n",
        "type(lista)"
      ]
    },
    {
      "cell_type": "code",
      "execution_count": 40,
      "metadata": {
        "colab": {
          "base_uri": "https://localhost:8080/"
        },
        "id": "w545OkpRU62k",
        "outputId": "2b35d6f7-25d2-4fc2-cdcd-6ed7cd59b8ba"
      },
      "outputs": [
        {
          "output_type": "execute_result",
          "data": {
            "text/plain": [
              "array([2, 4, 6])"
            ]
          },
          "metadata": {},
          "execution_count": 40
        }
      ],
      "source": [
        "# Multiplicando cada elemento por 2.\n",
        "lista * 2"
      ]
    },
    {
      "cell_type": "code",
      "execution_count": 41,
      "metadata": {
        "id": "7do4GKVSU62l"
      },
      "outputs": [],
      "source": [
        "# Calcular IMC de pessoas.\n",
        "pesos = [67,81,120,90]\n",
        "altura = [1.68,1.70,1.75,1.85]"
      ]
    },
    {
      "cell_type": "code",
      "execution_count": 42,
      "metadata": {
        "id": "KGZhZKflU62p"
      },
      "outputs": [],
      "source": [
        "# Transforme isso em arrays numpy\n",
        "pesos = np.array(pesos)\n",
        "altura = np.array(altura)"
      ]
    },
    {
      "cell_type": "code",
      "execution_count": 43,
      "metadata": {
        "colab": {
          "base_uri": "https://localhost:8080/"
        },
        "id": "XTBlIBsSU62r",
        "outputId": "6767f595-a342-45fd-964c-5330a7d6f582"
      },
      "outputs": [
        {
          "output_type": "execute_result",
          "data": {
            "text/plain": [
              "array([23.73866213, 28.02768166, 39.18367347, 26.29656684])"
            ]
          },
          "metadata": {},
          "execution_count": 43
        }
      ],
      "source": [
        "# Imprime o calculo de cada valor\n",
        "pesos / altura **2"
      ]
    },
    {
      "cell_type": "code",
      "execution_count": 44,
      "metadata": {
        "id": "zDOz2pv1U62s"
      },
      "outputs": [],
      "source": [
        "# Arrays Numpy armazena elementos como strins quando estes não são inteiros ou float\n",
        "a = np.array([1,3,'Casa',True])"
      ]
    },
    {
      "cell_type": "code",
      "execution_count": 45,
      "metadata": {
        "colab": {
          "base_uri": "https://localhost:8080/"
        },
        "id": "nnLTkKx8U62u",
        "outputId": "07620eee-dfd2-4295-9dcb-feeef88e13e0"
      },
      "outputs": [
        {
          "output_type": "execute_result",
          "data": {
            "text/plain": [
              "array(['1', '3', 'Casa', 'True'], dtype='<U21')"
            ]
          },
          "metadata": {},
          "execution_count": 45
        }
      ],
      "source": [
        "a"
      ]
    },
    {
      "cell_type": "code",
      "execution_count": null,
      "metadata": {
        "id": "wEgGdzpbU62w"
      },
      "outputs": [],
      "source": [
        "a * 2"
      ]
    },
    {
      "cell_type": "markdown",
      "metadata": {
        "id": "x2dDkTAwU62y"
      },
      "source": [
        "# Métodos e Atributos Úteis"
      ]
    },
    {
      "cell_type": "code",
      "execution_count": 50,
      "metadata": {
        "id": "w7t8u94EU62y",
        "colab": {
          "base_uri": "https://localhost:8080/"
        },
        "outputId": "68f52b10-0dcc-4e5b-b5ae-fd275f39a17a"
      },
      "outputs": [
        {
          "output_type": "execute_result",
          "data": {
            "text/plain": [
              "array([[1, 2, 3],\n",
              "       [4, 5, 6]])"
            ]
          },
          "metadata": {},
          "execution_count": 50
        }
      ],
      "source": [
        "# Métodos disponíveis (digite o . pressione tab).\n",
        "two_dim"
      ]
    },
    {
      "cell_type": "code",
      "execution_count": 51,
      "metadata": {
        "id": "KVy5LTa8sfx3"
      },
      "outputs": [],
      "source": [
        "# Criando um array de 2 dimensões.\n",
        "two_dim = np.array([(1,2,3), (4,5,6)])"
      ]
    },
    {
      "cell_type": "code",
      "execution_count": 52,
      "metadata": {
        "colab": {
          "base_uri": "https://localhost:8080/"
        },
        "id": "M-QF2MbJU620",
        "outputId": "eaa679d8-5ebc-4ead-a624-a666e8cecf02"
      },
      "outputs": [
        {
          "output_type": "execute_result",
          "data": {
            "text/plain": [
              "array([[1, 2, 3],\n",
              "       [4, 5, 6]])"
            ]
          },
          "metadata": {},
          "execution_count": 52
        }
      ],
      "source": [
        "two_dim"
      ]
    },
    {
      "cell_type": "code",
      "execution_count": 53,
      "metadata": {
        "colab": {
          "base_uri": "https://localhost:8080/"
        },
        "id": "oAEykFHcU623",
        "outputId": "cd6d20ea-1eb9-40fa-c124-dd31aac069fc"
      },
      "outputs": [
        {
          "output_type": "execute_result",
          "data": {
            "text/plain": [
              "(2, 3)"
            ]
          },
          "metadata": {},
          "execution_count": 53
        }
      ],
      "source": [
        "# Retorna a forma do array no formato linhas e colunas.\n",
        "two_dim.shape"
      ]
    },
    {
      "cell_type": "code",
      "execution_count": 54,
      "metadata": {
        "colab": {
          "base_uri": "https://localhost:8080/"
        },
        "id": "qFOeJ3nwU625",
        "outputId": "e421c09c-a2ed-4caf-8534-3b84b4d02a3d"
      },
      "outputs": [
        {
          "output_type": "execute_result",
          "data": {
            "text/plain": [
              "2"
            ]
          },
          "metadata": {},
          "execution_count": 54
        }
      ],
      "source": [
        "# Retorna a quantidade de dimensões.\n",
        "two_dim.ndim"
      ]
    },
    {
      "cell_type": "code",
      "execution_count": 55,
      "metadata": {
        "colab": {
          "base_uri": "https://localhost:8080/"
        },
        "id": "CR5GbNRsU626",
        "outputId": "f8f48205-4422-4eaa-92e9-ed92fa08018f"
      },
      "outputs": [
        {
          "output_type": "execute_result",
          "data": {
            "text/plain": [
              "6"
            ]
          },
          "metadata": {},
          "execution_count": 55
        }
      ],
      "source": [
        "# Imprimindo o valor máximo do array.\n",
        "two_dim.max()"
      ]
    },
    {
      "cell_type": "code",
      "execution_count": 56,
      "metadata": {
        "colab": {
          "base_uri": "https://localhost:8080/"
        },
        "id": "Sr-VGZasU628",
        "outputId": "79c1c4ba-9d37-42ac-8ff4-b9257c114ff6"
      },
      "outputs": [
        {
          "output_type": "execute_result",
          "data": {
            "text/plain": [
              "1"
            ]
          },
          "metadata": {},
          "execution_count": 56
        }
      ],
      "source": [
        "# Imprimindo o valor mínimo.\n",
        "two_dim.min()"
      ]
    },
    {
      "cell_type": "code",
      "execution_count": 57,
      "metadata": {
        "colab": {
          "base_uri": "https://localhost:8080/"
        },
        "id": "9uX_D_RCU629",
        "outputId": "e026dedf-a85f-4be0-d22d-93edd918b024"
      },
      "outputs": [
        {
          "output_type": "execute_result",
          "data": {
            "text/plain": [
              "3.5"
            ]
          },
          "metadata": {},
          "execution_count": 57
        }
      ],
      "source": [
        "# Imprimindo o valor médio.\n",
        "two_dim.mean()"
      ]
    },
    {
      "cell_type": "code",
      "execution_count": 58,
      "metadata": {
        "id": "h-w6XdChU62_",
        "colab": {
          "base_uri": "https://localhost:8080/"
        },
        "outputId": "cb58520f-b024-4166-8c61-df723bf12eb2"
      },
      "outputs": [
        {
          "output_type": "execute_result",
          "data": {
            "text/plain": [
              "1.707825127659933"
            ]
          },
          "metadata": {},
          "execution_count": 58
        }
      ],
      "source": [
        "# Imprimindo o desvio padrão.\n",
        "two_dim.std()"
      ]
    },
    {
      "cell_type": "code",
      "execution_count": 59,
      "metadata": {
        "colab": {
          "base_uri": "https://localhost:8080/"
        },
        "id": "tERh5m9yU63A",
        "outputId": "b099bfe3-c703-4674-b3aa-8750658b63bb"
      },
      "outputs": [
        {
          "output_type": "execute_result",
          "data": {
            "text/plain": [
              "array([[1, 2, 3],\n",
              "       [4, 5, 6]])"
            ]
          },
          "metadata": {},
          "execution_count": 59
        }
      ],
      "source": [
        "two_dim"
      ]
    },
    {
      "cell_type": "code",
      "execution_count": 60,
      "metadata": {
        "colab": {
          "base_uri": "https://localhost:8080/"
        },
        "id": "Wk27Mz7iU63C",
        "outputId": "c0117471-0b4d-413c-e42b-edbe750ea461"
      },
      "outputs": [
        {
          "output_type": "execute_result",
          "data": {
            "text/plain": [
              "dtype('int64')"
            ]
          },
          "metadata": {},
          "execution_count": 60
        }
      ],
      "source": [
        "two_dim.dtype"
      ]
    },
    {
      "cell_type": "code",
      "execution_count": 61,
      "metadata": {
        "colab": {
          "base_uri": "https://localhost:8080/"
        },
        "id": "8eAPPibOU63D",
        "outputId": "afb26af2-a4a2-4b62-b447-ffaa8c1d38f8"
      },
      "outputs": [
        {
          "output_type": "execute_result",
          "data": {
            "text/plain": [
              "6"
            ]
          },
          "metadata": {},
          "execution_count": 61
        }
      ],
      "source": [
        "two_dim.size"
      ]
    },
    {
      "cell_type": "code",
      "execution_count": 62,
      "metadata": {
        "colab": {
          "base_uri": "https://localhost:8080/"
        },
        "id": "2imdTa4PU63F",
        "outputId": "9ff751db-008d-4053-fb10-d02521462ec0"
      },
      "outputs": [
        {
          "output_type": "execute_result",
          "data": {
            "text/plain": [
              "8"
            ]
          },
          "metadata": {},
          "execution_count": 62
        }
      ],
      "source": [
        "# mostra o compromento em bytes\n",
        "two_dim.itemsize"
      ]
    },
    {
      "cell_type": "code",
      "execution_count": 63,
      "metadata": {
        "colab": {
          "base_uri": "https://localhost:8080/"
        },
        "id": "EulqakZLU63G",
        "outputId": "1ab57932-2490-45aa-cb3a-c6967d5ad3cd"
      },
      "outputs": [
        {
          "output_type": "execute_result",
          "data": {
            "text/plain": [
              "21"
            ]
          },
          "metadata": {},
          "execution_count": 63
        }
      ],
      "source": [
        "# Somando todos os elementos do array.\n",
        "two_dim.sum()"
      ]
    },
    {
      "cell_type": "markdown",
      "metadata": {
        "id": "9sYbC4wYU63I"
      },
      "source": [
        "#  Transformando Arrays"
      ]
    },
    {
      "cell_type": "code",
      "execution_count": 64,
      "metadata": {
        "id": "mriOMcomuJ0z"
      },
      "outputs": [],
      "source": [
        "# Criando um array de 2 dimensões.\n",
        "two_dim = np.array([(1,2,3), (4,5,6)])"
      ]
    },
    {
      "cell_type": "code",
      "execution_count": 65,
      "metadata": {
        "colab": {
          "base_uri": "https://localhost:8080/"
        },
        "id": "OGd7glZZU63I",
        "outputId": "b3d7e3a5-cd09-471e-fe02-96c8f6b23d60"
      },
      "outputs": [
        {
          "output_type": "execute_result",
          "data": {
            "text/plain": [
              "array([[1, 2, 3],\n",
              "       [4, 5, 6]])"
            ]
          },
          "metadata": {},
          "execution_count": 65
        }
      ],
      "source": [
        "two_dim"
      ]
    },
    {
      "cell_type": "code",
      "execution_count": 66,
      "metadata": {
        "colab": {
          "base_uri": "https://localhost:8080/"
        },
        "id": "0H9RR8zkU63K",
        "outputId": "ddf092e2-8921-4025-d5bb-e3206092ef28"
      },
      "outputs": [
        {
          "output_type": "execute_result",
          "data": {
            "text/plain": [
              "array([[1, 4],\n",
              "       [2, 5],\n",
              "       [3, 6]])"
            ]
          },
          "metadata": {},
          "execution_count": 66
        }
      ],
      "source": [
        "# Gera a Transposta da Matriz (Linha -> coluna)\n",
        "two_dim.T"
      ]
    },
    {
      "cell_type": "code",
      "execution_count": 67,
      "metadata": {
        "colab": {
          "base_uri": "https://localhost:8080/"
        },
        "id": "TQkDJXH_U63N",
        "outputId": "70e3106a-b03a-4d91-d018-ec7860381626"
      },
      "outputs": [
        {
          "output_type": "execute_result",
          "data": {
            "text/plain": [
              "array([[1, 2, 3],\n",
              "       [4, 5, 6]])"
            ]
          },
          "metadata": {},
          "execution_count": 67
        }
      ],
      "source": [
        "two_dim"
      ]
    },
    {
      "cell_type": "code",
      "execution_count": 68,
      "metadata": {
        "colab": {
          "base_uri": "https://localhost:8080/"
        },
        "id": "FYTDyoX9U63P",
        "outputId": "d237ada1-e06d-473d-e8e8-0a42cab6f47a"
      },
      "outputs": [
        {
          "output_type": "execute_result",
          "data": {
            "text/plain": [
              "array([1, 2, 3, 4, 5, 6])"
            ]
          },
          "metadata": {},
          "execution_count": 68
        }
      ],
      "source": [
        "# Transforma em uma matriz de uma linha.\n",
        "# È muito comum em bibliotecas como scikit-learn e Keras\n",
        "two_dim.reshape(-1)"
      ]
    },
    {
      "cell_type": "code",
      "execution_count": 69,
      "metadata": {
        "id": "guhx-YFgU63R"
      },
      "outputs": [],
      "source": [
        "tree = np.random.random((5,3))"
      ]
    },
    {
      "cell_type": "code",
      "execution_count": 101,
      "metadata": {
        "colab": {
          "base_uri": "https://localhost:8080/"
        },
        "id": "N0UcZaYsU63S",
        "outputId": "f6d830a2-ee20-4d10-c73d-942110cc4f0a"
      },
      "outputs": [
        {
          "output_type": "execute_result",
          "data": {
            "text/plain": [
              "(5, 3)"
            ]
          },
          "metadata": {},
          "execution_count": 101
        }
      ],
      "source": [
        "tree.shape"
      ]
    },
    {
      "cell_type": "code",
      "execution_count": 71,
      "metadata": {
        "colab": {
          "base_uri": "https://localhost:8080/"
        },
        "id": "9axdkLH3U63U",
        "outputId": "831b9f90-ba9b-4dda-9184-c791a28197d0"
      },
      "outputs": [
        {
          "output_type": "execute_result",
          "data": {
            "text/plain": [
              "array([[0.72565626, 0.73338696, 0.33462277],\n",
              "       [0.81222767, 0.94675469, 0.96186367],\n",
              "       [0.26755625, 0.31789838, 0.51495348],\n",
              "       [0.97509977, 0.35560601, 0.57319132],\n",
              "       [0.10047701, 0.4347515 , 0.11057464]])"
            ]
          },
          "metadata": {},
          "execution_count": 71
        }
      ],
      "source": [
        "tree"
      ]
    },
    {
      "cell_type": "code",
      "execution_count": 72,
      "metadata": {
        "colab": {
          "base_uri": "https://localhost:8080/"
        },
        "id": "kCMCohflU63W",
        "outputId": "7869d106-bdcd-4234-b5e6-1f41ad518345"
      },
      "outputs": [
        {
          "output_type": "execute_result",
          "data": {
            "text/plain": [
              "array([[0.72565626, 0.73338696, 0.33462277, 0.81222767, 0.94675469],\n",
              "       [0.96186367, 0.26755625, 0.31789838, 0.51495348, 0.97509977],\n",
              "       [0.35560601, 0.57319132, 0.10047701, 0.4347515 , 0.11057464]])"
            ]
          },
          "metadata": {},
          "execution_count": 72
        }
      ],
      "source": [
        "# Transforma em uma matriz com 3 linhas e 5 colunas\n",
        "tree.reshape(3,5)"
      ]
    },
    {
      "cell_type": "code",
      "execution_count": 73,
      "metadata": {
        "colab": {
          "base_uri": "https://localhost:8080/"
        },
        "id": "suIpAVnDU63Z",
        "outputId": "b7e75a73-44d9-4b71-ad37-d69cf585305c"
      },
      "outputs": [
        {
          "output_type": "execute_result",
          "data": {
            "text/plain": [
              "array([0.72565626, 0.73338696, 0.33462277, 0.81222767, 0.94675469,\n",
              "       0.96186367, 0.26755625, 0.31789838, 0.51495348, 0.97509977,\n",
              "       0.35560601, 0.57319132, 0.10047701, 0.4347515 , 0.11057464])"
            ]
          },
          "metadata": {},
          "execution_count": 73
        }
      ],
      "source": [
        "tree.reshape(-1)"
      ]
    },
    {
      "cell_type": "code",
      "execution_count": 74,
      "metadata": {
        "colab": {
          "base_uri": "https://localhost:8080/"
        },
        "id": "GT4jIVQBU63a",
        "outputId": "3771d7d3-8218-4c9b-f79b-cc1666075545"
      },
      "outputs": [
        {
          "output_type": "execute_result",
          "data": {
            "text/plain": [
              "array([[0.72565626, 0.73338696, 0.33462277, 0.81222767, 0.94675469,\n",
              "        0.96186367, 0.26755625, 0.31789838, 0.51495348, 0.97509977,\n",
              "        0.35560601, 0.57319132, 0.10047701, 0.4347515 , 0.11057464]])"
            ]
          },
          "metadata": {},
          "execution_count": 74
        }
      ],
      "source": [
        "t=tree.reshape(1,15)\n",
        "t"
      ]
    },
    {
      "cell_type": "code",
      "execution_count": 75,
      "metadata": {
        "colab": {
          "base_uri": "https://localhost:8080/"
        },
        "id": "RI9NKWURvi41",
        "outputId": "28b8fe06-1887-412a-d5a5-c1722c1a6e8d"
      },
      "outputs": [
        {
          "output_type": "execute_result",
          "data": {
            "text/plain": [
              "array([[0.72565626, 0.73338696, 0.33462277, 0.81222767, 0.94675469,\n",
              "        0.96186367, 0.26755625, 0.31789838, 0.51495348, 0.97509977,\n",
              "        0.35560601, 0.57319132, 0.10047701, 0.4347515 , 0.11057464]])"
            ]
          },
          "metadata": {},
          "execution_count": 75
        }
      ],
      "source": [
        "t"
      ]
    },
    {
      "cell_type": "code",
      "execution_count": 76,
      "metadata": {
        "colab": {
          "base_uri": "https://localhost:8080/"
        },
        "id": "24-83M0dvkle",
        "outputId": "f6430682-b1e9-4e23-9f51-0a99df10c36a"
      },
      "outputs": [
        {
          "output_type": "execute_result",
          "data": {
            "text/plain": [
              "(1, 15)"
            ]
          },
          "metadata": {},
          "execution_count": 76
        }
      ],
      "source": [
        "t.shape"
      ]
    },
    {
      "cell_type": "code",
      "execution_count": 77,
      "metadata": {
        "colab": {
          "base_uri": "https://localhost:8080/"
        },
        "id": "ML5B8VmjU63c",
        "outputId": "c2df22df-b25f-47e0-8b3c-d109b918ac2a"
      },
      "outputs": [
        {
          "output_type": "execute_result",
          "data": {
            "text/plain": [
              "array([[1, 2, 3],\n",
              "       [4, 5, 6]])"
            ]
          },
          "metadata": {},
          "execution_count": 77
        }
      ],
      "source": [
        "two_dim"
      ]
    },
    {
      "cell_type": "code",
      "execution_count": 107,
      "metadata": {
        "id": "imJhT4QfU63d"
      },
      "outputs": [],
      "source": [
        "# Adicionando elementos a um array.\n",
        "two_dim = np.insert(two_dim,0,10)"
      ]
    },
    {
      "cell_type": "code",
      "execution_count": 108,
      "metadata": {
        "colab": {
          "base_uri": "https://localhost:8080/"
        },
        "id": "I5aW_t_DU63f",
        "outputId": "8c4ff4bb-349d-4189-ceed-e006e0159cc8"
      },
      "outputs": [
        {
          "output_type": "execute_result",
          "data": {
            "text/plain": [
              "array([10, 10, 10,  1,  2,  3,  4,  5,  6])"
            ]
          },
          "metadata": {},
          "execution_count": 108
        }
      ],
      "source": [
        "# Transforma em um array de uma linha.\n",
        "two_dim"
      ]
    },
    {
      "cell_type": "code",
      "execution_count": 115,
      "metadata": {
        "id": "PAupeqAhU63g"
      },
      "outputs": [],
      "source": [
        "# Apagando o elemento da primeira posição do array.\n",
        "two_dim = np.delete(two_dim,[0])"
      ]
    },
    {
      "cell_type": "code",
      "execution_count": 116,
      "metadata": {
        "colab": {
          "base_uri": "https://localhost:8080/"
        },
        "id": "BwvUVZxjU63i",
        "outputId": "fbd46bb8-c6d4-4dc9-8daf-59ff76e760e1"
      },
      "outputs": [
        {
          "output_type": "execute_result",
          "data": {
            "text/plain": [
              "array([2, 3, 4, 5, 6])"
            ]
          },
          "metadata": {},
          "execution_count": 116
        }
      ],
      "source": [
        "two_dim"
      ]
    },
    {
      "cell_type": "code",
      "execution_count": 117,
      "metadata": {
        "id": "0qJ4HIcdU63k"
      },
      "outputs": [],
      "source": [
        "# Gerando um arquivo .txt a partir de um array\n",
        "np.savetxt(\"dataset_array.txt\",two_dim, delimiter=',')"
      ]
    },
    {
      "cell_type": "markdown",
      "metadata": {
        "id": "8ECTGirZVNAv"
      },
      "source": [
        "# Acessando Dimensões no Array"
      ]
    },
    {
      "cell_type": "code",
      "execution_count": 83,
      "metadata": {
        "id": "KHErmmw6VNAv"
      },
      "outputs": [],
      "source": [
        "# Importando o Numpy\n",
        "import numpy as np"
      ]
    },
    {
      "cell_type": "code",
      "execution_count": 84,
      "metadata": {
        "id": "8Af4mtbfVNAz"
      },
      "outputs": [],
      "source": [
        "# Gera um array aleatório de 10 linhas e 2 colunas\n",
        "# formato linha,coluna\n",
        "my_array = np.random.random([10,2])"
      ]
    },
    {
      "cell_type": "code",
      "execution_count": 119,
      "metadata": {
        "id": "_RlsahL8VNA2",
        "colab": {
          "base_uri": "https://localhost:8080/"
        },
        "outputId": "804a2797-84d5-4a15-905c-710b2d8e1950"
      },
      "outputs": [
        {
          "output_type": "execute_result",
          "data": {
            "text/plain": [
              "array([[0.47527907, 0.85026737],\n",
              "       [0.95717076, 0.45722405],\n",
              "       [0.6483454 , 0.34599355],\n",
              "       [0.60839308, 0.58638103],\n",
              "       [0.48870785, 0.78763925],\n",
              "       [0.53608542, 0.8544098 ],\n",
              "       [0.49280709, 0.68839022],\n",
              "       [0.71360588, 0.70194807],\n",
              "       [0.71185629, 0.53565326],\n",
              "       [0.35153879, 0.03774444]])"
            ]
          },
          "metadata": {},
          "execution_count": 119
        }
      ],
      "source": [
        "my_array"
      ]
    },
    {
      "cell_type": "code",
      "execution_count": 118,
      "metadata": {
        "id": "CuEStUsoVNA5",
        "colab": {
          "base_uri": "https://localhost:8080/"
        },
        "outputId": "ed34d525-1d8e-4272-8dfc-b71b35e43092"
      },
      "outputs": [
        {
          "output_type": "execute_result",
          "data": {
            "text/plain": [
              "array([0.47527907, 0.85026737])"
            ]
          },
          "metadata": {},
          "execution_count": 118
        }
      ],
      "source": [
        "# Imprimindo o primeiro elemento (1 linha)\n",
        "my_array[0]"
      ]
    },
    {
      "cell_type": "code",
      "execution_count": 120,
      "metadata": {
        "id": "C49BTWSuVNA8",
        "colab": {
          "base_uri": "https://localhost:8080/"
        },
        "outputId": "27d14d9e-8c6e-4987-dfc6-e628e09268dc"
      },
      "outputs": [
        {
          "output_type": "execute_result",
          "data": {
            "text/plain": [
              "0.47527907413574977"
            ]
          },
          "metadata": {},
          "execution_count": 120
        }
      ],
      "source": [
        "# Imprimindo o primeiro elemento da coluna 0 (1 coluna)\n",
        "my_array[0][0]"
      ]
    },
    {
      "cell_type": "code",
      "execution_count": 121,
      "metadata": {
        "id": "GYYq_GCnVNA-",
        "colab": {
          "base_uri": "https://localhost:8080/"
        },
        "outputId": "9015181a-0665-44ae-8316-8508a55bd8d6"
      },
      "outputs": [
        {
          "output_type": "execute_result",
          "data": {
            "text/plain": [
              "0.8502673746861988"
            ]
          },
          "metadata": {},
          "execution_count": 121
        }
      ],
      "source": [
        "# Primeiro elemento da coluna 1\n",
        "my_array[0][1]"
      ]
    },
    {
      "cell_type": "code",
      "execution_count": 122,
      "metadata": {
        "id": "38L6hVwFVNBB",
        "colab": {
          "base_uri": "https://localhost:8080/"
        },
        "outputId": "c8583f83-4464-43c0-c4ff-7d58e8e2fdd8"
      },
      "outputs": [
        {
          "output_type": "execute_result",
          "data": {
            "text/plain": [
              "0.45722405049179504"
            ]
          },
          "metadata": {},
          "execution_count": 122
        }
      ],
      "source": [
        "# Segundo elemento da coluna 1\n",
        "my_array[1][1]"
      ]
    },
    {
      "cell_type": "code",
      "execution_count": 123,
      "metadata": {
        "id": "lVU5N-ncxbDk",
        "colab": {
          "base_uri": "https://localhost:8080/"
        },
        "outputId": "051b6056-a998-4a37-e42b-869a0a5ca7ec"
      },
      "outputs": [
        {
          "output_type": "execute_result",
          "data": {
            "text/plain": [
              "array([[0.47527907, 0.85026737],\n",
              "       [0.95717076, 0.45722405],\n",
              "       [0.6483454 , 0.34599355],\n",
              "       [0.60839308, 0.58638103],\n",
              "       [0.48870785, 0.78763925],\n",
              "       [0.53608542, 0.8544098 ],\n",
              "       [0.49280709, 0.68839022],\n",
              "       [0.71360588, 0.70194807],\n",
              "       [0.71185629, 0.53565326],\n",
              "       [0.35153879, 0.03774444]])"
            ]
          },
          "metadata": {},
          "execution_count": 123
        }
      ],
      "source": [
        "my_array"
      ]
    },
    {
      "cell_type": "code",
      "execution_count": 91,
      "metadata": {
        "id": "VmeyBz5FVNBF",
        "colab": {
          "base_uri": "https://localhost:8080/"
        },
        "outputId": "8216421d-4981-46bb-a64a-a89913fbc88d"
      },
      "outputs": [
        {
          "output_type": "execute_result",
          "data": {
            "text/plain": [
              "array([0.85026737, 0.45722405, 0.34599355])"
            ]
          },
          "metadata": {},
          "execution_count": 91
        }
      ],
      "source": [
        "# Imprimindo até 3 valores da coluna 1\n",
        "my_array[:3,1]"
      ]
    },
    {
      "cell_type": "code",
      "execution_count": 92,
      "metadata": {
        "id": "pvTLH1P0VNBG",
        "colab": {
          "base_uri": "https://localhost:8080/"
        },
        "outputId": "0aa5f7a8-3ad9-41ec-c6b4-722fbca32c01"
      },
      "outputs": [
        {
          "output_type": "execute_result",
          "data": {
            "text/plain": [
              "array([8.50267375, 4.5722405 , 3.45993547, 5.86381033, 7.8763925 ,\n",
              "       8.54409797, 6.88390219, 7.0194807 , 5.35653257, 0.37744443])"
            ]
          },
          "metadata": {},
          "execution_count": 92
        }
      ],
      "source": [
        "# Imprime todas as linhas da coluna 2 * 10\n",
        "my_array[:,1] * 10"
      ]
    },
    {
      "cell_type": "code",
      "execution_count": 93,
      "metadata": {
        "id": "crqaVTB2VNBI",
        "colab": {
          "base_uri": "https://localhost:8080/"
        },
        "outputId": "1ea8d462-17e5-4edb-967c-e06436ebef5b"
      },
      "outputs": [
        {
          "output_type": "execute_result",
          "data": {
            "text/plain": [
              "array([[False,  True],\n",
              "       [ True, False],\n",
              "       [ True, False],\n",
              "       [ True,  True],\n",
              "       [False,  True],\n",
              "       [ True,  True],\n",
              "       [False,  True],\n",
              "       [ True,  True],\n",
              "       [ True,  True],\n",
              "       [False, False]])"
            ]
          },
          "metadata": {},
          "execution_count": 93
        }
      ],
      "source": [
        "# Comparação retorna indices\n",
        "my_array > 0.50"
      ]
    },
    {
      "cell_type": "code",
      "execution_count": 94,
      "metadata": {
        "id": "i-6rEQPgVNBK",
        "colab": {
          "base_uri": "https://localhost:8080/"
        },
        "outputId": "1e6e23bb-edaf-446f-dc48-16e59f2baad1"
      },
      "outputs": [
        {
          "output_type": "execute_result",
          "data": {
            "text/plain": [
              "array([0.85026737, 0.95717076, 0.6483454 , 0.60839308, 0.58638103,\n",
              "       0.78763925, 0.53608542, 0.8544098 , 0.68839022, 0.71360588,\n",
              "       0.70194807, 0.71185629, 0.53565326])"
            ]
          },
          "metadata": {},
          "execution_count": 94
        }
      ],
      "source": [
        "# Acessando valores por índices\n",
        "my_array[my_array > 0.50]"
      ]
    },
    {
      "cell_type": "markdown",
      "metadata": {
        "id": "ngERkIw2Vf3a"
      },
      "source": [
        "# Trabalhando com Valores Missing"
      ]
    },
    {
      "cell_type": "markdown",
      "metadata": {
        "id": "w4rHSKZhVf3b"
      },
      "source": [
        "* **Missing Values** são valores faltantes em colunas, esses podem ser oriundos de falhas em cargas de dados, falhas em crawlers ou até mesmo corrupção de dados.\n",
        "\n",
        "* Missing Values podem ser um problema em várias situações, como por exemplo, algoritmos de machine learning que não trabalham bem com dados faltantes.\n",
        "\n",
        "* Estes também podem atrapalhar resultados de análises.\n",
        "\n",
        "* Vamos aprender como encontrar missing values na base de dados e como manipular esses valores."
      ]
    },
    {
      "cell_type": "code",
      "execution_count": 100,
      "metadata": {
        "id": "uNJR8idKVf3b",
        "colab": {
          "base_uri": "https://localhost:8080/",
          "height": 373
        },
        "outputId": "70f60c8b-d891-4fe8-c4d5-3cd6edeef2cc"
      },
      "outputs": [
        {
          "output_type": "error",
          "ename": "FileNotFoundError",
          "evalue": "ignored",
          "traceback": [
            "\u001b[0;31m---------------------------------------------------------------------------\u001b[0m",
            "\u001b[0;31mFileNotFoundError\u001b[0m                         Traceback (most recent call last)",
            "\u001b[0;32m<ipython-input-100-ea0a058f427b>\u001b[0m in \u001b[0;36m<cell line: 6>\u001b[0;34m()\u001b[0m\n\u001b[1;32m      4\u001b[0m \u001b[0;32mimport\u001b[0m \u001b[0mpandas\u001b[0m \u001b[0;32mas\u001b[0m \u001b[0mpd\u001b[0m\u001b[0;34m\u001b[0m\u001b[0;34m\u001b[0m\u001b[0m\n\u001b[1;32m      5\u001b[0m \u001b[0marquivo\u001b[0m \u001b[0;34m=\u001b[0m \u001b[0;34m'house.csv'\u001b[0m\u001b[0;34m\u001b[0m\u001b[0;34m\u001b[0m\u001b[0m\n\u001b[0;32m----> 6\u001b[0;31m \u001b[0mdataset\u001b[0m \u001b[0;34m=\u001b[0m \u001b[0mpd\u001b[0m\u001b[0;34m.\u001b[0m\u001b[0mread_csv\u001b[0m\u001b[0;34m(\u001b[0m\u001b[0marquivo\u001b[0m\u001b[0;34m,\u001b[0m \u001b[0msep\u001b[0m\u001b[0;34m=\u001b[0m\u001b[0;34m','\u001b[0m\u001b[0;34m,\u001b[0m \u001b[0mheader\u001b[0m\u001b[0;34m=\u001b[0m\u001b[0;36m0\u001b[0m\u001b[0;34m)\u001b[0m\u001b[0;34m\u001b[0m\u001b[0;34m\u001b[0m\u001b[0m\n\u001b[0m",
            "\u001b[0;32m/usr/local/lib/python3.10/dist-packages/pandas/util/_decorators.py\u001b[0m in \u001b[0;36mwrapper\u001b[0;34m(*args, **kwargs)\u001b[0m\n\u001b[1;32m    209\u001b[0m                 \u001b[0;32melse\u001b[0m\u001b[0;34m:\u001b[0m\u001b[0;34m\u001b[0m\u001b[0;34m\u001b[0m\u001b[0m\n\u001b[1;32m    210\u001b[0m                     \u001b[0mkwargs\u001b[0m\u001b[0;34m[\u001b[0m\u001b[0mnew_arg_name\u001b[0m\u001b[0;34m]\u001b[0m \u001b[0;34m=\u001b[0m \u001b[0mnew_arg_value\u001b[0m\u001b[0;34m\u001b[0m\u001b[0;34m\u001b[0m\u001b[0m\n\u001b[0;32m--> 211\u001b[0;31m             \u001b[0;32mreturn\u001b[0m \u001b[0mfunc\u001b[0m\u001b[0;34m(\u001b[0m\u001b[0;34m*\u001b[0m\u001b[0margs\u001b[0m\u001b[0;34m,\u001b[0m \u001b[0;34m**\u001b[0m\u001b[0mkwargs\u001b[0m\u001b[0;34m)\u001b[0m\u001b[0;34m\u001b[0m\u001b[0;34m\u001b[0m\u001b[0m\n\u001b[0m\u001b[1;32m    212\u001b[0m \u001b[0;34m\u001b[0m\u001b[0m\n\u001b[1;32m    213\u001b[0m         \u001b[0;32mreturn\u001b[0m \u001b[0mcast\u001b[0m\u001b[0;34m(\u001b[0m\u001b[0mF\u001b[0m\u001b[0;34m,\u001b[0m \u001b[0mwrapper\u001b[0m\u001b[0;34m)\u001b[0m\u001b[0;34m\u001b[0m\u001b[0;34m\u001b[0m\u001b[0m\n",
            "\u001b[0;32m/usr/local/lib/python3.10/dist-packages/pandas/util/_decorators.py\u001b[0m in \u001b[0;36mwrapper\u001b[0;34m(*args, **kwargs)\u001b[0m\n\u001b[1;32m    329\u001b[0m                     \u001b[0mstacklevel\u001b[0m\u001b[0;34m=\u001b[0m\u001b[0mfind_stack_level\u001b[0m\u001b[0;34m(\u001b[0m\u001b[0;34m)\u001b[0m\u001b[0;34m,\u001b[0m\u001b[0;34m\u001b[0m\u001b[0;34m\u001b[0m\u001b[0m\n\u001b[1;32m    330\u001b[0m                 )\n\u001b[0;32m--> 331\u001b[0;31m             \u001b[0;32mreturn\u001b[0m \u001b[0mfunc\u001b[0m\u001b[0;34m(\u001b[0m\u001b[0;34m*\u001b[0m\u001b[0margs\u001b[0m\u001b[0;34m,\u001b[0m \u001b[0;34m**\u001b[0m\u001b[0mkwargs\u001b[0m\u001b[0;34m)\u001b[0m\u001b[0;34m\u001b[0m\u001b[0;34m\u001b[0m\u001b[0m\n\u001b[0m\u001b[1;32m    332\u001b[0m \u001b[0;34m\u001b[0m\u001b[0m\n\u001b[1;32m    333\u001b[0m         \u001b[0;31m# error: \"Callable[[VarArg(Any), KwArg(Any)], Any]\" has no\u001b[0m\u001b[0;34m\u001b[0m\u001b[0;34m\u001b[0m\u001b[0m\n",
            "\u001b[0;32m/usr/local/lib/python3.10/dist-packages/pandas/io/parsers/readers.py\u001b[0m in \u001b[0;36mread_csv\u001b[0;34m(filepath_or_buffer, sep, delimiter, header, names, index_col, usecols, squeeze, prefix, mangle_dupe_cols, dtype, engine, converters, true_values, false_values, skipinitialspace, skiprows, skipfooter, nrows, na_values, keep_default_na, na_filter, verbose, skip_blank_lines, parse_dates, infer_datetime_format, keep_date_col, date_parser, dayfirst, cache_dates, iterator, chunksize, compression, thousands, decimal, lineterminator, quotechar, quoting, doublequote, escapechar, comment, encoding, encoding_errors, dialect, error_bad_lines, warn_bad_lines, on_bad_lines, delim_whitespace, low_memory, memory_map, float_precision, storage_options)\u001b[0m\n\u001b[1;32m    948\u001b[0m     \u001b[0mkwds\u001b[0m\u001b[0;34m.\u001b[0m\u001b[0mupdate\u001b[0m\u001b[0;34m(\u001b[0m\u001b[0mkwds_defaults\u001b[0m\u001b[0;34m)\u001b[0m\u001b[0;34m\u001b[0m\u001b[0;34m\u001b[0m\u001b[0m\n\u001b[1;32m    949\u001b[0m \u001b[0;34m\u001b[0m\u001b[0m\n\u001b[0;32m--> 950\u001b[0;31m     \u001b[0;32mreturn\u001b[0m \u001b[0m_read\u001b[0m\u001b[0;34m(\u001b[0m\u001b[0mfilepath_or_buffer\u001b[0m\u001b[0;34m,\u001b[0m \u001b[0mkwds\u001b[0m\u001b[0;34m)\u001b[0m\u001b[0;34m\u001b[0m\u001b[0;34m\u001b[0m\u001b[0m\n\u001b[0m\u001b[1;32m    951\u001b[0m \u001b[0;34m\u001b[0m\u001b[0m\n\u001b[1;32m    952\u001b[0m \u001b[0;34m\u001b[0m\u001b[0m\n",
            "\u001b[0;32m/usr/local/lib/python3.10/dist-packages/pandas/io/parsers/readers.py\u001b[0m in \u001b[0;36m_read\u001b[0;34m(filepath_or_buffer, kwds)\u001b[0m\n\u001b[1;32m    603\u001b[0m \u001b[0;34m\u001b[0m\u001b[0m\n\u001b[1;32m    604\u001b[0m     \u001b[0;31m# Create the parser.\u001b[0m\u001b[0;34m\u001b[0m\u001b[0;34m\u001b[0m\u001b[0m\n\u001b[0;32m--> 605\u001b[0;31m     \u001b[0mparser\u001b[0m \u001b[0;34m=\u001b[0m \u001b[0mTextFileReader\u001b[0m\u001b[0;34m(\u001b[0m\u001b[0mfilepath_or_buffer\u001b[0m\u001b[0;34m,\u001b[0m \u001b[0;34m**\u001b[0m\u001b[0mkwds\u001b[0m\u001b[0;34m)\u001b[0m\u001b[0;34m\u001b[0m\u001b[0;34m\u001b[0m\u001b[0m\n\u001b[0m\u001b[1;32m    606\u001b[0m \u001b[0;34m\u001b[0m\u001b[0m\n\u001b[1;32m    607\u001b[0m     \u001b[0;32mif\u001b[0m \u001b[0mchunksize\u001b[0m \u001b[0;32mor\u001b[0m \u001b[0miterator\u001b[0m\u001b[0;34m:\u001b[0m\u001b[0;34m\u001b[0m\u001b[0;34m\u001b[0m\u001b[0m\n",
            "\u001b[0;32m/usr/local/lib/python3.10/dist-packages/pandas/io/parsers/readers.py\u001b[0m in \u001b[0;36m__init__\u001b[0;34m(self, f, engine, **kwds)\u001b[0m\n\u001b[1;32m   1440\u001b[0m \u001b[0;34m\u001b[0m\u001b[0m\n\u001b[1;32m   1441\u001b[0m         \u001b[0mself\u001b[0m\u001b[0;34m.\u001b[0m\u001b[0mhandles\u001b[0m\u001b[0;34m:\u001b[0m \u001b[0mIOHandles\u001b[0m \u001b[0;34m|\u001b[0m \u001b[0;32mNone\u001b[0m \u001b[0;34m=\u001b[0m \u001b[0;32mNone\u001b[0m\u001b[0;34m\u001b[0m\u001b[0;34m\u001b[0m\u001b[0m\n\u001b[0;32m-> 1442\u001b[0;31m         \u001b[0mself\u001b[0m\u001b[0;34m.\u001b[0m\u001b[0m_engine\u001b[0m \u001b[0;34m=\u001b[0m \u001b[0mself\u001b[0m\u001b[0;34m.\u001b[0m\u001b[0m_make_engine\u001b[0m\u001b[0;34m(\u001b[0m\u001b[0mf\u001b[0m\u001b[0;34m,\u001b[0m \u001b[0mself\u001b[0m\u001b[0;34m.\u001b[0m\u001b[0mengine\u001b[0m\u001b[0;34m)\u001b[0m\u001b[0;34m\u001b[0m\u001b[0;34m\u001b[0m\u001b[0m\n\u001b[0m\u001b[1;32m   1443\u001b[0m \u001b[0;34m\u001b[0m\u001b[0m\n\u001b[1;32m   1444\u001b[0m     \u001b[0;32mdef\u001b[0m \u001b[0mclose\u001b[0m\u001b[0;34m(\u001b[0m\u001b[0mself\u001b[0m\u001b[0;34m)\u001b[0m \u001b[0;34m->\u001b[0m \u001b[0;32mNone\u001b[0m\u001b[0;34m:\u001b[0m\u001b[0;34m\u001b[0m\u001b[0;34m\u001b[0m\u001b[0m\n",
            "\u001b[0;32m/usr/local/lib/python3.10/dist-packages/pandas/io/parsers/readers.py\u001b[0m in \u001b[0;36m_make_engine\u001b[0;34m(self, f, engine)\u001b[0m\n\u001b[1;32m   1733\u001b[0m                 \u001b[0;32mif\u001b[0m \u001b[0;34m\"b\"\u001b[0m \u001b[0;32mnot\u001b[0m \u001b[0;32min\u001b[0m \u001b[0mmode\u001b[0m\u001b[0;34m:\u001b[0m\u001b[0;34m\u001b[0m\u001b[0;34m\u001b[0m\u001b[0m\n\u001b[1;32m   1734\u001b[0m                     \u001b[0mmode\u001b[0m \u001b[0;34m+=\u001b[0m \u001b[0;34m\"b\"\u001b[0m\u001b[0;34m\u001b[0m\u001b[0;34m\u001b[0m\u001b[0m\n\u001b[0;32m-> 1735\u001b[0;31m             self.handles = get_handle(\n\u001b[0m\u001b[1;32m   1736\u001b[0m                 \u001b[0mf\u001b[0m\u001b[0;34m,\u001b[0m\u001b[0;34m\u001b[0m\u001b[0;34m\u001b[0m\u001b[0m\n\u001b[1;32m   1737\u001b[0m                 \u001b[0mmode\u001b[0m\u001b[0;34m,\u001b[0m\u001b[0;34m\u001b[0m\u001b[0;34m\u001b[0m\u001b[0m\n",
            "\u001b[0;32m/usr/local/lib/python3.10/dist-packages/pandas/io/common.py\u001b[0m in \u001b[0;36mget_handle\u001b[0;34m(path_or_buf, mode, encoding, compression, memory_map, is_text, errors, storage_options)\u001b[0m\n\u001b[1;32m    854\u001b[0m         \u001b[0;32mif\u001b[0m \u001b[0mioargs\u001b[0m\u001b[0;34m.\u001b[0m\u001b[0mencoding\u001b[0m \u001b[0;32mand\u001b[0m \u001b[0;34m\"b\"\u001b[0m \u001b[0;32mnot\u001b[0m \u001b[0;32min\u001b[0m \u001b[0mioargs\u001b[0m\u001b[0;34m.\u001b[0m\u001b[0mmode\u001b[0m\u001b[0;34m:\u001b[0m\u001b[0;34m\u001b[0m\u001b[0;34m\u001b[0m\u001b[0m\n\u001b[1;32m    855\u001b[0m             \u001b[0;31m# Encoding\u001b[0m\u001b[0;34m\u001b[0m\u001b[0;34m\u001b[0m\u001b[0m\n\u001b[0;32m--> 856\u001b[0;31m             handle = open(\n\u001b[0m\u001b[1;32m    857\u001b[0m                 \u001b[0mhandle\u001b[0m\u001b[0;34m,\u001b[0m\u001b[0;34m\u001b[0m\u001b[0;34m\u001b[0m\u001b[0m\n\u001b[1;32m    858\u001b[0m                 \u001b[0mioargs\u001b[0m\u001b[0;34m.\u001b[0m\u001b[0mmode\u001b[0m\u001b[0;34m,\u001b[0m\u001b[0;34m\u001b[0m\u001b[0;34m\u001b[0m\u001b[0m\n",
            "\u001b[0;31mFileNotFoundError\u001b[0m: [Errno 2] No such file or directory: 'house.csv'"
          ]
        }
      ],
      "source": [
        "import matplotlib\n",
        "\n",
        "\n",
        "import pandas as pd\n",
        "arquivo = 'house.csv'\n",
        "dataset = pd.read_csv(arquivo, sep=',', header=0)"
      ]
    },
    {
      "cell_type": "code",
      "execution_count": 99,
      "metadata": {
        "id": "BFOBY9Xi1kl5",
        "colab": {
          "base_uri": "https://localhost:8080/",
          "height": 175
        },
        "outputId": "e955d1d5-a41b-42d4-c9ef-f6660a2872fb"
      },
      "outputs": [
        {
          "output_type": "error",
          "ename": "NameError",
          "evalue": "ignored",
          "traceback": [
            "\u001b[0;31m---------------------------------------------------------------------------\u001b[0m",
            "\u001b[0;31mNameError\u001b[0m                                 Traceback (most recent call last)",
            "\u001b[0;32m<ipython-input-99-d48d03506017>\u001b[0m in \u001b[0;36m<cell line: 1>\u001b[0;34m()\u001b[0m\n\u001b[0;32m----> 1\u001b[0;31m \u001b[0mdataset\u001b[0m\u001b[0;34m.\u001b[0m\u001b[0mhead\u001b[0m\u001b[0;34m(\u001b[0m\u001b[0;34m)\u001b[0m\u001b[0;34m\u001b[0m\u001b[0;34m\u001b[0m\u001b[0m\n\u001b[0m",
            "\u001b[0;31mNameError\u001b[0m: name 'dataset' is not defined"
          ]
        }
      ],
      "source": [
        "dataset.head()"
      ]
    },
    {
      "cell_type": "code",
      "execution_count": null,
      "metadata": {
        "id": "hBGDmQ6yVf3c"
      },
      "outputs": [],
      "source": [
        "# Consultando linhas com valores faltantes.\n",
        "dataset.isnull().sum()"
      ]
    },
    {
      "cell_type": "code",
      "execution_count": null,
      "metadata": {
        "id": "-KJ5QxyIVf3d"
      },
      "outputs": [],
      "source": [
        "#Com este comando removemos todas as linhas onde tenha pela menos um registro faltante em algum atributo.\n",
        "dataset.dropna(inplace=True)"
      ]
    },
    {
      "cell_type": "code",
      "execution_count": null,
      "metadata": {
        "id": "oHjLSugXVf3e"
      },
      "outputs": [],
      "source": [
        "# É possível ainda, remover somente linhas que estejam com valores faltantes em todas as colunas, veja:\n",
        "dataset.dropna(how='all', inplace=True)"
      ]
    },
    {
      "cell_type": "code",
      "execution_count": null,
      "metadata": {
        "id": "tLRudpTZVf3f"
      },
      "outputs": [],
      "source": [
        "#preenche com a media dos valores da coluns floors os values null\n",
        "dataset['floors'].fillna(dataset['floors'].mean(), inplace=True)"
      ]
    },
    {
      "cell_type": "code",
      "execution_count": null,
      "metadata": {
        "id": "soYc9iXFVf3h"
      },
      "outputs": [],
      "source": [
        "#preenche com 1 os values null da coluna bedrooms\n",
        "dataset['bedrooms'].fillna(1, inplace=True)"
      ]
    },
    {
      "cell_type": "markdown",
      "metadata": {
        "id": "Av9soURmVc1R"
      },
      "source": [
        "# Visualização Gráfica - Extraindo Insights"
      ]
    },
    {
      "cell_type": "markdown",
      "metadata": {
        "id": "NR4IaCBLVc1R"
      },
      "source": [
        "* Vamos agora trabalhar com um tipo de gráfico muito interessante.\n",
        "\n",
        "* Os gráficos do tipo Boxplot são excelentes ferramentas de análise de dados, principalmente para identificar _**outliers**_."
      ]
    },
    {
      "cell_type": "code",
      "execution_count": null,
      "metadata": {
        "id": "YJrFCFxyVc1R"
      },
      "outputs": [],
      "source": [
        "import matplotlib"
      ]
    },
    {
      "cell_type": "code",
      "execution_count": null,
      "metadata": {
        "id": "TizLA1ry1JKD"
      },
      "outputs": [],
      "source": [
        "import pandas as pd\n",
        "arquivo = 'house.csv'\n",
        "dataset = pd.read_csv(arquivo, sep=',', header=0)"
      ]
    },
    {
      "cell_type": "code",
      "execution_count": null,
      "metadata": {
        "id": "vZDLrfQtVc1T"
      },
      "outputs": [],
      "source": [
        "# Plota gráfico do tipo Boxplot da coluna bedrooms\n",
        "# Esse gráfico é muito rico e é possível visualizar Outliers\n",
        "%matplotlib notebook\n",
        "matplotlib.style.use('ggplot')\n",
        "\n",
        "dataset.boxplot(column='bedrooms')"
      ]
    },
    {
      "cell_type": "code",
      "execution_count": null,
      "metadata": {
        "id": "u-0BYwxuVc1V"
      },
      "outputs": [],
      "source": [
        "# Visualizando os estilos de layout disponível\n",
        "matplotlib.style.available"
      ]
    },
    {
      "cell_type": "code",
      "execution_count": null,
      "metadata": {
        "id": "3wHGo-rxVc1X",
        "scrolled": true
      },
      "outputs": [],
      "source": [
        "# Plota boxplot da coluna 'price' por número de quartos\n",
        "%matplotlib notebook\n",
        "dataset.boxplot(column='price', by='bedrooms')"
      ]
    },
    {
      "cell_type": "markdown",
      "metadata": {
        "id": "9OYwqmYeVc1Z"
      },
      "source": [
        "**Correlação **"
      ]
    },
    {
      "cell_type": "code",
      "execution_count": null,
      "metadata": {
        "id": "Urj53B_FVc1Z"
      },
      "outputs": [],
      "source": [
        "# Imprime a correlação de todas as colunas do dataframe (person)\n",
        "dataset.corr()"
      ]
    },
    {
      "cell_type": "code",
      "execution_count": null,
      "metadata": {
        "id": "T6zVeaz8Vc1b"
      },
      "outputs": [],
      "source": [
        "dataset.corr('spearman')"
      ]
    },
    {
      "cell_type": "code",
      "execution_count": null,
      "metadata": {
        "id": "WX30KNpVVc1d"
      },
      "outputs": [],
      "source": [
        "# Imprime a correlação de spearman (esta leva em consideração a correção positiva e negativa)\n",
        "dataset.corr('spearman')"
      ]
    },
    {
      "cell_type": "code",
      "execution_count": null,
      "metadata": {
        "id": "F3ILVFNlVc1f"
      },
      "outputs": [],
      "source": [
        "# Imprime a correção de algumas colunas\n",
        "dataset[['bedrooms','bathrooms','floors','grade','price']].corr()"
      ]
    },
    {
      "cell_type": "markdown",
      "metadata": {
        "id": "XTRc7NjBKG65"
      },
      "source": [
        "# Fim"
      ]
    },
    {
      "cell_type": "markdown",
      "metadata": {
        "id": "_fHqFSvWe94c"
      },
      "source": [
        "## Valeu!"
      ]
    },
    {
      "cell_type": "markdown",
      "metadata": {
        "id": "JCGIEsSrKG66"
      },
      "source": [
        "### #Instagram - Ciencia dos Dados <a href=\"http://instagram.com/cienciadosdados\">instagram.com/cienciadosdados</a>"
      ]
    },
    {
      "cell_type": "code",
      "execution_count": null,
      "metadata": {
        "id": "EEkwr6HMZ4Qa"
      },
      "outputs": [],
      "source": []
    }
  ],
  "metadata": {
    "colab": {
      "provenance": [],
      "include_colab_link": true
    },
    "kernelspec": {
      "display_name": "Python 3",
      "language": "python",
      "name": "python3"
    },
    "language_info": {
      "codemirror_mode": {
        "name": "ipython",
        "version": 3
      },
      "file_extension": ".py",
      "mimetype": "text/x-python",
      "name": "python",
      "nbconvert_exporter": "python",
      "pygments_lexer": "ipython3",
      "version": "3.8.3"
    }
  },
  "nbformat": 4,
  "nbformat_minor": 0
}