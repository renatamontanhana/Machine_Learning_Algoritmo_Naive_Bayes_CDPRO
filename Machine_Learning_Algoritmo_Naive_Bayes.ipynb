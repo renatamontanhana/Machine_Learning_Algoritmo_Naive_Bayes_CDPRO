{
  "nbformat": 4,
  "nbformat_minor": 0,
  "metadata": {
    "anaconda-cloud": {},
    "kernelspec": {
      "display_name": "Python 3",
      "language": "python",
      "name": "python3"
    },
    "language_info": {
      "codemirror_mode": {
        "name": "ipython",
        "version": 3
      },
      "file_extension": ".py",
      "mimetype": "text/x-python",
      "name": "python",
      "nbconvert_exporter": "python",
      "pygments_lexer": "ipython3",
      "version": "3.7.3"
    },
    "colab": {
      "provenance": [],
      "include_colab_link": true
    }
  },
  "cells": [
    {
      "cell_type": "markdown",
      "metadata": {
        "id": "view-in-github",
        "colab_type": "text"
      },
      "source": [
        "<a href=\"https://colab.research.google.com/github/renatamontanhana/Machine_Learning_Algoritmo_Naive_Bayes_CDPRO/blob/main/Machine_Learning_Algoritmo_Naive_Bayes.ipynb\" target=\"_parent\"><img src=\"https://colab.research.google.com/assets/colab-badge.svg\" alt=\"Open In Colab\"/></a>"
      ]
    },
    {
      "cell_type": "markdown",
      "metadata": {
        "id": "mZVCagpZvZfE"
      },
      "source": [
        "![alt text](https://encrypted-tbn0.gstatic.com/images?q=tbn%3AANd9GcTK4gQ9nhwHHaSXMHpeggWg7twwMCgb877smkRmtkmDeDoGF9Z6&usqp=CAU)"
      ]
    },
    {
      "cell_type": "markdown",
      "metadata": {
        "id": "UcAjswLlfYf7"
      },
      "source": [
        "# <font color='blue'>Ciência dos Dados - Módulo 3 </font>\n",
        "\n",
        "# <font color='grey'>Ferramentas de Machine Learning</font>"
      ]
    },
    {
      "cell_type": "markdown",
      "metadata": {
        "id": "wppXZTagfYf8"
      },
      "source": [
        "http://scikit-learn.org/stable/modules/naive_bayes.html"
      ]
    },
    {
      "cell_type": "markdown",
      "metadata": {
        "id": "yxwafUOHfYf8"
      },
      "source": [
        "## Gaussian Naive Bayes (GaussianNB) - Scikit-Learn"
      ]
    },
    {
      "cell_type": "markdown",
      "metadata": {
        "id": "JXLPfXmLm7fv"
      },
      "source": [
        "O algoritmo “Naive Bayes” é **um classificador probabilístico** muito utilizado em machine learning. Baseado no “Teorema de Bayes”, o modelo foi criado por um matemático inglês chamado Thomas Bayes"
      ]
    },
    {
      "cell_type": "markdown",
      "metadata": {
        "id": "OV7ZyofrnFbA"
      },
      "source": [
        "Casos de Uso Prático\n",
        "\n",
        "* Hoje é também utilizado na área de Aprendizado de Máquina (Machine Learning) para **categorizar textos** com base na frequência das palavras usadas.\n",
        "* Frequentemente aplicado em **processamento de linguagem natural** e **diagnósticos médicos**\n",
        "* **Filtragem de SPAM** e **análise de sentimento** em redes sociais são algumas das muitas aplicações para o algoritmo.\n",
        "* o algoritmo é muito robusto para **previsões em tempo real**, ainda mais por precisar de poucos dados para realizar a classificação."
      ]
    },
    {
      "cell_type": "markdown",
      "metadata": {
        "id": "Rb57jAGkfYf-"
      },
      "source": [
        "http://scikit-learn.org/stable/modules/generated/sklearn.naive_bayes.GaussianNB.html"
      ]
    },
    {
      "cell_type": "markdown",
      "metadata": {
        "id": "uDAM72ExfYf_"
      },
      "source": [
        "### Gaussian Naive Bayes - Exemplo 1"
      ]
    },
    {
      "cell_type": "code",
      "metadata": {
        "id": "gLcFGf-tfYf_",
        "outputId": "c6c78d9c-9534-43ce-be22-ec12df326607",
        "colab": {
          "base_uri": "https://localhost:8080/"
        }
      },
      "source": [
        "# Gaussian Naive Bayes - Exemplo 1\n",
        "from sklearn import datasets\n",
        "from sklearn.naive_bayes import GaussianNB\n",
        "\n",
        "# Dataset\n",
        "iris = datasets.load_iris()\n",
        "\n",
        "# Classificador\n",
        "clf = GaussianNB()\n",
        "\n",
        "# Modelo\n",
        "modelo = clf.fit(iris.data, iris.target)\n",
        "\n",
        "# Previsões\n",
        "y_pred = modelo.predict(iris.data)\n",
        "\n",
        "# Imprime o resultado\n",
        "print(\"Total de Observações: %d - Total de Previsões Incorretas : %d\"\n",
        "      % (iris.data.shape[0],(iris.target != y_pred).sum()))"
      ],
      "execution_count": null,
      "outputs": [
        {
          "output_type": "stream",
          "name": "stdout",
          "text": [
            "Total de Observações: 150 - Total de Previsões Incorretas : 6\n"
          ]
        }
      ]
    },
    {
      "cell_type": "markdown",
      "metadata": {
        "id": "vGYA7coOfYgD"
      },
      "source": [
        "### Gaussian Naive Bayes - Exemplo 2"
      ]
    },
    {
      "cell_type": "code",
      "metadata": {
        "id": "ltOrE-nwfYgD",
        "outputId": "321d61c9-cf84-4780-9048-c7696f77cad4",
        "colab": {
          "base_uri": "https://localhost:8080/"
        }
      },
      "source": [
        "# Gaussian Naive Bayes - Exemplo 2\n",
        "from sklearn import datasets\n",
        "from sklearn import metrics\n",
        "from sklearn.naive_bayes import GaussianNB\n",
        "\n",
        "# Dataset\n",
        "base_iris = datasets.load_iris()\n",
        "\n",
        "# Classificador\n",
        "clf = GaussianNB()\n",
        "\n",
        "# Modelo\n",
        "modelo = clf.fit(base_iris.data, base_iris.target)\n",
        "print(modelo)\n",
        "\n",
        "# Previsões\n",
        "observado = base_iris.target\n",
        "previsto = modelo.predict(base_iris.data)\n",
        "\n",
        "# Sumário\n",
        "print(metrics.classification_report(observado, previsto))\n",
        "print(metrics.confusion_matrix(observado, previsto))"
      ],
      "execution_count": null,
      "outputs": [
        {
          "output_type": "stream",
          "name": "stdout",
          "text": [
            "GaussianNB()\n",
            "              precision    recall  f1-score   support\n",
            "\n",
            "           0       1.00      1.00      1.00        50\n",
            "           1       0.94      0.94      0.94        50\n",
            "           2       0.94      0.94      0.94        50\n",
            "\n",
            "    accuracy                           0.96       150\n",
            "   macro avg       0.96      0.96      0.96       150\n",
            "weighted avg       0.96      0.96      0.96       150\n",
            "\n",
            "[[50  0  0]\n",
            " [ 0 47  3]\n",
            " [ 0  3 47]]\n"
          ]
        }
      ]
    },
    {
      "cell_type": "markdown",
      "metadata": {
        "id": "tXcIARvXfYgc"
      },
      "source": [
        "# Fim"
      ]
    },
    {
      "cell_type": "markdown",
      "metadata": {
        "id": "OHE1q_LkfYgd"
      },
      "source": [
        "### Ciências dos Dados - <a href=\"http://facebook.com/cienciadosdadosbr\">facebook.com/cienciadosdadosbr</a>"
      ]
    }
  ]
}