{
  "nbformat": 4,
  "nbformat_minor": 0,
  "metadata": {
    "colab": {
      "provenance": [],
      "collapsed_sections": [
        "ptklM-3-OpPl",
        "nA529ZIEOv4f"
      ],
      "include_colab_link": true
    },
    "kernelspec": {
      "name": "python3",
      "display_name": "Python 3"
    }
  },
  "cells": [
    {
      "cell_type": "markdown",
      "metadata": {
        "id": "view-in-github",
        "colab_type": "text"
      },
      "source": [
        "<a href=\"https://colab.research.google.com/github/renatamontanhana/Machine_Learning_Algoritmo_Naive_Bayes_CDPRO/blob/main/M5A28_Naive_bayes.ipynb\" target=\"_parent\"><img src=\"https://colab.research.google.com/assets/colab-badge.svg\" alt=\"Open In Colab\"/></a>"
      ]
    },
    {
      "cell_type": "markdown",
      "metadata": {
        "id": "nB-56sFRCbnY"
      },
      "source": [
        "![alt text](https://encrypted-tbn0.gstatic.com/images?q=tbn%3AANd9GcTK4gQ9nhwHHaSXMHpeggWg7twwMCgb877smkRmtkmDeDoGF9Z6&usqp=CAU)"
      ]
    },
    {
      "cell_type": "markdown",
      "metadata": {
        "id": "ud17x6k1Cbng"
      },
      "source": [
        "# <font color='BLUE'>Cientista de Dados na Prática </font>\n",
        "\n",
        "# <font color='Purple'>Módulo 5 - Máquinas Preditivas</font>\n",
        "\n",
        "### <font color='GREY'> Naive Bayes </font>  \n",
        "\n",
        "\n",
        "\n",
        "http://scikit-learn.org/stable/modules/naive_bayes.html\n",
        "\n"
      ]
    },
    {
      "cell_type": "markdown",
      "metadata": {
        "id": "qF9sLXQZPGme"
      },
      "source": [
        "![alt text](data:image/jpeg;base64,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)"
      ]
    },
    {
      "cell_type": "markdown",
      "metadata": {
        "id": "pE3Eiq5AxCMt"
      },
      "source": [
        "### **Teorema de Bayes:**\n",
        "\n",
        "O teorema de Bayes descreve a probabilidade de um evento, baseado em um conhecimento a priori que pode estar relacionado ao evento. O teorema mostra como alterar as probabilidades a priori tendo em vista novas evidências para obter probabilidades a posteriori."
      ]
    },
    {
      "cell_type": "markdown",
      "metadata": {
        "id": "6LmQ6Y3OLPAb"
      },
      "source": [
        "## Tipos:\n",
        "\n",
        "\n",
        "\n",
        "**Gaussiano**:  é usado na classificação e assume que as características seguem uma distribuição normal. Algoritmo Não-Linear. Calcula a Probabilidade de cada classe e a **probabilidade** condicional de cada **classe** dado uma variável de entrada. As probabilidades são então estimadas para os novos dados e multiplicadas, assumindo que são independentes (suposição simples ou Naive). Assume dados em distribuição Gaussiana (Normal)\n",
        "\n",
        "\n",
        "**Multinomial** :  É usado para contagens discretas. Por exemplo, digamos que temos um problema de **classificação de texto**. Aqui podemos considerar os testes de Bernoulli, que é um passo adiante e em vez de \"palavra ocorrendo no documento\", temos \"contar quantas vezes a palavra ocorre no documento\", você pode pensar nisso como \"número de vezes que o número de resultado x_i é observado ao longo das n tentativas ”.\n",
        "\n",
        "\n",
        "**Bernoulli** :  O modelo binomial é útil se seus vetores de características são **binários (ou seja, zeros e uns)**. Uma aplicação seria a classificação de texto com o modelo de 'saco de palavras' onde os 1s e 0s são “a palavra ocorre no documento” e “a palavra não ocorre no documento”, respectivamente."
      ]
    },
    {
      "cell_type": "markdown",
      "metadata": {
        "id": "P_jKW74KNiP8"
      },
      "source": [
        "## Dicas para melhorar o poder do modelo Naive Bayes"
      ]
    },
    {
      "cell_type": "markdown",
      "metadata": {
        "id": "OE0mgB5rNkqf"
      },
      "source": [
        "*   Se os recursos contínuos não tiverem distribuição normal, devemos usar transformação ou métodos diferentes para convertê-los em distribuição normal.\n",
        "*   Remova os recursos correlacionados, pois os recursos altamente correlacionados são votados duas vezes no modelo e isso pode levar a um aumento excessivo da importância.\n",
        "\n",
        "\n",
        "\n"
      ]
    },
    {
      "cell_type": "markdown",
      "metadata": {
        "id": "ptklM-3-OpPl"
      },
      "source": [
        "# <font color='Black'> Caso Prático 1 </font>"
      ]
    },
    {
      "cell_type": "markdown",
      "metadata": {
        "id": "378E86aRRCdw"
      },
      "source": [
        "Tarefas de classificação. Ex: Classificação de Flores"
      ]
    },
    {
      "cell_type": "code",
      "metadata": {
        "id": "xa4GRdIhGrG-",
        "colab": {
          "base_uri": "https://localhost:8080/"
        },
        "outputId": "2e5864d4-804e-428e-d0a3-7fa202123c05"
      },
      "source": [
        "# Gaussian Naive Bayes - Exemplo 1\n",
        "\n",
        "from sklearn import datasets\n",
        "from sklearn import metrics\n",
        "from sklearn.naive_bayes import GaussianNB\n",
        "\n",
        "# Dataset\n",
        "dataset = datasets.load_iris()\n",
        "\n",
        "#Padronização das features\n",
        "from sklearn.datasets import load_iris\n",
        "from sklearn.preprocessing import StandardScaler\n",
        "import pandas as pd\n",
        "\n",
        "# Carregando o conjunto de dados Iris\n",
        "iris = load_iris()\n",
        "\n",
        "# Criando um DataFrame pandas\n",
        "data = pd.DataFrame(data=iris.data, columns=iris.feature_names)\n",
        "\n",
        "# Exibindo as primeiras linhas do DataFrame antes da padronização\n",
        "print(\"Antes da padronização:\")\n",
        "print(data.head())\n",
        "\n",
        "# Selecionando apenas as colunas que você deseja padronizar\n",
        "features_to_standardize = data.columns\n",
        "\n",
        "# Inicializando o objeto StandardScaler\n",
        "scaler = StandardScaler()\n",
        "\n",
        "# Ajustando e transformando as features selecionadas\n",
        "data[features_to_standardize] = scaler.fit_transform(data[features_to_standardize])\n",
        "\n",
        "# Exibindo as primeiras linhas do DataFrame após a padronização\n",
        "print(\"\\nApós a padronização:\")\n",
        "print(data.head())\n"
      ],
      "execution_count": 8,
      "outputs": [
        {
          "output_type": "stream",
          "name": "stdout",
          "text": [
            "Antes da padronização:\n",
            "   sepal length (cm)  sepal width (cm)  petal length (cm)  petal width (cm)\n",
            "0                5.1               3.5                1.4               0.2\n",
            "1                4.9               3.0                1.4               0.2\n",
            "2                4.7               3.2                1.3               0.2\n",
            "3                4.6               3.1                1.5               0.2\n",
            "4                5.0               3.6                1.4               0.2\n",
            "\n",
            "Após a padronização:\n",
            "   sepal length (cm)  sepal width (cm)  petal length (cm)  petal width (cm)\n",
            "0          -0.900681          1.019004          -1.340227         -1.315444\n",
            "1          -1.143017         -0.131979          -1.340227         -1.315444\n",
            "2          -1.385353          0.328414          -1.397064         -1.315444\n",
            "3          -1.506521          0.098217          -1.283389         -1.315444\n",
            "4          -1.021849          1.249201          -1.340227         -1.315444\n"
          ]
        }
      ]
    },
    {
      "cell_type": "code",
      "metadata": {
        "id": "ntnik7ZQ0NJp",
        "colab": {
          "base_uri": "https://localhost:8080/"
        },
        "outputId": "9470cff0-f2f8-4725-c6eb-cc65d2b544e0"
      },
      "source": [
        "# Dicionário\n",
        "dataset.data"
      ],
      "execution_count": 9,
      "outputs": [
        {
          "output_type": "execute_result",
          "data": {
            "text/plain": [
              "array([[5.1, 3.5, 1.4, 0.2],\n",
              "       [4.9, 3. , 1.4, 0.2],\n",
              "       [4.7, 3.2, 1.3, 0.2],\n",
              "       [4.6, 3.1, 1.5, 0.2],\n",
              "       [5. , 3.6, 1.4, 0.2],\n",
              "       [5.4, 3.9, 1.7, 0.4],\n",
              "       [4.6, 3.4, 1.4, 0.3],\n",
              "       [5. , 3.4, 1.5, 0.2],\n",
              "       [4.4, 2.9, 1.4, 0.2],\n",
              "       [4.9, 3.1, 1.5, 0.1],\n",
              "       [5.4, 3.7, 1.5, 0.2],\n",
              "       [4.8, 3.4, 1.6, 0.2],\n",
              "       [4.8, 3. , 1.4, 0.1],\n",
              "       [4.3, 3. , 1.1, 0.1],\n",
              "       [5.8, 4. , 1.2, 0.2],\n",
              "       [5.7, 4.4, 1.5, 0.4],\n",
              "       [5.4, 3.9, 1.3, 0.4],\n",
              "       [5.1, 3.5, 1.4, 0.3],\n",
              "       [5.7, 3.8, 1.7, 0.3],\n",
              "       [5.1, 3.8, 1.5, 0.3],\n",
              "       [5.4, 3.4, 1.7, 0.2],\n",
              "       [5.1, 3.7, 1.5, 0.4],\n",
              "       [4.6, 3.6, 1. , 0.2],\n",
              "       [5.1, 3.3, 1.7, 0.5],\n",
              "       [4.8, 3.4, 1.9, 0.2],\n",
              "       [5. , 3. , 1.6, 0.2],\n",
              "       [5. , 3.4, 1.6, 0.4],\n",
              "       [5.2, 3.5, 1.5, 0.2],\n",
              "       [5.2, 3.4, 1.4, 0.2],\n",
              "       [4.7, 3.2, 1.6, 0.2],\n",
              "       [4.8, 3.1, 1.6, 0.2],\n",
              "       [5.4, 3.4, 1.5, 0.4],\n",
              "       [5.2, 4.1, 1.5, 0.1],\n",
              "       [5.5, 4.2, 1.4, 0.2],\n",
              "       [4.9, 3.1, 1.5, 0.2],\n",
              "       [5. , 3.2, 1.2, 0.2],\n",
              "       [5.5, 3.5, 1.3, 0.2],\n",
              "       [4.9, 3.6, 1.4, 0.1],\n",
              "       [4.4, 3. , 1.3, 0.2],\n",
              "       [5.1, 3.4, 1.5, 0.2],\n",
              "       [5. , 3.5, 1.3, 0.3],\n",
              "       [4.5, 2.3, 1.3, 0.3],\n",
              "       [4.4, 3.2, 1.3, 0.2],\n",
              "       [5. , 3.5, 1.6, 0.6],\n",
              "       [5.1, 3.8, 1.9, 0.4],\n",
              "       [4.8, 3. , 1.4, 0.3],\n",
              "       [5.1, 3.8, 1.6, 0.2],\n",
              "       [4.6, 3.2, 1.4, 0.2],\n",
              "       [5.3, 3.7, 1.5, 0.2],\n",
              "       [5. , 3.3, 1.4, 0.2],\n",
              "       [7. , 3.2, 4.7, 1.4],\n",
              "       [6.4, 3.2, 4.5, 1.5],\n",
              "       [6.9, 3.1, 4.9, 1.5],\n",
              "       [5.5, 2.3, 4. , 1.3],\n",
              "       [6.5, 2.8, 4.6, 1.5],\n",
              "       [5.7, 2.8, 4.5, 1.3],\n",
              "       [6.3, 3.3, 4.7, 1.6],\n",
              "       [4.9, 2.4, 3.3, 1. ],\n",
              "       [6.6, 2.9, 4.6, 1.3],\n",
              "       [5.2, 2.7, 3.9, 1.4],\n",
              "       [5. , 2. , 3.5, 1. ],\n",
              "       [5.9, 3. , 4.2, 1.5],\n",
              "       [6. , 2.2, 4. , 1. ],\n",
              "       [6.1, 2.9, 4.7, 1.4],\n",
              "       [5.6, 2.9, 3.6, 1.3],\n",
              "       [6.7, 3.1, 4.4, 1.4],\n",
              "       [5.6, 3. , 4.5, 1.5],\n",
              "       [5.8, 2.7, 4.1, 1. ],\n",
              "       [6.2, 2.2, 4.5, 1.5],\n",
              "       [5.6, 2.5, 3.9, 1.1],\n",
              "       [5.9, 3.2, 4.8, 1.8],\n",
              "       [6.1, 2.8, 4. , 1.3],\n",
              "       [6.3, 2.5, 4.9, 1.5],\n",
              "       [6.1, 2.8, 4.7, 1.2],\n",
              "       [6.4, 2.9, 4.3, 1.3],\n",
              "       [6.6, 3. , 4.4, 1.4],\n",
              "       [6.8, 2.8, 4.8, 1.4],\n",
              "       [6.7, 3. , 5. , 1.7],\n",
              "       [6. , 2.9, 4.5, 1.5],\n",
              "       [5.7, 2.6, 3.5, 1. ],\n",
              "       [5.5, 2.4, 3.8, 1.1],\n",
              "       [5.5, 2.4, 3.7, 1. ],\n",
              "       [5.8, 2.7, 3.9, 1.2],\n",
              "       [6. , 2.7, 5.1, 1.6],\n",
              "       [5.4, 3. , 4.5, 1.5],\n",
              "       [6. , 3.4, 4.5, 1.6],\n",
              "       [6.7, 3.1, 4.7, 1.5],\n",
              "       [6.3, 2.3, 4.4, 1.3],\n",
              "       [5.6, 3. , 4.1, 1.3],\n",
              "       [5.5, 2.5, 4. , 1.3],\n",
              "       [5.5, 2.6, 4.4, 1.2],\n",
              "       [6.1, 3. , 4.6, 1.4],\n",
              "       [5.8, 2.6, 4. , 1.2],\n",
              "       [5. , 2.3, 3.3, 1. ],\n",
              "       [5.6, 2.7, 4.2, 1.3],\n",
              "       [5.7, 3. , 4.2, 1.2],\n",
              "       [5.7, 2.9, 4.2, 1.3],\n",
              "       [6.2, 2.9, 4.3, 1.3],\n",
              "       [5.1, 2.5, 3. , 1.1],\n",
              "       [5.7, 2.8, 4.1, 1.3],\n",
              "       [6.3, 3.3, 6. , 2.5],\n",
              "       [5.8, 2.7, 5.1, 1.9],\n",
              "       [7.1, 3. , 5.9, 2.1],\n",
              "       [6.3, 2.9, 5.6, 1.8],\n",
              "       [6.5, 3. , 5.8, 2.2],\n",
              "       [7.6, 3. , 6.6, 2.1],\n",
              "       [4.9, 2.5, 4.5, 1.7],\n",
              "       [7.3, 2.9, 6.3, 1.8],\n",
              "       [6.7, 2.5, 5.8, 1.8],\n",
              "       [7.2, 3.6, 6.1, 2.5],\n",
              "       [6.5, 3.2, 5.1, 2. ],\n",
              "       [6.4, 2.7, 5.3, 1.9],\n",
              "       [6.8, 3. , 5.5, 2.1],\n",
              "       [5.7, 2.5, 5. , 2. ],\n",
              "       [5.8, 2.8, 5.1, 2.4],\n",
              "       [6.4, 3.2, 5.3, 2.3],\n",
              "       [6.5, 3. , 5.5, 1.8],\n",
              "       [7.7, 3.8, 6.7, 2.2],\n",
              "       [7.7, 2.6, 6.9, 2.3],\n",
              "       [6. , 2.2, 5. , 1.5],\n",
              "       [6.9, 3.2, 5.7, 2.3],\n",
              "       [5.6, 2.8, 4.9, 2. ],\n",
              "       [7.7, 2.8, 6.7, 2. ],\n",
              "       [6.3, 2.7, 4.9, 1.8],\n",
              "       [6.7, 3.3, 5.7, 2.1],\n",
              "       [7.2, 3.2, 6. , 1.8],\n",
              "       [6.2, 2.8, 4.8, 1.8],\n",
              "       [6.1, 3. , 4.9, 1.8],\n",
              "       [6.4, 2.8, 5.6, 2.1],\n",
              "       [7.2, 3. , 5.8, 1.6],\n",
              "       [7.4, 2.8, 6.1, 1.9],\n",
              "       [7.9, 3.8, 6.4, 2. ],\n",
              "       [6.4, 2.8, 5.6, 2.2],\n",
              "       [6.3, 2.8, 5.1, 1.5],\n",
              "       [6.1, 2.6, 5.6, 1.4],\n",
              "       [7.7, 3. , 6.1, 2.3],\n",
              "       [6.3, 3.4, 5.6, 2.4],\n",
              "       [6.4, 3.1, 5.5, 1.8],\n",
              "       [6. , 3. , 4.8, 1.8],\n",
              "       [6.9, 3.1, 5.4, 2.1],\n",
              "       [6.7, 3.1, 5.6, 2.4],\n",
              "       [6.9, 3.1, 5.1, 2.3],\n",
              "       [5.8, 2.7, 5.1, 1.9],\n",
              "       [6.8, 3.2, 5.9, 2.3],\n",
              "       [6.7, 3.3, 5.7, 2.5],\n",
              "       [6.7, 3. , 5.2, 2.3],\n",
              "       [6.3, 2.5, 5. , 1.9],\n",
              "       [6.5, 3. , 5.2, 2. ],\n",
              "       [6.2, 3.4, 5.4, 2.3],\n",
              "       [5.9, 3. , 5.1, 1.8]])"
            ]
          },
          "metadata": {},
          "execution_count": 9
        }
      ]
    },
    {
      "cell_type": "code",
      "metadata": {
        "id": "WmzhGzme0h4E",
        "colab": {
          "base_uri": "https://localhost:8080/"
        },
        "outputId": "4a1896bd-9068-44b0-adaa-65a571a8bd8f"
      },
      "source": [
        "dataset.target"
      ],
      "execution_count": 3,
      "outputs": [
        {
          "output_type": "execute_result",
          "data": {
            "text/plain": [
              "array([0, 0, 0, 0, 0, 0, 0, 0, 0, 0, 0, 0, 0, 0, 0, 0, 0, 0, 0, 0, 0, 0,\n",
              "       0, 0, 0, 0, 0, 0, 0, 0, 0, 0, 0, 0, 0, 0, 0, 0, 0, 0, 0, 0, 0, 0,\n",
              "       0, 0, 0, 0, 0, 0, 1, 1, 1, 1, 1, 1, 1, 1, 1, 1, 1, 1, 1, 1, 1, 1,\n",
              "       1, 1, 1, 1, 1, 1, 1, 1, 1, 1, 1, 1, 1, 1, 1, 1, 1, 1, 1, 1, 1, 1,\n",
              "       1, 1, 1, 1, 1, 1, 1, 1, 1, 1, 1, 1, 2, 2, 2, 2, 2, 2, 2, 2, 2, 2,\n",
              "       2, 2, 2, 2, 2, 2, 2, 2, 2, 2, 2, 2, 2, 2, 2, 2, 2, 2, 2, 2, 2, 2,\n",
              "       2, 2, 2, 2, 2, 2, 2, 2, 2, 2, 2, 2, 2, 2, 2, 2, 2, 2])"
            ]
          },
          "metadata": {},
          "execution_count": 3
        }
      ]
    },
    {
      "cell_type": "code",
      "metadata": {
        "id": "si0M2u5i0Lc3",
        "colab": {
          "base_uri": "https://localhost:8080/"
        },
        "outputId": "d941ff39-3677-4a49-ccbf-c7a6f6724c5d"
      },
      "source": [
        "#Padronização das features (dever de casa)\n",
        "\n",
        "# Classificador\n",
        "clf = GaussianNB()\n",
        "\n",
        "# Modelo\n",
        "modelo = clf.fit(dataset.data, dataset.target)\n",
        "print(modelo)\n",
        "\n"
      ],
      "execution_count": 4,
      "outputs": [
        {
          "output_type": "stream",
          "name": "stdout",
          "text": [
            "GaussianNB()\n"
          ]
        }
      ]
    },
    {
      "cell_type": "code",
      "metadata": {
        "id": "bn-BaCyE0tsZ"
      },
      "source": [
        "# Previsões\n",
        "observado = dataset.target\n",
        "previsto = modelo.predict(dataset.data)\n",
        "\n"
      ],
      "execution_count": 5,
      "outputs": []
    },
    {
      "cell_type": "code",
      "metadata": {
        "id": "miWNRR-v04Fg",
        "colab": {
          "base_uri": "https://localhost:8080/"
        },
        "outputId": "096acae7-7794-455f-9b3f-78c9a429239f"
      },
      "source": [
        "# Sumário\n",
        "print(metrics.classification_report(observado, previsto))\n",
        "print(metrics.confusion_matrix(observado, previsto))"
      ],
      "execution_count": 6,
      "outputs": [
        {
          "output_type": "stream",
          "name": "stdout",
          "text": [
            "              precision    recall  f1-score   support\n",
            "\n",
            "           0       1.00      1.00      1.00        50\n",
            "           1       0.94      0.94      0.94        50\n",
            "           2       0.94      0.94      0.94        50\n",
            "\n",
            "    accuracy                           0.96       150\n",
            "   macro avg       0.96      0.96      0.96       150\n",
            "weighted avg       0.96      0.96      0.96       150\n",
            "\n",
            "[[50  0  0]\n",
            " [ 0 47  3]\n",
            " [ 0  3 47]]\n"
          ]
        }
      ]
    },
    {
      "cell_type": "markdown",
      "metadata": {
        "id": "nA529ZIEOv4f"
      },
      "source": [
        "# <font color='Black'> Caso Prático 2 </font>"
      ]
    },
    {
      "cell_type": "markdown",
      "metadata": {
        "id": "xlBcIJP8S7Uf"
      },
      "source": [
        "#### Classificação de Diabetes"
      ]
    },
    {
      "cell_type": "code",
      "metadata": {
        "id": "iajXLZX0S7Ug"
      },
      "source": [
        "# Import dos módulos\n",
        "from pandas import read_csv\n",
        "from sklearn.model_selection import KFold\n",
        "from sklearn.model_selection import cross_val_score\n",
        "from sklearn.naive_bayes import GaussianNB\n",
        "\n"
      ],
      "execution_count": null,
      "outputs": []
    },
    {
      "cell_type": "code",
      "metadata": {
        "id": "yz8GXZVO2Osn"
      },
      "source": [
        "# Carregando os dados\n",
        "arquivo = 'pima-data.csv'\n",
        "colunas = ['preg', 'plas', 'pres', 'skin', 'test', 'mass', 'pedi', 'age', 'class']\n",
        "dados = read_csv(arquivo, names = colunas)\n",
        "array = dados.values\n",
        "array\n"
      ],
      "execution_count": null,
      "outputs": []
    },
    {
      "cell_type": "code",
      "metadata": {
        "id": "levSEOAY2xLx"
      },
      "source": [
        "# Separando o array em componentes de input e output\n",
        "X = array[:,0:8]\n",
        "Y = array[:,8]"
      ],
      "execution_count": null,
      "outputs": []
    },
    {
      "cell_type": "code",
      "metadata": {
        "id": "y23KXnoS2cmf"
      },
      "source": [
        "# Definindo os valores para o número de folds\n",
        "num_folds = 10\n",
        "seed = 7\n",
        "\n",
        "# Separando os dados em folds\n",
        "kfold = KFold(num_folds, True, random_state = seed)\n",
        "\n"
      ],
      "execution_count": null,
      "outputs": []
    },
    {
      "cell_type": "code",
      "metadata": {
        "id": "7aO5ToU63UTv",
        "outputId": "2ac62c00-b46b-488d-c2e9-0918c0ae89b1",
        "colab": {
          "base_uri": "https://localhost:8080/"
        }
      },
      "source": [
        "# Criando o modelo\n",
        "modelo = GaussianNB()\n",
        "\n",
        "# Cross Validation\n",
        "resultado = cross_val_score(modelo, X, Y, cv = kfold)\n",
        "\n",
        "# Print do resultado\n",
        "print(\"Acurácia: %.3f\" % (resultado.mean() * 100))"
      ],
      "execution_count": null,
      "outputs": [
        {
          "output_type": "stream",
          "text": [
            "Acurácia: 75.914\n"
          ],
          "name": "stdout"
        }
      ]
    },
    {
      "cell_type": "markdown",
      "metadata": {
        "id": "W_DOsGMFOLgE"
      },
      "source": [
        "## Exemplos adicionais:\n",
        "https://scikit-learn.org/stable/modules/generated/sklearn.naive_bayes.GaussianNB.html\n"
      ]
    },
    {
      "cell_type": "markdown",
      "metadata": {
        "id": "XTRc7NjBKG65"
      },
      "source": [
        "# Fim"
      ]
    },
    {
      "cell_type": "markdown",
      "metadata": {
        "id": "_fHqFSvWe94c"
      },
      "source": [
        "## Valeu!"
      ]
    },
    {
      "cell_type": "markdown",
      "metadata": {
        "id": "2r1o8LDDzj16"
      },
      "source": [
        "### #Links - Ciencia dos Dados <a href=\"https://linktr.ee/cienciadosdados\">https://linktr.ee/cienciadosdados</a>"
      ]
    }
  ]
}